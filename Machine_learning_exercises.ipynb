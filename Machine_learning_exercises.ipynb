{
  "nbformat": 4,
  "nbformat_minor": 0,
  "metadata": {
    "colab": {
      "provenance": [],
      "authorship_tag": "ABX9TyOz0z3k3vEYK9JJs/L+Oi93",
      "include_colab_link": true
    },
    "kernelspec": {
      "name": "python3",
      "display_name": "Python 3"
    },
    "language_info": {
      "name": "python"
    }
  },
  "cells": [
    {
      "cell_type": "markdown",
      "metadata": {
        "id": "view-in-github",
        "colab_type": "text"
      },
      "source": [
        "<a href=\"https://colab.research.google.com/github/Cedrik-Black/Data_science/blob/master/Machine_learning_exercises.ipynb\" target=\"_parent\"><img src=\"https://colab.research.google.com/assets/colab-badge.svg\" alt=\"Open In Colab\"/></a>"
      ]
    },
    {
      "cell_type": "markdown",
      "source": [
        "Ćwiczenie 1"
      ],
      "metadata": {
        "id": "9GCZnKGtbASB"
      }
    },
    {
      "cell_type": "code",
      "source": [
        "import numpy as np\n",
        "import pandas as pd\n",
        "\n",
        "\n",
        "data = {\n",
        "    'size': ['XL', 'L', 'M', np.nan, 'M', 'M'],\n",
        "    'color': ['red', 'green', 'blue', 'green', 'red', 'green'],\n",
        "    'gender': ['female', 'male', np.nan, 'female', 'female', 'male'],\n",
        "    'price': [199.0, 89.0, np.nan, 129.0, 79.0, 89.0],\n",
        "    'weight': [500, 450, 300, np.nan, 410, np.nan],\n",
        "    'bought': ['yes', 'no', 'yes', 'no', 'yes', 'no']\n",
        "}\n",
        "\n",
        "df = pd.DataFrame(data)\n",
        "round(df.isnull().sum() / len(df), 2)"
      ],
      "metadata": {
        "colab": {
          "base_uri": "https://localhost:8080/"
        },
        "id": "3V6K61BAbItr",
        "outputId": "7df18b8a-7ce1-4223-9cfa-28f2e1d66461"
      },
      "execution_count": null,
      "outputs": [
        {
          "output_type": "execute_result",
          "data": {
            "text/plain": [
              "size      0.17\n",
              "color     0.00\n",
              "gender    0.17\n",
              "price     0.17\n",
              "weight    0.33\n",
              "bought    0.00\n",
              "dtype: float64"
            ]
          },
          "metadata": {},
          "execution_count": 5
        }
      ]
    },
    {
      "cell_type": "markdown",
      "source": [
        "Ćwiczenie 2"
      ],
      "metadata": {
        "id": "t21J5YJGbZZ-"
      }
    },
    {
      "cell_type": "code",
      "source": [
        "import numpy as np\n",
        "import pandas as pd\n",
        "from sklearn.impute import SimpleImputer\n",
        "\n",
        "\n",
        "data = {\n",
        "    'size': ['XL', 'L', 'M', np.nan, 'M', 'M'],\n",
        "    'color': ['red', 'green', 'blue', 'green', 'red', 'green'],\n",
        "    'gender': ['female', 'male', np.nan, 'female', 'female', 'male'],\n",
        "    'price': [199.0, 89.0, np.nan, 129.0, 79.0, 89.0],\n",
        "    'weight': [500, 450, 300, np.nan, 410, np.nan],\n",
        "    'bought': ['yes', 'no', 'yes', 'no', 'yes', 'no']\n",
        "}\n",
        "\n",
        "df = pd.DataFrame(data=data)\n",
        "imputer = SimpleImputer(missing_values=np.nan, strategy='mean')\n",
        "df[['weight']] = imputer.fit_transform(df[['weight']])\n",
        "df"
      ],
      "metadata": {
        "colab": {
          "base_uri": "https://localhost:8080/",
          "height": 238
        },
        "id": "-G3GOiO_bdOG",
        "outputId": "a72363f0-7d15-4ebd-f1e1-a97022528273"
      },
      "execution_count": null,
      "outputs": [
        {
          "output_type": "execute_result",
          "data": {
            "text/plain": [
              "  size  color  gender  price  weight bought\n",
              "0   XL    red  female  199.0   500.0    yes\n",
              "1    L  green    male   89.0   450.0     no\n",
              "2    M   blue     NaN    NaN   300.0    yes\n",
              "3  NaN  green  female  129.0   415.0     no\n",
              "4    M    red  female   79.0   410.0    yes\n",
              "5    M  green    male   89.0   415.0     no"
            ],
            "text/html": [
              "\n",
              "  <div id=\"df-73f39b69-51d7-43ce-8a66-1d86d737b4c3\" class=\"colab-df-container\">\n",
              "    <div>\n",
              "<style scoped>\n",
              "    .dataframe tbody tr th:only-of-type {\n",
              "        vertical-align: middle;\n",
              "    }\n",
              "\n",
              "    .dataframe tbody tr th {\n",
              "        vertical-align: top;\n",
              "    }\n",
              "\n",
              "    .dataframe thead th {\n",
              "        text-align: right;\n",
              "    }\n",
              "</style>\n",
              "<table border=\"1\" class=\"dataframe\">\n",
              "  <thead>\n",
              "    <tr style=\"text-align: right;\">\n",
              "      <th></th>\n",
              "      <th>size</th>\n",
              "      <th>color</th>\n",
              "      <th>gender</th>\n",
              "      <th>price</th>\n",
              "      <th>weight</th>\n",
              "      <th>bought</th>\n",
              "    </tr>\n",
              "  </thead>\n",
              "  <tbody>\n",
              "    <tr>\n",
              "      <th>0</th>\n",
              "      <td>XL</td>\n",
              "      <td>red</td>\n",
              "      <td>female</td>\n",
              "      <td>199.0</td>\n",
              "      <td>500.0</td>\n",
              "      <td>yes</td>\n",
              "    </tr>\n",
              "    <tr>\n",
              "      <th>1</th>\n",
              "      <td>L</td>\n",
              "      <td>green</td>\n",
              "      <td>male</td>\n",
              "      <td>89.0</td>\n",
              "      <td>450.0</td>\n",
              "      <td>no</td>\n",
              "    </tr>\n",
              "    <tr>\n",
              "      <th>2</th>\n",
              "      <td>M</td>\n",
              "      <td>blue</td>\n",
              "      <td>NaN</td>\n",
              "      <td>NaN</td>\n",
              "      <td>300.0</td>\n",
              "      <td>yes</td>\n",
              "    </tr>\n",
              "    <tr>\n",
              "      <th>3</th>\n",
              "      <td>NaN</td>\n",
              "      <td>green</td>\n",
              "      <td>female</td>\n",
              "      <td>129.0</td>\n",
              "      <td>415.0</td>\n",
              "      <td>no</td>\n",
              "    </tr>\n",
              "    <tr>\n",
              "      <th>4</th>\n",
              "      <td>M</td>\n",
              "      <td>red</td>\n",
              "      <td>female</td>\n",
              "      <td>79.0</td>\n",
              "      <td>410.0</td>\n",
              "      <td>yes</td>\n",
              "    </tr>\n",
              "    <tr>\n",
              "      <th>5</th>\n",
              "      <td>M</td>\n",
              "      <td>green</td>\n",
              "      <td>male</td>\n",
              "      <td>89.0</td>\n",
              "      <td>415.0</td>\n",
              "      <td>no</td>\n",
              "    </tr>\n",
              "  </tbody>\n",
              "</table>\n",
              "</div>\n",
              "    <div class=\"colab-df-buttons\">\n",
              "\n",
              "  <div class=\"colab-df-container\">\n",
              "    <button class=\"colab-df-convert\" onclick=\"convertToInteractive('df-73f39b69-51d7-43ce-8a66-1d86d737b4c3')\"\n",
              "            title=\"Convert this dataframe to an interactive table.\"\n",
              "            style=\"display:none;\">\n",
              "\n",
              "  <svg xmlns=\"http://www.w3.org/2000/svg\" height=\"24px\" viewBox=\"0 -960 960 960\">\n",
              "    <path d=\"M120-120v-720h720v720H120Zm60-500h600v-160H180v160Zm220 220h160v-160H400v160Zm0 220h160v-160H400v160ZM180-400h160v-160H180v160Zm440 0h160v-160H620v160ZM180-180h160v-160H180v160Zm440 0h160v-160H620v160Z\"/>\n",
              "  </svg>\n",
              "    </button>\n",
              "\n",
              "  <style>\n",
              "    .colab-df-container {\n",
              "      display:flex;\n",
              "      gap: 12px;\n",
              "    }\n",
              "\n",
              "    .colab-df-convert {\n",
              "      background-color: #E8F0FE;\n",
              "      border: none;\n",
              "      border-radius: 50%;\n",
              "      cursor: pointer;\n",
              "      display: none;\n",
              "      fill: #1967D2;\n",
              "      height: 32px;\n",
              "      padding: 0 0 0 0;\n",
              "      width: 32px;\n",
              "    }\n",
              "\n",
              "    .colab-df-convert:hover {\n",
              "      background-color: #E2EBFA;\n",
              "      box-shadow: 0px 1px 2px rgba(60, 64, 67, 0.3), 0px 1px 3px 1px rgba(60, 64, 67, 0.15);\n",
              "      fill: #174EA6;\n",
              "    }\n",
              "\n",
              "    .colab-df-buttons div {\n",
              "      margin-bottom: 4px;\n",
              "    }\n",
              "\n",
              "    [theme=dark] .colab-df-convert {\n",
              "      background-color: #3B4455;\n",
              "      fill: #D2E3FC;\n",
              "    }\n",
              "\n",
              "    [theme=dark] .colab-df-convert:hover {\n",
              "      background-color: #434B5C;\n",
              "      box-shadow: 0px 1px 3px 1px rgba(0, 0, 0, 0.15);\n",
              "      filter: drop-shadow(0px 1px 2px rgba(0, 0, 0, 0.3));\n",
              "      fill: #FFFFFF;\n",
              "    }\n",
              "  </style>\n",
              "\n",
              "    <script>\n",
              "      const buttonEl =\n",
              "        document.querySelector('#df-73f39b69-51d7-43ce-8a66-1d86d737b4c3 button.colab-df-convert');\n",
              "      buttonEl.style.display =\n",
              "        google.colab.kernel.accessAllowed ? 'block' : 'none';\n",
              "\n",
              "      async function convertToInteractive(key) {\n",
              "        const element = document.querySelector('#df-73f39b69-51d7-43ce-8a66-1d86d737b4c3');\n",
              "        const dataTable =\n",
              "          await google.colab.kernel.invokeFunction('convertToInteractive',\n",
              "                                                    [key], {});\n",
              "        if (!dataTable) return;\n",
              "\n",
              "        const docLinkHtml = 'Like what you see? Visit the ' +\n",
              "          '<a target=\"_blank\" href=https://colab.research.google.com/notebooks/data_table.ipynb>data table notebook</a>'\n",
              "          + ' to learn more about interactive tables.';\n",
              "        element.innerHTML = '';\n",
              "        dataTable['output_type'] = 'display_data';\n",
              "        await google.colab.output.renderOutput(dataTable, element);\n",
              "        const docLink = document.createElement('div');\n",
              "        docLink.innerHTML = docLinkHtml;\n",
              "        element.appendChild(docLink);\n",
              "      }\n",
              "    </script>\n",
              "  </div>\n",
              "\n",
              "\n",
              "<div id=\"df-ef2f52d8-7504-41d3-8cab-f694d73ace8a\">\n",
              "  <button class=\"colab-df-quickchart\" onclick=\"quickchart('df-ef2f52d8-7504-41d3-8cab-f694d73ace8a')\"\n",
              "            title=\"Suggest charts\"\n",
              "            style=\"display:none;\">\n",
              "\n",
              "<svg xmlns=\"http://www.w3.org/2000/svg\" height=\"24px\"viewBox=\"0 0 24 24\"\n",
              "     width=\"24px\">\n",
              "    <g>\n",
              "        <path d=\"M19 3H5c-1.1 0-2 .9-2 2v14c0 1.1.9 2 2 2h14c1.1 0 2-.9 2-2V5c0-1.1-.9-2-2-2zM9 17H7v-7h2v7zm4 0h-2V7h2v10zm4 0h-2v-4h2v4z\"/>\n",
              "    </g>\n",
              "</svg>\n",
              "  </button>\n",
              "\n",
              "<style>\n",
              "  .colab-df-quickchart {\n",
              "      --bg-color: #E8F0FE;\n",
              "      --fill-color: #1967D2;\n",
              "      --hover-bg-color: #E2EBFA;\n",
              "      --hover-fill-color: #174EA6;\n",
              "      --disabled-fill-color: #AAA;\n",
              "      --disabled-bg-color: #DDD;\n",
              "  }\n",
              "\n",
              "  [theme=dark] .colab-df-quickchart {\n",
              "      --bg-color: #3B4455;\n",
              "      --fill-color: #D2E3FC;\n",
              "      --hover-bg-color: #434B5C;\n",
              "      --hover-fill-color: #FFFFFF;\n",
              "      --disabled-bg-color: #3B4455;\n",
              "      --disabled-fill-color: #666;\n",
              "  }\n",
              "\n",
              "  .colab-df-quickchart {\n",
              "    background-color: var(--bg-color);\n",
              "    border: none;\n",
              "    border-radius: 50%;\n",
              "    cursor: pointer;\n",
              "    display: none;\n",
              "    fill: var(--fill-color);\n",
              "    height: 32px;\n",
              "    padding: 0;\n",
              "    width: 32px;\n",
              "  }\n",
              "\n",
              "  .colab-df-quickchart:hover {\n",
              "    background-color: var(--hover-bg-color);\n",
              "    box-shadow: 0 1px 2px rgba(60, 64, 67, 0.3), 0 1px 3px 1px rgba(60, 64, 67, 0.15);\n",
              "    fill: var(--button-hover-fill-color);\n",
              "  }\n",
              "\n",
              "  .colab-df-quickchart-complete:disabled,\n",
              "  .colab-df-quickchart-complete:disabled:hover {\n",
              "    background-color: var(--disabled-bg-color);\n",
              "    fill: var(--disabled-fill-color);\n",
              "    box-shadow: none;\n",
              "  }\n",
              "\n",
              "  .colab-df-spinner {\n",
              "    border: 2px solid var(--fill-color);\n",
              "    border-color: transparent;\n",
              "    border-bottom-color: var(--fill-color);\n",
              "    animation:\n",
              "      spin 1s steps(1) infinite;\n",
              "  }\n",
              "\n",
              "  @keyframes spin {\n",
              "    0% {\n",
              "      border-color: transparent;\n",
              "      border-bottom-color: var(--fill-color);\n",
              "      border-left-color: var(--fill-color);\n",
              "    }\n",
              "    20% {\n",
              "      border-color: transparent;\n",
              "      border-left-color: var(--fill-color);\n",
              "      border-top-color: var(--fill-color);\n",
              "    }\n",
              "    30% {\n",
              "      border-color: transparent;\n",
              "      border-left-color: var(--fill-color);\n",
              "      border-top-color: var(--fill-color);\n",
              "      border-right-color: var(--fill-color);\n",
              "    }\n",
              "    40% {\n",
              "      border-color: transparent;\n",
              "      border-right-color: var(--fill-color);\n",
              "      border-top-color: var(--fill-color);\n",
              "    }\n",
              "    60% {\n",
              "      border-color: transparent;\n",
              "      border-right-color: var(--fill-color);\n",
              "    }\n",
              "    80% {\n",
              "      border-color: transparent;\n",
              "      border-right-color: var(--fill-color);\n",
              "      border-bottom-color: var(--fill-color);\n",
              "    }\n",
              "    90% {\n",
              "      border-color: transparent;\n",
              "      border-bottom-color: var(--fill-color);\n",
              "    }\n",
              "  }\n",
              "</style>\n",
              "\n",
              "  <script>\n",
              "    async function quickchart(key) {\n",
              "      const quickchartButtonEl =\n",
              "        document.querySelector('#' + key + ' button');\n",
              "      quickchartButtonEl.disabled = true;  // To prevent multiple clicks.\n",
              "      quickchartButtonEl.classList.add('colab-df-spinner');\n",
              "      try {\n",
              "        const charts = await google.colab.kernel.invokeFunction(\n",
              "            'suggestCharts', [key], {});\n",
              "      } catch (error) {\n",
              "        console.error('Error during call to suggestCharts:', error);\n",
              "      }\n",
              "      quickchartButtonEl.classList.remove('colab-df-spinner');\n",
              "      quickchartButtonEl.classList.add('colab-df-quickchart-complete');\n",
              "    }\n",
              "    (() => {\n",
              "      let quickchartButtonEl =\n",
              "        document.querySelector('#df-ef2f52d8-7504-41d3-8cab-f694d73ace8a button');\n",
              "      quickchartButtonEl.style.display =\n",
              "        google.colab.kernel.accessAllowed ? 'block' : 'none';\n",
              "    })();\n",
              "  </script>\n",
              "</div>\n",
              "    </div>\n",
              "  </div>\n"
            ],
            "application/vnd.google.colaboratory.intrinsic+json": {
              "type": "dataframe",
              "variable_name": "df",
              "summary": "{\n  \"name\": \"df\",\n  \"rows\": 6,\n  \"fields\": [\n    {\n      \"column\": \"size\",\n      \"properties\": {\n        \"dtype\": \"string\",\n        \"num_unique_values\": 3,\n        \"samples\": [\n          \"XL\",\n          \"L\",\n          \"M\"\n        ],\n        \"semantic_type\": \"\",\n        \"description\": \"\"\n      }\n    },\n    {\n      \"column\": \"color\",\n      \"properties\": {\n        \"dtype\": \"string\",\n        \"num_unique_values\": 3,\n        \"samples\": [\n          \"red\",\n          \"green\",\n          \"blue\"\n        ],\n        \"semantic_type\": \"\",\n        \"description\": \"\"\n      }\n    },\n    {\n      \"column\": \"gender\",\n      \"properties\": {\n        \"dtype\": \"category\",\n        \"num_unique_values\": 2,\n        \"samples\": [\n          \"male\",\n          \"female\"\n        ],\n        \"semantic_type\": \"\",\n        \"description\": \"\"\n      }\n    },\n    {\n      \"column\": \"price\",\n      \"properties\": {\n        \"dtype\": \"number\",\n        \"std\": 49.69909455915671,\n        \"min\": 79.0,\n        \"max\": 199.0,\n        \"num_unique_values\": 4,\n        \"samples\": [\n          89.0,\n          79.0\n        ],\n        \"semantic_type\": \"\",\n        \"description\": \"\"\n      }\n    },\n    {\n      \"column\": \"weight\",\n      \"properties\": {\n        \"dtype\": \"number\",\n        \"std\": 65.87867636800242,\n        \"min\": 300.0,\n        \"max\": 500.0,\n        \"num_unique_values\": 5,\n        \"samples\": [\n          450.0,\n          410.0\n        ],\n        \"semantic_type\": \"\",\n        \"description\": \"\"\n      }\n    },\n    {\n      \"column\": \"bought\",\n      \"properties\": {\n        \"dtype\": \"category\",\n        \"num_unique_values\": 2,\n        \"samples\": [\n          \"no\",\n          \"yes\"\n        ],\n        \"semantic_type\": \"\",\n        \"description\": \"\"\n      }\n    }\n  ]\n}"
            }
          },
          "metadata": {},
          "execution_count": 9
        }
      ]
    },
    {
      "cell_type": "markdown",
      "source": [
        "Ćwiczenie 3"
      ],
      "metadata": {
        "id": "W8xE08OJe6vA"
      }
    },
    {
      "cell_type": "code",
      "source": [
        "import numpy as np\n",
        "import pandas as pd\n",
        "from sklearn.impute import SimpleImputer\n",
        "\n",
        "\n",
        "data = {\n",
        "    'size': ['XL', 'L', 'M', np.nan, 'M', 'M'],\n",
        "    'color': ['red', 'green', 'blue', 'green', 'red', 'green'],\n",
        "    'gender': ['female', 'male', np.nan, 'female', 'female', 'male'],\n",
        "    'price': [199.0, 89.0, np.nan, 129.0, 79.0, 89.0],\n",
        "    'weight': [500, 450, 300, np.nan, 410, np.nan],\n",
        "    'bought': ['yes', 'no', 'yes', 'no', 'yes', 'no']\n",
        "}\n",
        "\n",
        "df = pd.DataFrame(data=data)\n",
        "imputer = SimpleImputer(\n",
        "    missing_values=np.nan, strategy='mean'\n",
        "    )\n",
        "df[['weight']] = imputer.fit_transform(df[['weight']])\n",
        "print(imputer.statistics_[0])"
      ],
      "metadata": {
        "colab": {
          "base_uri": "https://localhost:8080/"
        },
        "id": "dOqlBXT4e-b8",
        "outputId": "0bd18044-3ccb-4031-9598-85eb6d7a6bee"
      },
      "execution_count": null,
      "outputs": [
        {
          "output_type": "stream",
          "name": "stdout",
          "text": [
            "415.0\n"
          ]
        }
      ]
    },
    {
      "cell_type": "markdown",
      "source": [
        "Ćwiczenie 4"
      ],
      "metadata": {
        "id": "Py11NPxAgKo4"
      }
    },
    {
      "cell_type": "code",
      "source": [
        "import numpy as np\n",
        "import pandas as pd\n",
        "from sklearn.impute import SimpleImputer\n",
        "\n",
        "\n",
        "data = {\n",
        "    'size': ['XL', 'L', 'M', np.nan, 'M', 'M'],\n",
        "    'color': ['red', 'green', 'blue', 'green', 'red', 'green'],\n",
        "    'gender': ['female', 'male', np.nan, 'female', 'female', 'male'],\n",
        "    'price': [199.0, 89.0, np.nan, 129.0, 79.0, 89.0],\n",
        "    'weight': [500, 450, 300, np.nan, 410, np.nan],\n",
        "    'bought': ['yes', 'no', 'yes', 'no', 'yes', 'no']\n",
        "}\n",
        "\n",
        "df = pd.DataFrame(data=data)\n",
        "imputer = SimpleImputer(\n",
        "    missing_values=np.nan, strategy='constant', fill_value=99.0\n",
        "    )\n",
        "df[['price']] = imputer.fit_transform(df[['price']])\n",
        "df"
      ],
      "metadata": {
        "colab": {
          "base_uri": "https://localhost:8080/",
          "height": 238
        },
        "id": "qbjMCaZogNc_",
        "outputId": "8cae6f86-dc3a-4cab-bb63-8942bdc820ac"
      },
      "execution_count": null,
      "outputs": [
        {
          "output_type": "execute_result",
          "data": {
            "text/plain": [
              "  size  color  gender  price  weight bought\n",
              "0   XL    red  female  199.0   500.0    yes\n",
              "1    L  green    male   89.0   450.0     no\n",
              "2    M   blue     NaN   99.0   300.0    yes\n",
              "3  NaN  green  female  129.0     NaN     no\n",
              "4    M    red  female   79.0   410.0    yes\n",
              "5    M  green    male   89.0     NaN     no"
            ],
            "text/html": [
              "\n",
              "  <div id=\"df-6bd8b668-696b-4405-a4df-fd03c3b2d4ae\" class=\"colab-df-container\">\n",
              "    <div>\n",
              "<style scoped>\n",
              "    .dataframe tbody tr th:only-of-type {\n",
              "        vertical-align: middle;\n",
              "    }\n",
              "\n",
              "    .dataframe tbody tr th {\n",
              "        vertical-align: top;\n",
              "    }\n",
              "\n",
              "    .dataframe thead th {\n",
              "        text-align: right;\n",
              "    }\n",
              "</style>\n",
              "<table border=\"1\" class=\"dataframe\">\n",
              "  <thead>\n",
              "    <tr style=\"text-align: right;\">\n",
              "      <th></th>\n",
              "      <th>size</th>\n",
              "      <th>color</th>\n",
              "      <th>gender</th>\n",
              "      <th>price</th>\n",
              "      <th>weight</th>\n",
              "      <th>bought</th>\n",
              "    </tr>\n",
              "  </thead>\n",
              "  <tbody>\n",
              "    <tr>\n",
              "      <th>0</th>\n",
              "      <td>XL</td>\n",
              "      <td>red</td>\n",
              "      <td>female</td>\n",
              "      <td>199.0</td>\n",
              "      <td>500.0</td>\n",
              "      <td>yes</td>\n",
              "    </tr>\n",
              "    <tr>\n",
              "      <th>1</th>\n",
              "      <td>L</td>\n",
              "      <td>green</td>\n",
              "      <td>male</td>\n",
              "      <td>89.0</td>\n",
              "      <td>450.0</td>\n",
              "      <td>no</td>\n",
              "    </tr>\n",
              "    <tr>\n",
              "      <th>2</th>\n",
              "      <td>M</td>\n",
              "      <td>blue</td>\n",
              "      <td>NaN</td>\n",
              "      <td>99.0</td>\n",
              "      <td>300.0</td>\n",
              "      <td>yes</td>\n",
              "    </tr>\n",
              "    <tr>\n",
              "      <th>3</th>\n",
              "      <td>NaN</td>\n",
              "      <td>green</td>\n",
              "      <td>female</td>\n",
              "      <td>129.0</td>\n",
              "      <td>NaN</td>\n",
              "      <td>no</td>\n",
              "    </tr>\n",
              "    <tr>\n",
              "      <th>4</th>\n",
              "      <td>M</td>\n",
              "      <td>red</td>\n",
              "      <td>female</td>\n",
              "      <td>79.0</td>\n",
              "      <td>410.0</td>\n",
              "      <td>yes</td>\n",
              "    </tr>\n",
              "    <tr>\n",
              "      <th>5</th>\n",
              "      <td>M</td>\n",
              "      <td>green</td>\n",
              "      <td>male</td>\n",
              "      <td>89.0</td>\n",
              "      <td>NaN</td>\n",
              "      <td>no</td>\n",
              "    </tr>\n",
              "  </tbody>\n",
              "</table>\n",
              "</div>\n",
              "    <div class=\"colab-df-buttons\">\n",
              "\n",
              "  <div class=\"colab-df-container\">\n",
              "    <button class=\"colab-df-convert\" onclick=\"convertToInteractive('df-6bd8b668-696b-4405-a4df-fd03c3b2d4ae')\"\n",
              "            title=\"Convert this dataframe to an interactive table.\"\n",
              "            style=\"display:none;\">\n",
              "\n",
              "  <svg xmlns=\"http://www.w3.org/2000/svg\" height=\"24px\" viewBox=\"0 -960 960 960\">\n",
              "    <path d=\"M120-120v-720h720v720H120Zm60-500h600v-160H180v160Zm220 220h160v-160H400v160Zm0 220h160v-160H400v160ZM180-400h160v-160H180v160Zm440 0h160v-160H620v160ZM180-180h160v-160H180v160Zm440 0h160v-160H620v160Z\"/>\n",
              "  </svg>\n",
              "    </button>\n",
              "\n",
              "  <style>\n",
              "    .colab-df-container {\n",
              "      display:flex;\n",
              "      gap: 12px;\n",
              "    }\n",
              "\n",
              "    .colab-df-convert {\n",
              "      background-color: #E8F0FE;\n",
              "      border: none;\n",
              "      border-radius: 50%;\n",
              "      cursor: pointer;\n",
              "      display: none;\n",
              "      fill: #1967D2;\n",
              "      height: 32px;\n",
              "      padding: 0 0 0 0;\n",
              "      width: 32px;\n",
              "    }\n",
              "\n",
              "    .colab-df-convert:hover {\n",
              "      background-color: #E2EBFA;\n",
              "      box-shadow: 0px 1px 2px rgba(60, 64, 67, 0.3), 0px 1px 3px 1px rgba(60, 64, 67, 0.15);\n",
              "      fill: #174EA6;\n",
              "    }\n",
              "\n",
              "    .colab-df-buttons div {\n",
              "      margin-bottom: 4px;\n",
              "    }\n",
              "\n",
              "    [theme=dark] .colab-df-convert {\n",
              "      background-color: #3B4455;\n",
              "      fill: #D2E3FC;\n",
              "    }\n",
              "\n",
              "    [theme=dark] .colab-df-convert:hover {\n",
              "      background-color: #434B5C;\n",
              "      box-shadow: 0px 1px 3px 1px rgba(0, 0, 0, 0.15);\n",
              "      filter: drop-shadow(0px 1px 2px rgba(0, 0, 0, 0.3));\n",
              "      fill: #FFFFFF;\n",
              "    }\n",
              "  </style>\n",
              "\n",
              "    <script>\n",
              "      const buttonEl =\n",
              "        document.querySelector('#df-6bd8b668-696b-4405-a4df-fd03c3b2d4ae button.colab-df-convert');\n",
              "      buttonEl.style.display =\n",
              "        google.colab.kernel.accessAllowed ? 'block' : 'none';\n",
              "\n",
              "      async function convertToInteractive(key) {\n",
              "        const element = document.querySelector('#df-6bd8b668-696b-4405-a4df-fd03c3b2d4ae');\n",
              "        const dataTable =\n",
              "          await google.colab.kernel.invokeFunction('convertToInteractive',\n",
              "                                                    [key], {});\n",
              "        if (!dataTable) return;\n",
              "\n",
              "        const docLinkHtml = 'Like what you see? Visit the ' +\n",
              "          '<a target=\"_blank\" href=https://colab.research.google.com/notebooks/data_table.ipynb>data table notebook</a>'\n",
              "          + ' to learn more about interactive tables.';\n",
              "        element.innerHTML = '';\n",
              "        dataTable['output_type'] = 'display_data';\n",
              "        await google.colab.output.renderOutput(dataTable, element);\n",
              "        const docLink = document.createElement('div');\n",
              "        docLink.innerHTML = docLinkHtml;\n",
              "        element.appendChild(docLink);\n",
              "      }\n",
              "    </script>\n",
              "  </div>\n",
              "\n",
              "\n",
              "<div id=\"df-dcd098f3-245a-4ec6-b372-9f1d772677b1\">\n",
              "  <button class=\"colab-df-quickchart\" onclick=\"quickchart('df-dcd098f3-245a-4ec6-b372-9f1d772677b1')\"\n",
              "            title=\"Suggest charts\"\n",
              "            style=\"display:none;\">\n",
              "\n",
              "<svg xmlns=\"http://www.w3.org/2000/svg\" height=\"24px\"viewBox=\"0 0 24 24\"\n",
              "     width=\"24px\">\n",
              "    <g>\n",
              "        <path d=\"M19 3H5c-1.1 0-2 .9-2 2v14c0 1.1.9 2 2 2h14c1.1 0 2-.9 2-2V5c0-1.1-.9-2-2-2zM9 17H7v-7h2v7zm4 0h-2V7h2v10zm4 0h-2v-4h2v4z\"/>\n",
              "    </g>\n",
              "</svg>\n",
              "  </button>\n",
              "\n",
              "<style>\n",
              "  .colab-df-quickchart {\n",
              "      --bg-color: #E8F0FE;\n",
              "      --fill-color: #1967D2;\n",
              "      --hover-bg-color: #E2EBFA;\n",
              "      --hover-fill-color: #174EA6;\n",
              "      --disabled-fill-color: #AAA;\n",
              "      --disabled-bg-color: #DDD;\n",
              "  }\n",
              "\n",
              "  [theme=dark] .colab-df-quickchart {\n",
              "      --bg-color: #3B4455;\n",
              "      --fill-color: #D2E3FC;\n",
              "      --hover-bg-color: #434B5C;\n",
              "      --hover-fill-color: #FFFFFF;\n",
              "      --disabled-bg-color: #3B4455;\n",
              "      --disabled-fill-color: #666;\n",
              "  }\n",
              "\n",
              "  .colab-df-quickchart {\n",
              "    background-color: var(--bg-color);\n",
              "    border: none;\n",
              "    border-radius: 50%;\n",
              "    cursor: pointer;\n",
              "    display: none;\n",
              "    fill: var(--fill-color);\n",
              "    height: 32px;\n",
              "    padding: 0;\n",
              "    width: 32px;\n",
              "  }\n",
              "\n",
              "  .colab-df-quickchart:hover {\n",
              "    background-color: var(--hover-bg-color);\n",
              "    box-shadow: 0 1px 2px rgba(60, 64, 67, 0.3), 0 1px 3px 1px rgba(60, 64, 67, 0.15);\n",
              "    fill: var(--button-hover-fill-color);\n",
              "  }\n",
              "\n",
              "  .colab-df-quickchart-complete:disabled,\n",
              "  .colab-df-quickchart-complete:disabled:hover {\n",
              "    background-color: var(--disabled-bg-color);\n",
              "    fill: var(--disabled-fill-color);\n",
              "    box-shadow: none;\n",
              "  }\n",
              "\n",
              "  .colab-df-spinner {\n",
              "    border: 2px solid var(--fill-color);\n",
              "    border-color: transparent;\n",
              "    border-bottom-color: var(--fill-color);\n",
              "    animation:\n",
              "      spin 1s steps(1) infinite;\n",
              "  }\n",
              "\n",
              "  @keyframes spin {\n",
              "    0% {\n",
              "      border-color: transparent;\n",
              "      border-bottom-color: var(--fill-color);\n",
              "      border-left-color: var(--fill-color);\n",
              "    }\n",
              "    20% {\n",
              "      border-color: transparent;\n",
              "      border-left-color: var(--fill-color);\n",
              "      border-top-color: var(--fill-color);\n",
              "    }\n",
              "    30% {\n",
              "      border-color: transparent;\n",
              "      border-left-color: var(--fill-color);\n",
              "      border-top-color: var(--fill-color);\n",
              "      border-right-color: var(--fill-color);\n",
              "    }\n",
              "    40% {\n",
              "      border-color: transparent;\n",
              "      border-right-color: var(--fill-color);\n",
              "      border-top-color: var(--fill-color);\n",
              "    }\n",
              "    60% {\n",
              "      border-color: transparent;\n",
              "      border-right-color: var(--fill-color);\n",
              "    }\n",
              "    80% {\n",
              "      border-color: transparent;\n",
              "      border-right-color: var(--fill-color);\n",
              "      border-bottom-color: var(--fill-color);\n",
              "    }\n",
              "    90% {\n",
              "      border-color: transparent;\n",
              "      border-bottom-color: var(--fill-color);\n",
              "    }\n",
              "  }\n",
              "</style>\n",
              "\n",
              "  <script>\n",
              "    async function quickchart(key) {\n",
              "      const quickchartButtonEl =\n",
              "        document.querySelector('#' + key + ' button');\n",
              "      quickchartButtonEl.disabled = true;  // To prevent multiple clicks.\n",
              "      quickchartButtonEl.classList.add('colab-df-spinner');\n",
              "      try {\n",
              "        const charts = await google.colab.kernel.invokeFunction(\n",
              "            'suggestCharts', [key], {});\n",
              "      } catch (error) {\n",
              "        console.error('Error during call to suggestCharts:', error);\n",
              "      }\n",
              "      quickchartButtonEl.classList.remove('colab-df-spinner');\n",
              "      quickchartButtonEl.classList.add('colab-df-quickchart-complete');\n",
              "    }\n",
              "    (() => {\n",
              "      let quickchartButtonEl =\n",
              "        document.querySelector('#df-dcd098f3-245a-4ec6-b372-9f1d772677b1 button');\n",
              "      quickchartButtonEl.style.display =\n",
              "        google.colab.kernel.accessAllowed ? 'block' : 'none';\n",
              "    })();\n",
              "  </script>\n",
              "</div>\n",
              "    </div>\n",
              "  </div>\n"
            ],
            "application/vnd.google.colaboratory.intrinsic+json": {
              "type": "dataframe",
              "variable_name": "df",
              "summary": "{\n  \"name\": \"df\",\n  \"rows\": 6,\n  \"fields\": [\n    {\n      \"column\": \"size\",\n      \"properties\": {\n        \"dtype\": \"string\",\n        \"num_unique_values\": 3,\n        \"samples\": [\n          \"XL\",\n          \"L\",\n          \"M\"\n        ],\n        \"semantic_type\": \"\",\n        \"description\": \"\"\n      }\n    },\n    {\n      \"column\": \"color\",\n      \"properties\": {\n        \"dtype\": \"string\",\n        \"num_unique_values\": 3,\n        \"samples\": [\n          \"red\",\n          \"green\",\n          \"blue\"\n        ],\n        \"semantic_type\": \"\",\n        \"description\": \"\"\n      }\n    },\n    {\n      \"column\": \"gender\",\n      \"properties\": {\n        \"dtype\": \"category\",\n        \"num_unique_values\": 2,\n        \"samples\": [\n          \"male\",\n          \"female\"\n        ],\n        \"semantic_type\": \"\",\n        \"description\": \"\"\n      }\n    },\n    {\n      \"column\": \"price\",\n      \"properties\": {\n        \"dtype\": \"number\",\n        \"std\": 45.05552130427524,\n        \"min\": 79.0,\n        \"max\": 199.0,\n        \"num_unique_values\": 5,\n        \"samples\": [\n          89.0,\n          79.0\n        ],\n        \"semantic_type\": \"\",\n        \"description\": \"\"\n      }\n    },\n    {\n      \"column\": \"weight\",\n      \"properties\": {\n        \"dtype\": \"number\",\n        \"std\": 85.04900548115383,\n        \"min\": 300.0,\n        \"max\": 500.0,\n        \"num_unique_values\": 4,\n        \"samples\": [\n          450.0,\n          410.0\n        ],\n        \"semantic_type\": \"\",\n        \"description\": \"\"\n      }\n    },\n    {\n      \"column\": \"bought\",\n      \"properties\": {\n        \"dtype\": \"category\",\n        \"num_unique_values\": 2,\n        \"samples\": [\n          \"no\",\n          \"yes\"\n        ],\n        \"semantic_type\": \"\",\n        \"description\": \"\"\n      }\n    }\n  ]\n}"
            }
          },
          "metadata": {},
          "execution_count": 17
        }
      ]
    },
    {
      "cell_type": "markdown",
      "source": [
        "Ćwiczenie 5"
      ],
      "metadata": {
        "id": "cMdR-kauhXuW"
      }
    },
    {
      "cell_type": "code",
      "source": [
        "import numpy as np\n",
        "import pandas as pd\n",
        "from sklearn.impute import SimpleImputer\n",
        "\n",
        "\n",
        "data = {\n",
        "    'size': ['XL', 'L', 'M', np.nan, 'M', 'M'],\n",
        "    'color': ['red', 'green', 'blue', 'green', 'red', 'green'],\n",
        "    'gender': ['female', 'male', np.nan, 'female', 'female', 'male'],\n",
        "    'price': [199.0, 89.0, np.nan, 129.0, 79.0, 89.0],\n",
        "    'weight': [500, 450, 300, np.nan, 410, np.nan],\n",
        "    'bought': ['yes', 'no', 'yes', 'no', 'yes', 'no']\n",
        "}\n",
        "\n",
        "df = pd.DataFrame(data=data)\n",
        "imputer = SimpleImputer(\n",
        "    missing_values=np.nan, strategy='most_frequent'\n",
        "    )\n",
        "df[['size']] = imputer.fit_transform(df[['size']])\n",
        "df"
      ],
      "metadata": {
        "colab": {
          "base_uri": "https://localhost:8080/",
          "height": 238
        },
        "id": "mkzu_SVDhZYl",
        "outputId": "53fc71a6-09ce-4d6a-b891-756d403fb342"
      },
      "execution_count": null,
      "outputs": [
        {
          "output_type": "execute_result",
          "data": {
            "text/plain": [
              "  size  color  gender  price  weight bought\n",
              "0   XL    red  female  199.0   500.0    yes\n",
              "1    L  green    male   89.0   450.0     no\n",
              "2    M   blue     NaN    NaN   300.0    yes\n",
              "3    M  green  female  129.0     NaN     no\n",
              "4    M    red  female   79.0   410.0    yes\n",
              "5    M  green    male   89.0     NaN     no"
            ],
            "text/html": [
              "\n",
              "  <div id=\"df-fe53abb2-8c19-4227-a5ae-7cf578f4a5c2\" class=\"colab-df-container\">\n",
              "    <div>\n",
              "<style scoped>\n",
              "    .dataframe tbody tr th:only-of-type {\n",
              "        vertical-align: middle;\n",
              "    }\n",
              "\n",
              "    .dataframe tbody tr th {\n",
              "        vertical-align: top;\n",
              "    }\n",
              "\n",
              "    .dataframe thead th {\n",
              "        text-align: right;\n",
              "    }\n",
              "</style>\n",
              "<table border=\"1\" class=\"dataframe\">\n",
              "  <thead>\n",
              "    <tr style=\"text-align: right;\">\n",
              "      <th></th>\n",
              "      <th>size</th>\n",
              "      <th>color</th>\n",
              "      <th>gender</th>\n",
              "      <th>price</th>\n",
              "      <th>weight</th>\n",
              "      <th>bought</th>\n",
              "    </tr>\n",
              "  </thead>\n",
              "  <tbody>\n",
              "    <tr>\n",
              "      <th>0</th>\n",
              "      <td>XL</td>\n",
              "      <td>red</td>\n",
              "      <td>female</td>\n",
              "      <td>199.0</td>\n",
              "      <td>500.0</td>\n",
              "      <td>yes</td>\n",
              "    </tr>\n",
              "    <tr>\n",
              "      <th>1</th>\n",
              "      <td>L</td>\n",
              "      <td>green</td>\n",
              "      <td>male</td>\n",
              "      <td>89.0</td>\n",
              "      <td>450.0</td>\n",
              "      <td>no</td>\n",
              "    </tr>\n",
              "    <tr>\n",
              "      <th>2</th>\n",
              "      <td>M</td>\n",
              "      <td>blue</td>\n",
              "      <td>NaN</td>\n",
              "      <td>NaN</td>\n",
              "      <td>300.0</td>\n",
              "      <td>yes</td>\n",
              "    </tr>\n",
              "    <tr>\n",
              "      <th>3</th>\n",
              "      <td>M</td>\n",
              "      <td>green</td>\n",
              "      <td>female</td>\n",
              "      <td>129.0</td>\n",
              "      <td>NaN</td>\n",
              "      <td>no</td>\n",
              "    </tr>\n",
              "    <tr>\n",
              "      <th>4</th>\n",
              "      <td>M</td>\n",
              "      <td>red</td>\n",
              "      <td>female</td>\n",
              "      <td>79.0</td>\n",
              "      <td>410.0</td>\n",
              "      <td>yes</td>\n",
              "    </tr>\n",
              "    <tr>\n",
              "      <th>5</th>\n",
              "      <td>M</td>\n",
              "      <td>green</td>\n",
              "      <td>male</td>\n",
              "      <td>89.0</td>\n",
              "      <td>NaN</td>\n",
              "      <td>no</td>\n",
              "    </tr>\n",
              "  </tbody>\n",
              "</table>\n",
              "</div>\n",
              "    <div class=\"colab-df-buttons\">\n",
              "\n",
              "  <div class=\"colab-df-container\">\n",
              "    <button class=\"colab-df-convert\" onclick=\"convertToInteractive('df-fe53abb2-8c19-4227-a5ae-7cf578f4a5c2')\"\n",
              "            title=\"Convert this dataframe to an interactive table.\"\n",
              "            style=\"display:none;\">\n",
              "\n",
              "  <svg xmlns=\"http://www.w3.org/2000/svg\" height=\"24px\" viewBox=\"0 -960 960 960\">\n",
              "    <path d=\"M120-120v-720h720v720H120Zm60-500h600v-160H180v160Zm220 220h160v-160H400v160Zm0 220h160v-160H400v160ZM180-400h160v-160H180v160Zm440 0h160v-160H620v160ZM180-180h160v-160H180v160Zm440 0h160v-160H620v160Z\"/>\n",
              "  </svg>\n",
              "    </button>\n",
              "\n",
              "  <style>\n",
              "    .colab-df-container {\n",
              "      display:flex;\n",
              "      gap: 12px;\n",
              "    }\n",
              "\n",
              "    .colab-df-convert {\n",
              "      background-color: #E8F0FE;\n",
              "      border: none;\n",
              "      border-radius: 50%;\n",
              "      cursor: pointer;\n",
              "      display: none;\n",
              "      fill: #1967D2;\n",
              "      height: 32px;\n",
              "      padding: 0 0 0 0;\n",
              "      width: 32px;\n",
              "    }\n",
              "\n",
              "    .colab-df-convert:hover {\n",
              "      background-color: #E2EBFA;\n",
              "      box-shadow: 0px 1px 2px rgba(60, 64, 67, 0.3), 0px 1px 3px 1px rgba(60, 64, 67, 0.15);\n",
              "      fill: #174EA6;\n",
              "    }\n",
              "\n",
              "    .colab-df-buttons div {\n",
              "      margin-bottom: 4px;\n",
              "    }\n",
              "\n",
              "    [theme=dark] .colab-df-convert {\n",
              "      background-color: #3B4455;\n",
              "      fill: #D2E3FC;\n",
              "    }\n",
              "\n",
              "    [theme=dark] .colab-df-convert:hover {\n",
              "      background-color: #434B5C;\n",
              "      box-shadow: 0px 1px 3px 1px rgba(0, 0, 0, 0.15);\n",
              "      filter: drop-shadow(0px 1px 2px rgba(0, 0, 0, 0.3));\n",
              "      fill: #FFFFFF;\n",
              "    }\n",
              "  </style>\n",
              "\n",
              "    <script>\n",
              "      const buttonEl =\n",
              "        document.querySelector('#df-fe53abb2-8c19-4227-a5ae-7cf578f4a5c2 button.colab-df-convert');\n",
              "      buttonEl.style.display =\n",
              "        google.colab.kernel.accessAllowed ? 'block' : 'none';\n",
              "\n",
              "      async function convertToInteractive(key) {\n",
              "        const element = document.querySelector('#df-fe53abb2-8c19-4227-a5ae-7cf578f4a5c2');\n",
              "        const dataTable =\n",
              "          await google.colab.kernel.invokeFunction('convertToInteractive',\n",
              "                                                    [key], {});\n",
              "        if (!dataTable) return;\n",
              "\n",
              "        const docLinkHtml = 'Like what you see? Visit the ' +\n",
              "          '<a target=\"_blank\" href=https://colab.research.google.com/notebooks/data_table.ipynb>data table notebook</a>'\n",
              "          + ' to learn more about interactive tables.';\n",
              "        element.innerHTML = '';\n",
              "        dataTable['output_type'] = 'display_data';\n",
              "        await google.colab.output.renderOutput(dataTable, element);\n",
              "        const docLink = document.createElement('div');\n",
              "        docLink.innerHTML = docLinkHtml;\n",
              "        element.appendChild(docLink);\n",
              "      }\n",
              "    </script>\n",
              "  </div>\n",
              "\n",
              "\n",
              "<div id=\"df-a35bda74-4cfd-4d95-b919-184e4012dffa\">\n",
              "  <button class=\"colab-df-quickchart\" onclick=\"quickchart('df-a35bda74-4cfd-4d95-b919-184e4012dffa')\"\n",
              "            title=\"Suggest charts\"\n",
              "            style=\"display:none;\">\n",
              "\n",
              "<svg xmlns=\"http://www.w3.org/2000/svg\" height=\"24px\"viewBox=\"0 0 24 24\"\n",
              "     width=\"24px\">\n",
              "    <g>\n",
              "        <path d=\"M19 3H5c-1.1 0-2 .9-2 2v14c0 1.1.9 2 2 2h14c1.1 0 2-.9 2-2V5c0-1.1-.9-2-2-2zM9 17H7v-7h2v7zm4 0h-2V7h2v10zm4 0h-2v-4h2v4z\"/>\n",
              "    </g>\n",
              "</svg>\n",
              "  </button>\n",
              "\n",
              "<style>\n",
              "  .colab-df-quickchart {\n",
              "      --bg-color: #E8F0FE;\n",
              "      --fill-color: #1967D2;\n",
              "      --hover-bg-color: #E2EBFA;\n",
              "      --hover-fill-color: #174EA6;\n",
              "      --disabled-fill-color: #AAA;\n",
              "      --disabled-bg-color: #DDD;\n",
              "  }\n",
              "\n",
              "  [theme=dark] .colab-df-quickchart {\n",
              "      --bg-color: #3B4455;\n",
              "      --fill-color: #D2E3FC;\n",
              "      --hover-bg-color: #434B5C;\n",
              "      --hover-fill-color: #FFFFFF;\n",
              "      --disabled-bg-color: #3B4455;\n",
              "      --disabled-fill-color: #666;\n",
              "  }\n",
              "\n",
              "  .colab-df-quickchart {\n",
              "    background-color: var(--bg-color);\n",
              "    border: none;\n",
              "    border-radius: 50%;\n",
              "    cursor: pointer;\n",
              "    display: none;\n",
              "    fill: var(--fill-color);\n",
              "    height: 32px;\n",
              "    padding: 0;\n",
              "    width: 32px;\n",
              "  }\n",
              "\n",
              "  .colab-df-quickchart:hover {\n",
              "    background-color: var(--hover-bg-color);\n",
              "    box-shadow: 0 1px 2px rgba(60, 64, 67, 0.3), 0 1px 3px 1px rgba(60, 64, 67, 0.15);\n",
              "    fill: var(--button-hover-fill-color);\n",
              "  }\n",
              "\n",
              "  .colab-df-quickchart-complete:disabled,\n",
              "  .colab-df-quickchart-complete:disabled:hover {\n",
              "    background-color: var(--disabled-bg-color);\n",
              "    fill: var(--disabled-fill-color);\n",
              "    box-shadow: none;\n",
              "  }\n",
              "\n",
              "  .colab-df-spinner {\n",
              "    border: 2px solid var(--fill-color);\n",
              "    border-color: transparent;\n",
              "    border-bottom-color: var(--fill-color);\n",
              "    animation:\n",
              "      spin 1s steps(1) infinite;\n",
              "  }\n",
              "\n",
              "  @keyframes spin {\n",
              "    0% {\n",
              "      border-color: transparent;\n",
              "      border-bottom-color: var(--fill-color);\n",
              "      border-left-color: var(--fill-color);\n",
              "    }\n",
              "    20% {\n",
              "      border-color: transparent;\n",
              "      border-left-color: var(--fill-color);\n",
              "      border-top-color: var(--fill-color);\n",
              "    }\n",
              "    30% {\n",
              "      border-color: transparent;\n",
              "      border-left-color: var(--fill-color);\n",
              "      border-top-color: var(--fill-color);\n",
              "      border-right-color: var(--fill-color);\n",
              "    }\n",
              "    40% {\n",
              "      border-color: transparent;\n",
              "      border-right-color: var(--fill-color);\n",
              "      border-top-color: var(--fill-color);\n",
              "    }\n",
              "    60% {\n",
              "      border-color: transparent;\n",
              "      border-right-color: var(--fill-color);\n",
              "    }\n",
              "    80% {\n",
              "      border-color: transparent;\n",
              "      border-right-color: var(--fill-color);\n",
              "      border-bottom-color: var(--fill-color);\n",
              "    }\n",
              "    90% {\n",
              "      border-color: transparent;\n",
              "      border-bottom-color: var(--fill-color);\n",
              "    }\n",
              "  }\n",
              "</style>\n",
              "\n",
              "  <script>\n",
              "    async function quickchart(key) {\n",
              "      const quickchartButtonEl =\n",
              "        document.querySelector('#' + key + ' button');\n",
              "      quickchartButtonEl.disabled = true;  // To prevent multiple clicks.\n",
              "      quickchartButtonEl.classList.add('colab-df-spinner');\n",
              "      try {\n",
              "        const charts = await google.colab.kernel.invokeFunction(\n",
              "            'suggestCharts', [key], {});\n",
              "      } catch (error) {\n",
              "        console.error('Error during call to suggestCharts:', error);\n",
              "      }\n",
              "      quickchartButtonEl.classList.remove('colab-df-spinner');\n",
              "      quickchartButtonEl.classList.add('colab-df-quickchart-complete');\n",
              "    }\n",
              "    (() => {\n",
              "      let quickchartButtonEl =\n",
              "        document.querySelector('#df-a35bda74-4cfd-4d95-b919-184e4012dffa button');\n",
              "      quickchartButtonEl.style.display =\n",
              "        google.colab.kernel.accessAllowed ? 'block' : 'none';\n",
              "    })();\n",
              "  </script>\n",
              "</div>\n",
              "    </div>\n",
              "  </div>\n"
            ],
            "application/vnd.google.colaboratory.intrinsic+json": {
              "type": "dataframe",
              "variable_name": "df",
              "summary": "{\n  \"name\": \"df\",\n  \"rows\": 6,\n  \"fields\": [\n    {\n      \"column\": \"size\",\n      \"properties\": {\n        \"dtype\": \"string\",\n        \"num_unique_values\": 3,\n        \"samples\": [\n          \"XL\",\n          \"L\",\n          \"M\"\n        ],\n        \"semantic_type\": \"\",\n        \"description\": \"\"\n      }\n    },\n    {\n      \"column\": \"color\",\n      \"properties\": {\n        \"dtype\": \"string\",\n        \"num_unique_values\": 3,\n        \"samples\": [\n          \"red\",\n          \"green\",\n          \"blue\"\n        ],\n        \"semantic_type\": \"\",\n        \"description\": \"\"\n      }\n    },\n    {\n      \"column\": \"gender\",\n      \"properties\": {\n        \"dtype\": \"category\",\n        \"num_unique_values\": 2,\n        \"samples\": [\n          \"male\",\n          \"female\"\n        ],\n        \"semantic_type\": \"\",\n        \"description\": \"\"\n      }\n    },\n    {\n      \"column\": \"price\",\n      \"properties\": {\n        \"dtype\": \"number\",\n        \"std\": 49.69909455915671,\n        \"min\": 79.0,\n        \"max\": 199.0,\n        \"num_unique_values\": 4,\n        \"samples\": [\n          89.0,\n          79.0\n        ],\n        \"semantic_type\": \"\",\n        \"description\": \"\"\n      }\n    },\n    {\n      \"column\": \"weight\",\n      \"properties\": {\n        \"dtype\": \"number\",\n        \"std\": 85.04900548115383,\n        \"min\": 300.0,\n        \"max\": 500.0,\n        \"num_unique_values\": 4,\n        \"samples\": [\n          450.0,\n          410.0\n        ],\n        \"semantic_type\": \"\",\n        \"description\": \"\"\n      }\n    },\n    {\n      \"column\": \"bought\",\n      \"properties\": {\n        \"dtype\": \"category\",\n        \"num_unique_values\": 2,\n        \"samples\": [\n          \"no\",\n          \"yes\"\n        ],\n        \"semantic_type\": \"\",\n        \"description\": \"\"\n      }\n    }\n  ]\n}"
            }
          },
          "metadata": {},
          "execution_count": 18
        }
      ]
    },
    {
      "cell_type": "markdown",
      "source": [
        "Ćwiczenie 6"
      ],
      "metadata": {
        "id": "-1HDy2Ulh6Td"
      }
    },
    {
      "cell_type": "code",
      "source": [
        "import numpy as np\n",
        "import pandas as pd\n",
        "from sklearn.impute import SimpleImputer\n",
        "\n",
        "\n",
        "data = {\n",
        "    'size': ['XL', 'L', 'M', np.nan, 'M', 'M'],\n",
        "    'color': ['red', 'green', 'blue', 'green', 'red', 'green'],\n",
        "    'gender': ['female', 'male', np.nan, 'female', 'female', 'male'],\n",
        "    'price': [199.0, 89.0, np.nan, 129.0, 79.0, 89.0],\n",
        "    'weight': [500, 450, 300, np.nan, 410, np.nan],\n",
        "    'bought': ['yes', 'no', 'yes', 'no', 'yes', 'no']\n",
        "}\n",
        "\n",
        "df = pd.DataFrame(data=data)\n",
        "print(df[~df['weight'].isnull()].mean(numeric_only=True))"
      ],
      "metadata": {
        "colab": {
          "base_uri": "https://localhost:8080/"
        },
        "id": "mQf3zmx2h8lN",
        "outputId": "a0735069-6a47-4d72-dc8d-262983e94f4a"
      },
      "execution_count": null,
      "outputs": [
        {
          "output_type": "stream",
          "name": "stdout",
          "text": [
            "price     122.333333\n",
            "weight    415.000000\n",
            "dtype: float64\n"
          ]
        }
      ]
    },
    {
      "cell_type": "markdown",
      "source": [
        "Ćwiczenie 7\n",
        "\n",
        "Opis: Wydobądź z obiektu df kolumny typu object. Następnie uzupełnij wszystkie braki dla tych kolumn wartością 'empty'. Przypisz wynik do zmiennej df_object i wydrukuj tą zmienną do konsoli."
      ],
      "metadata": {
        "id": "cpDWbIIvh889"
      }
    },
    {
      "cell_type": "code",
      "source": [
        "import numpy as np\n",
        "import pandas as pd\n",
        "from sklearn.impute import SimpleImputer\n",
        "\n",
        "\n",
        "data = {\n",
        "    'size': ['XL', 'L', 'M', np.nan, 'M', 'M'],\n",
        "    'color': ['red', 'green', 'blue', 'green', 'red', 'green'],\n",
        "    'gender': ['female', 'male', np.nan, 'female', 'female', 'male'],\n",
        "    'price': [199.0, 89.0, np.nan, 129.0, 79.0, 89.0],\n",
        "    'weight': [500, 450, 300, np.nan, 410, np.nan],\n",
        "    'bought': ['yes', 'no', 'yes', 'no', 'yes', 'no']\n",
        "}\n",
        "\n",
        "df = pd.DataFrame(data=data)\n",
        "df_object = df.select_dtypes(include=['object']).fillna('empty')\n",
        "print(df_object)"
      ],
      "metadata": {
        "colab": {
          "base_uri": "https://localhost:8080/"
        },
        "id": "zp720rSYiES9",
        "outputId": "1224029a-868b-4be9-e776-cb9740a0b8e2"
      },
      "execution_count": null,
      "outputs": [
        {
          "output_type": "stream",
          "name": "stdout",
          "text": [
            "    size  color  gender bought\n",
            "0     XL    red  female    yes\n",
            "1      L  green    male     no\n",
            "2      M   blue   empty    yes\n",
            "3  empty  green  female     no\n",
            "4      M    red  female    yes\n",
            "5      M  green    male     no\n"
          ]
        }
      ]
    },
    {
      "cell_type": "markdown",
      "source": [
        "Ćwiczenie 8\n",
        "\n",
        "Opis: Dokonaj dyskretyzacji kolumny weight na 3 przedziały o równej szerokości. Wynik przypisz do nowej kolumny o nazwie 'weight_cut' tak jak pokazano poniżej. W odpowiedzi wydrukuj obiekt df do konsoli."
      ],
      "metadata": {
        "id": "oYwAVXRCiAJ7"
      }
    },
    {
      "cell_type": "code",
      "source": [
        "import pandas as pd\n",
        "\n",
        "\n",
        "df = pd.DataFrame(data={'weight': [75., 78.5, 85., 91., 84.5, 83., 68.]})\n",
        "df['weight_cut'] = pd.cut(df['weight'], bins=3)\n",
        "df"
      ],
      "metadata": {
        "id": "OwSICqrUh_tN",
        "colab": {
          "base_uri": "https://localhost:8080/",
          "height": 269
        },
        "outputId": "44bc5966-f141-4456-e1c5-48797296cf1c"
      },
      "execution_count": null,
      "outputs": [
        {
          "output_type": "execute_result",
          "data": {
            "text/plain": [
              "   weight        weight_cut\n",
              "0    75.0  (67.977, 75.667]\n",
              "1    78.5  (75.667, 83.333]\n",
              "2    85.0    (83.333, 91.0]\n",
              "3    91.0    (83.333, 91.0]\n",
              "4    84.5    (83.333, 91.0]\n",
              "5    83.0  (75.667, 83.333]\n",
              "6    68.0  (67.977, 75.667]"
            ],
            "text/html": [
              "\n",
              "  <div id=\"df-08a55f1a-34d4-4b24-9c8d-b0b2aa136674\" class=\"colab-df-container\">\n",
              "    <div>\n",
              "<style scoped>\n",
              "    .dataframe tbody tr th:only-of-type {\n",
              "        vertical-align: middle;\n",
              "    }\n",
              "\n",
              "    .dataframe tbody tr th {\n",
              "        vertical-align: top;\n",
              "    }\n",
              "\n",
              "    .dataframe thead th {\n",
              "        text-align: right;\n",
              "    }\n",
              "</style>\n",
              "<table border=\"1\" class=\"dataframe\">\n",
              "  <thead>\n",
              "    <tr style=\"text-align: right;\">\n",
              "      <th></th>\n",
              "      <th>weight</th>\n",
              "      <th>weight_cut</th>\n",
              "    </tr>\n",
              "  </thead>\n",
              "  <tbody>\n",
              "    <tr>\n",
              "      <th>0</th>\n",
              "      <td>75.0</td>\n",
              "      <td>(67.977, 75.667]</td>\n",
              "    </tr>\n",
              "    <tr>\n",
              "      <th>1</th>\n",
              "      <td>78.5</td>\n",
              "      <td>(75.667, 83.333]</td>\n",
              "    </tr>\n",
              "    <tr>\n",
              "      <th>2</th>\n",
              "      <td>85.0</td>\n",
              "      <td>(83.333, 91.0]</td>\n",
              "    </tr>\n",
              "    <tr>\n",
              "      <th>3</th>\n",
              "      <td>91.0</td>\n",
              "      <td>(83.333, 91.0]</td>\n",
              "    </tr>\n",
              "    <tr>\n",
              "      <th>4</th>\n",
              "      <td>84.5</td>\n",
              "      <td>(83.333, 91.0]</td>\n",
              "    </tr>\n",
              "    <tr>\n",
              "      <th>5</th>\n",
              "      <td>83.0</td>\n",
              "      <td>(75.667, 83.333]</td>\n",
              "    </tr>\n",
              "    <tr>\n",
              "      <th>6</th>\n",
              "      <td>68.0</td>\n",
              "      <td>(67.977, 75.667]</td>\n",
              "    </tr>\n",
              "  </tbody>\n",
              "</table>\n",
              "</div>\n",
              "    <div class=\"colab-df-buttons\">\n",
              "\n",
              "  <div class=\"colab-df-container\">\n",
              "    <button class=\"colab-df-convert\" onclick=\"convertToInteractive('df-08a55f1a-34d4-4b24-9c8d-b0b2aa136674')\"\n",
              "            title=\"Convert this dataframe to an interactive table.\"\n",
              "            style=\"display:none;\">\n",
              "\n",
              "  <svg xmlns=\"http://www.w3.org/2000/svg\" height=\"24px\" viewBox=\"0 -960 960 960\">\n",
              "    <path d=\"M120-120v-720h720v720H120Zm60-500h600v-160H180v160Zm220 220h160v-160H400v160Zm0 220h160v-160H400v160ZM180-400h160v-160H180v160Zm440 0h160v-160H620v160ZM180-180h160v-160H180v160Zm440 0h160v-160H620v160Z\"/>\n",
              "  </svg>\n",
              "    </button>\n",
              "\n",
              "  <style>\n",
              "    .colab-df-container {\n",
              "      display:flex;\n",
              "      gap: 12px;\n",
              "    }\n",
              "\n",
              "    .colab-df-convert {\n",
              "      background-color: #E8F0FE;\n",
              "      border: none;\n",
              "      border-radius: 50%;\n",
              "      cursor: pointer;\n",
              "      display: none;\n",
              "      fill: #1967D2;\n",
              "      height: 32px;\n",
              "      padding: 0 0 0 0;\n",
              "      width: 32px;\n",
              "    }\n",
              "\n",
              "    .colab-df-convert:hover {\n",
              "      background-color: #E2EBFA;\n",
              "      box-shadow: 0px 1px 2px rgba(60, 64, 67, 0.3), 0px 1px 3px 1px rgba(60, 64, 67, 0.15);\n",
              "      fill: #174EA6;\n",
              "    }\n",
              "\n",
              "    .colab-df-buttons div {\n",
              "      margin-bottom: 4px;\n",
              "    }\n",
              "\n",
              "    [theme=dark] .colab-df-convert {\n",
              "      background-color: #3B4455;\n",
              "      fill: #D2E3FC;\n",
              "    }\n",
              "\n",
              "    [theme=dark] .colab-df-convert:hover {\n",
              "      background-color: #434B5C;\n",
              "      box-shadow: 0px 1px 3px 1px rgba(0, 0, 0, 0.15);\n",
              "      filter: drop-shadow(0px 1px 2px rgba(0, 0, 0, 0.3));\n",
              "      fill: #FFFFFF;\n",
              "    }\n",
              "  </style>\n",
              "\n",
              "    <script>\n",
              "      const buttonEl =\n",
              "        document.querySelector('#df-08a55f1a-34d4-4b24-9c8d-b0b2aa136674 button.colab-df-convert');\n",
              "      buttonEl.style.display =\n",
              "        google.colab.kernel.accessAllowed ? 'block' : 'none';\n",
              "\n",
              "      async function convertToInteractive(key) {\n",
              "        const element = document.querySelector('#df-08a55f1a-34d4-4b24-9c8d-b0b2aa136674');\n",
              "        const dataTable =\n",
              "          await google.colab.kernel.invokeFunction('convertToInteractive',\n",
              "                                                    [key], {});\n",
              "        if (!dataTable) return;\n",
              "\n",
              "        const docLinkHtml = 'Like what you see? Visit the ' +\n",
              "          '<a target=\"_blank\" href=https://colab.research.google.com/notebooks/data_table.ipynb>data table notebook</a>'\n",
              "          + ' to learn more about interactive tables.';\n",
              "        element.innerHTML = '';\n",
              "        dataTable['output_type'] = 'display_data';\n",
              "        await google.colab.output.renderOutput(dataTable, element);\n",
              "        const docLink = document.createElement('div');\n",
              "        docLink.innerHTML = docLinkHtml;\n",
              "        element.appendChild(docLink);\n",
              "      }\n",
              "    </script>\n",
              "  </div>\n",
              "\n",
              "\n",
              "<div id=\"df-2c7a579f-24ce-4ab5-902a-a70c5d78c4ee\">\n",
              "  <button class=\"colab-df-quickchart\" onclick=\"quickchart('df-2c7a579f-24ce-4ab5-902a-a70c5d78c4ee')\"\n",
              "            title=\"Suggest charts\"\n",
              "            style=\"display:none;\">\n",
              "\n",
              "<svg xmlns=\"http://www.w3.org/2000/svg\" height=\"24px\"viewBox=\"0 0 24 24\"\n",
              "     width=\"24px\">\n",
              "    <g>\n",
              "        <path d=\"M19 3H5c-1.1 0-2 .9-2 2v14c0 1.1.9 2 2 2h14c1.1 0 2-.9 2-2V5c0-1.1-.9-2-2-2zM9 17H7v-7h2v7zm4 0h-2V7h2v10zm4 0h-2v-4h2v4z\"/>\n",
              "    </g>\n",
              "</svg>\n",
              "  </button>\n",
              "\n",
              "<style>\n",
              "  .colab-df-quickchart {\n",
              "      --bg-color: #E8F0FE;\n",
              "      --fill-color: #1967D2;\n",
              "      --hover-bg-color: #E2EBFA;\n",
              "      --hover-fill-color: #174EA6;\n",
              "      --disabled-fill-color: #AAA;\n",
              "      --disabled-bg-color: #DDD;\n",
              "  }\n",
              "\n",
              "  [theme=dark] .colab-df-quickchart {\n",
              "      --bg-color: #3B4455;\n",
              "      --fill-color: #D2E3FC;\n",
              "      --hover-bg-color: #434B5C;\n",
              "      --hover-fill-color: #FFFFFF;\n",
              "      --disabled-bg-color: #3B4455;\n",
              "      --disabled-fill-color: #666;\n",
              "  }\n",
              "\n",
              "  .colab-df-quickchart {\n",
              "    background-color: var(--bg-color);\n",
              "    border: none;\n",
              "    border-radius: 50%;\n",
              "    cursor: pointer;\n",
              "    display: none;\n",
              "    fill: var(--fill-color);\n",
              "    height: 32px;\n",
              "    padding: 0;\n",
              "    width: 32px;\n",
              "  }\n",
              "\n",
              "  .colab-df-quickchart:hover {\n",
              "    background-color: var(--hover-bg-color);\n",
              "    box-shadow: 0 1px 2px rgba(60, 64, 67, 0.3), 0 1px 3px 1px rgba(60, 64, 67, 0.15);\n",
              "    fill: var(--button-hover-fill-color);\n",
              "  }\n",
              "\n",
              "  .colab-df-quickchart-complete:disabled,\n",
              "  .colab-df-quickchart-complete:disabled:hover {\n",
              "    background-color: var(--disabled-bg-color);\n",
              "    fill: var(--disabled-fill-color);\n",
              "    box-shadow: none;\n",
              "  }\n",
              "\n",
              "  .colab-df-spinner {\n",
              "    border: 2px solid var(--fill-color);\n",
              "    border-color: transparent;\n",
              "    border-bottom-color: var(--fill-color);\n",
              "    animation:\n",
              "      spin 1s steps(1) infinite;\n",
              "  }\n",
              "\n",
              "  @keyframes spin {\n",
              "    0% {\n",
              "      border-color: transparent;\n",
              "      border-bottom-color: var(--fill-color);\n",
              "      border-left-color: var(--fill-color);\n",
              "    }\n",
              "    20% {\n",
              "      border-color: transparent;\n",
              "      border-left-color: var(--fill-color);\n",
              "      border-top-color: var(--fill-color);\n",
              "    }\n",
              "    30% {\n",
              "      border-color: transparent;\n",
              "      border-left-color: var(--fill-color);\n",
              "      border-top-color: var(--fill-color);\n",
              "      border-right-color: var(--fill-color);\n",
              "    }\n",
              "    40% {\n",
              "      border-color: transparent;\n",
              "      border-right-color: var(--fill-color);\n",
              "      border-top-color: var(--fill-color);\n",
              "    }\n",
              "    60% {\n",
              "      border-color: transparent;\n",
              "      border-right-color: var(--fill-color);\n",
              "    }\n",
              "    80% {\n",
              "      border-color: transparent;\n",
              "      border-right-color: var(--fill-color);\n",
              "      border-bottom-color: var(--fill-color);\n",
              "    }\n",
              "    90% {\n",
              "      border-color: transparent;\n",
              "      border-bottom-color: var(--fill-color);\n",
              "    }\n",
              "  }\n",
              "</style>\n",
              "\n",
              "  <script>\n",
              "    async function quickchart(key) {\n",
              "      const quickchartButtonEl =\n",
              "        document.querySelector('#' + key + ' button');\n",
              "      quickchartButtonEl.disabled = true;  // To prevent multiple clicks.\n",
              "      quickchartButtonEl.classList.add('colab-df-spinner');\n",
              "      try {\n",
              "        const charts = await google.colab.kernel.invokeFunction(\n",
              "            'suggestCharts', [key], {});\n",
              "      } catch (error) {\n",
              "        console.error('Error during call to suggestCharts:', error);\n",
              "      }\n",
              "      quickchartButtonEl.classList.remove('colab-df-spinner');\n",
              "      quickchartButtonEl.classList.add('colab-df-quickchart-complete');\n",
              "    }\n",
              "    (() => {\n",
              "      let quickchartButtonEl =\n",
              "        document.querySelector('#df-2c7a579f-24ce-4ab5-902a-a70c5d78c4ee button');\n",
              "      quickchartButtonEl.style.display =\n",
              "        google.colab.kernel.accessAllowed ? 'block' : 'none';\n",
              "    })();\n",
              "  </script>\n",
              "</div>\n",
              "    </div>\n",
              "  </div>\n"
            ],
            "application/vnd.google.colaboratory.intrinsic+json": {
              "type": "dataframe",
              "variable_name": "df",
              "summary": "{\n  \"name\": \"df\",\n  \"rows\": 7,\n  \"fields\": [\n    {\n      \"column\": \"weight\",\n      \"properties\": {\n        \"dtype\": \"number\",\n        \"std\": 7.560076845162482,\n        \"min\": 68.0,\n        \"max\": 91.0,\n        \"num_unique_values\": 7,\n        \"samples\": [\n          75.0,\n          78.5,\n          83.0\n        ],\n        \"semantic_type\": \"\",\n        \"description\": \"\"\n      }\n    },\n    {\n      \"column\": \"weight_cut\",\n      \"properties\": {\n        \"dtype\": \"category\",\n        \"num_unique_values\": 3,\n        \"samples\": [\n          \"(67.977, 75.667]\",\n          \"(75.667, 83.333]\",\n          \"(83.333, 91.0]\"\n        ],\n        \"semantic_type\": \"\",\n        \"description\": \"\"\n      }\n    }\n  ]\n}"
            }
          },
          "metadata": {},
          "execution_count": 29
        }
      ]
    },
    {
      "cell_type": "markdown",
      "source": [
        "Ćwiczenie 9"
      ],
      "metadata": {
        "id": "5Q_d-y5YiFsH"
      }
    },
    {
      "cell_type": "code",
      "source": [
        "import pandas as pd\n",
        "\n",
        "\n",
        "df = pd.DataFrame(data={'weight': [75., 78.5, 85., 91., 84.5, 83., 68.]})\n",
        "df['weight_cut'] = pd.cut(df['weight'], bins=[60, 75, 80, 95])\n",
        "df"
      ],
      "metadata": {
        "id": "11QcQvuViHd0",
        "colab": {
          "base_uri": "https://localhost:8080/",
          "height": 269
        },
        "outputId": "d9d0676a-5769-4633-c4e3-978299651cd3"
      },
      "execution_count": null,
      "outputs": [
        {
          "output_type": "execute_result",
          "data": {
            "text/plain": [
              "   weight weight_cut\n",
              "0    75.0   (60, 75]\n",
              "1    78.5   (75, 80]\n",
              "2    85.0   (80, 95]\n",
              "3    91.0   (80, 95]\n",
              "4    84.5   (80, 95]\n",
              "5    83.0   (80, 95]\n",
              "6    68.0   (60, 75]"
            ],
            "text/html": [
              "\n",
              "  <div id=\"df-0a1af644-bcd9-495f-898c-2340df504cd4\" class=\"colab-df-container\">\n",
              "    <div>\n",
              "<style scoped>\n",
              "    .dataframe tbody tr th:only-of-type {\n",
              "        vertical-align: middle;\n",
              "    }\n",
              "\n",
              "    .dataframe tbody tr th {\n",
              "        vertical-align: top;\n",
              "    }\n",
              "\n",
              "    .dataframe thead th {\n",
              "        text-align: right;\n",
              "    }\n",
              "</style>\n",
              "<table border=\"1\" class=\"dataframe\">\n",
              "  <thead>\n",
              "    <tr style=\"text-align: right;\">\n",
              "      <th></th>\n",
              "      <th>weight</th>\n",
              "      <th>weight_cut</th>\n",
              "    </tr>\n",
              "  </thead>\n",
              "  <tbody>\n",
              "    <tr>\n",
              "      <th>0</th>\n",
              "      <td>75.0</td>\n",
              "      <td>(60, 75]</td>\n",
              "    </tr>\n",
              "    <tr>\n",
              "      <th>1</th>\n",
              "      <td>78.5</td>\n",
              "      <td>(75, 80]</td>\n",
              "    </tr>\n",
              "    <tr>\n",
              "      <th>2</th>\n",
              "      <td>85.0</td>\n",
              "      <td>(80, 95]</td>\n",
              "    </tr>\n",
              "    <tr>\n",
              "      <th>3</th>\n",
              "      <td>91.0</td>\n",
              "      <td>(80, 95]</td>\n",
              "    </tr>\n",
              "    <tr>\n",
              "      <th>4</th>\n",
              "      <td>84.5</td>\n",
              "      <td>(80, 95]</td>\n",
              "    </tr>\n",
              "    <tr>\n",
              "      <th>5</th>\n",
              "      <td>83.0</td>\n",
              "      <td>(80, 95]</td>\n",
              "    </tr>\n",
              "    <tr>\n",
              "      <th>6</th>\n",
              "      <td>68.0</td>\n",
              "      <td>(60, 75]</td>\n",
              "    </tr>\n",
              "  </tbody>\n",
              "</table>\n",
              "</div>\n",
              "    <div class=\"colab-df-buttons\">\n",
              "\n",
              "  <div class=\"colab-df-container\">\n",
              "    <button class=\"colab-df-convert\" onclick=\"convertToInteractive('df-0a1af644-bcd9-495f-898c-2340df504cd4')\"\n",
              "            title=\"Convert this dataframe to an interactive table.\"\n",
              "            style=\"display:none;\">\n",
              "\n",
              "  <svg xmlns=\"http://www.w3.org/2000/svg\" height=\"24px\" viewBox=\"0 -960 960 960\">\n",
              "    <path d=\"M120-120v-720h720v720H120Zm60-500h600v-160H180v160Zm220 220h160v-160H400v160Zm0 220h160v-160H400v160ZM180-400h160v-160H180v160Zm440 0h160v-160H620v160ZM180-180h160v-160H180v160Zm440 0h160v-160H620v160Z\"/>\n",
              "  </svg>\n",
              "    </button>\n",
              "\n",
              "  <style>\n",
              "    .colab-df-container {\n",
              "      display:flex;\n",
              "      gap: 12px;\n",
              "    }\n",
              "\n",
              "    .colab-df-convert {\n",
              "      background-color: #E8F0FE;\n",
              "      border: none;\n",
              "      border-radius: 50%;\n",
              "      cursor: pointer;\n",
              "      display: none;\n",
              "      fill: #1967D2;\n",
              "      height: 32px;\n",
              "      padding: 0 0 0 0;\n",
              "      width: 32px;\n",
              "    }\n",
              "\n",
              "    .colab-df-convert:hover {\n",
              "      background-color: #E2EBFA;\n",
              "      box-shadow: 0px 1px 2px rgba(60, 64, 67, 0.3), 0px 1px 3px 1px rgba(60, 64, 67, 0.15);\n",
              "      fill: #174EA6;\n",
              "    }\n",
              "\n",
              "    .colab-df-buttons div {\n",
              "      margin-bottom: 4px;\n",
              "    }\n",
              "\n",
              "    [theme=dark] .colab-df-convert {\n",
              "      background-color: #3B4455;\n",
              "      fill: #D2E3FC;\n",
              "    }\n",
              "\n",
              "    [theme=dark] .colab-df-convert:hover {\n",
              "      background-color: #434B5C;\n",
              "      box-shadow: 0px 1px 3px 1px rgba(0, 0, 0, 0.15);\n",
              "      filter: drop-shadow(0px 1px 2px rgba(0, 0, 0, 0.3));\n",
              "      fill: #FFFFFF;\n",
              "    }\n",
              "  </style>\n",
              "\n",
              "    <script>\n",
              "      const buttonEl =\n",
              "        document.querySelector('#df-0a1af644-bcd9-495f-898c-2340df504cd4 button.colab-df-convert');\n",
              "      buttonEl.style.display =\n",
              "        google.colab.kernel.accessAllowed ? 'block' : 'none';\n",
              "\n",
              "      async function convertToInteractive(key) {\n",
              "        const element = document.querySelector('#df-0a1af644-bcd9-495f-898c-2340df504cd4');\n",
              "        const dataTable =\n",
              "          await google.colab.kernel.invokeFunction('convertToInteractive',\n",
              "                                                    [key], {});\n",
              "        if (!dataTable) return;\n",
              "\n",
              "        const docLinkHtml = 'Like what you see? Visit the ' +\n",
              "          '<a target=\"_blank\" href=https://colab.research.google.com/notebooks/data_table.ipynb>data table notebook</a>'\n",
              "          + ' to learn more about interactive tables.';\n",
              "        element.innerHTML = '';\n",
              "        dataTable['output_type'] = 'display_data';\n",
              "        await google.colab.output.renderOutput(dataTable, element);\n",
              "        const docLink = document.createElement('div');\n",
              "        docLink.innerHTML = docLinkHtml;\n",
              "        element.appendChild(docLink);\n",
              "      }\n",
              "    </script>\n",
              "  </div>\n",
              "\n",
              "\n",
              "<div id=\"df-9ca6e01b-8cb7-492b-986a-00749c7adb50\">\n",
              "  <button class=\"colab-df-quickchart\" onclick=\"quickchart('df-9ca6e01b-8cb7-492b-986a-00749c7adb50')\"\n",
              "            title=\"Suggest charts\"\n",
              "            style=\"display:none;\">\n",
              "\n",
              "<svg xmlns=\"http://www.w3.org/2000/svg\" height=\"24px\"viewBox=\"0 0 24 24\"\n",
              "     width=\"24px\">\n",
              "    <g>\n",
              "        <path d=\"M19 3H5c-1.1 0-2 .9-2 2v14c0 1.1.9 2 2 2h14c1.1 0 2-.9 2-2V5c0-1.1-.9-2-2-2zM9 17H7v-7h2v7zm4 0h-2V7h2v10zm4 0h-2v-4h2v4z\"/>\n",
              "    </g>\n",
              "</svg>\n",
              "  </button>\n",
              "\n",
              "<style>\n",
              "  .colab-df-quickchart {\n",
              "      --bg-color: #E8F0FE;\n",
              "      --fill-color: #1967D2;\n",
              "      --hover-bg-color: #E2EBFA;\n",
              "      --hover-fill-color: #174EA6;\n",
              "      --disabled-fill-color: #AAA;\n",
              "      --disabled-bg-color: #DDD;\n",
              "  }\n",
              "\n",
              "  [theme=dark] .colab-df-quickchart {\n",
              "      --bg-color: #3B4455;\n",
              "      --fill-color: #D2E3FC;\n",
              "      --hover-bg-color: #434B5C;\n",
              "      --hover-fill-color: #FFFFFF;\n",
              "      --disabled-bg-color: #3B4455;\n",
              "      --disabled-fill-color: #666;\n",
              "  }\n",
              "\n",
              "  .colab-df-quickchart {\n",
              "    background-color: var(--bg-color);\n",
              "    border: none;\n",
              "    border-radius: 50%;\n",
              "    cursor: pointer;\n",
              "    display: none;\n",
              "    fill: var(--fill-color);\n",
              "    height: 32px;\n",
              "    padding: 0;\n",
              "    width: 32px;\n",
              "  }\n",
              "\n",
              "  .colab-df-quickchart:hover {\n",
              "    background-color: var(--hover-bg-color);\n",
              "    box-shadow: 0 1px 2px rgba(60, 64, 67, 0.3), 0 1px 3px 1px rgba(60, 64, 67, 0.15);\n",
              "    fill: var(--button-hover-fill-color);\n",
              "  }\n",
              "\n",
              "  .colab-df-quickchart-complete:disabled,\n",
              "  .colab-df-quickchart-complete:disabled:hover {\n",
              "    background-color: var(--disabled-bg-color);\n",
              "    fill: var(--disabled-fill-color);\n",
              "    box-shadow: none;\n",
              "  }\n",
              "\n",
              "  .colab-df-spinner {\n",
              "    border: 2px solid var(--fill-color);\n",
              "    border-color: transparent;\n",
              "    border-bottom-color: var(--fill-color);\n",
              "    animation:\n",
              "      spin 1s steps(1) infinite;\n",
              "  }\n",
              "\n",
              "  @keyframes spin {\n",
              "    0% {\n",
              "      border-color: transparent;\n",
              "      border-bottom-color: var(--fill-color);\n",
              "      border-left-color: var(--fill-color);\n",
              "    }\n",
              "    20% {\n",
              "      border-color: transparent;\n",
              "      border-left-color: var(--fill-color);\n",
              "      border-top-color: var(--fill-color);\n",
              "    }\n",
              "    30% {\n",
              "      border-color: transparent;\n",
              "      border-left-color: var(--fill-color);\n",
              "      border-top-color: var(--fill-color);\n",
              "      border-right-color: var(--fill-color);\n",
              "    }\n",
              "    40% {\n",
              "      border-color: transparent;\n",
              "      border-right-color: var(--fill-color);\n",
              "      border-top-color: var(--fill-color);\n",
              "    }\n",
              "    60% {\n",
              "      border-color: transparent;\n",
              "      border-right-color: var(--fill-color);\n",
              "    }\n",
              "    80% {\n",
              "      border-color: transparent;\n",
              "      border-right-color: var(--fill-color);\n",
              "      border-bottom-color: var(--fill-color);\n",
              "    }\n",
              "    90% {\n",
              "      border-color: transparent;\n",
              "      border-bottom-color: var(--fill-color);\n",
              "    }\n",
              "  }\n",
              "</style>\n",
              "\n",
              "  <script>\n",
              "    async function quickchart(key) {\n",
              "      const quickchartButtonEl =\n",
              "        document.querySelector('#' + key + ' button');\n",
              "      quickchartButtonEl.disabled = true;  // To prevent multiple clicks.\n",
              "      quickchartButtonEl.classList.add('colab-df-spinner');\n",
              "      try {\n",
              "        const charts = await google.colab.kernel.invokeFunction(\n",
              "            'suggestCharts', [key], {});\n",
              "      } catch (error) {\n",
              "        console.error('Error during call to suggestCharts:', error);\n",
              "      }\n",
              "      quickchartButtonEl.classList.remove('colab-df-spinner');\n",
              "      quickchartButtonEl.classList.add('colab-df-quickchart-complete');\n",
              "    }\n",
              "    (() => {\n",
              "      let quickchartButtonEl =\n",
              "        document.querySelector('#df-9ca6e01b-8cb7-492b-986a-00749c7adb50 button');\n",
              "      quickchartButtonEl.style.display =\n",
              "        google.colab.kernel.accessAllowed ? 'block' : 'none';\n",
              "    })();\n",
              "  </script>\n",
              "</div>\n",
              "    </div>\n",
              "  </div>\n"
            ],
            "application/vnd.google.colaboratory.intrinsic+json": {
              "type": "dataframe",
              "variable_name": "df",
              "summary": "{\n  \"name\": \"df\",\n  \"rows\": 7,\n  \"fields\": [\n    {\n      \"column\": \"weight\",\n      \"properties\": {\n        \"dtype\": \"number\",\n        \"std\": 7.560076845162482,\n        \"min\": 68.0,\n        \"max\": 91.0,\n        \"num_unique_values\": 7,\n        \"samples\": [\n          75.0,\n          78.5,\n          83.0\n        ],\n        \"semantic_type\": \"\",\n        \"description\": \"\"\n      }\n    },\n    {\n      \"column\": \"weight_cut\",\n      \"properties\": {\n        \"dtype\": \"category\",\n        \"num_unique_values\": 3,\n        \"samples\": [\n          \"(60, 75]\",\n          \"(75, 80]\",\n          \"(80, 95]\"\n        ],\n        \"semantic_type\": \"\",\n        \"description\": \"\"\n      }\n    }\n  ]\n}"
            }
          },
          "metadata": {},
          "execution_count": 30
        }
      ]
    },
    {
      "cell_type": "markdown",
      "source": [
        "Ćwiczenie 10"
      ],
      "metadata": {
        "id": "JnY1s8meiIFJ"
      }
    },
    {
      "cell_type": "code",
      "source": [
        "import pandas as pd\n",
        "\n",
        "\n",
        "df = pd.DataFrame(\n",
        "    data={'weight': [75., 78.5, 85., 91., 84.5, 83., 68.]}\n",
        ")\n",
        "df['weight_cut'] = pd.cut(\n",
        "    df['weight'],\n",
        "    bins=[60, 75, 80, 95],\n",
        "    labels=['light', 'normal', 'heavy']\n",
        ")\n",
        "df"
      ],
      "metadata": {
        "id": "JoaAaUediMvL",
        "colab": {
          "base_uri": "https://localhost:8080/",
          "height": 269
        },
        "outputId": "089e46d3-dc5f-4c1a-c347-fb18516c11ad"
      },
      "execution_count": null,
      "outputs": [
        {
          "output_type": "execute_result",
          "data": {
            "text/plain": [
              "   weight weight_cut\n",
              "0    75.0      light\n",
              "1    78.5     normal\n",
              "2    85.0      heavy\n",
              "3    91.0      heavy\n",
              "4    84.5      heavy\n",
              "5    83.0      heavy\n",
              "6    68.0      light"
            ],
            "text/html": [
              "\n",
              "  <div id=\"df-1712731f-9fb0-4c65-8129-f5ef594a1826\" class=\"colab-df-container\">\n",
              "    <div>\n",
              "<style scoped>\n",
              "    .dataframe tbody tr th:only-of-type {\n",
              "        vertical-align: middle;\n",
              "    }\n",
              "\n",
              "    .dataframe tbody tr th {\n",
              "        vertical-align: top;\n",
              "    }\n",
              "\n",
              "    .dataframe thead th {\n",
              "        text-align: right;\n",
              "    }\n",
              "</style>\n",
              "<table border=\"1\" class=\"dataframe\">\n",
              "  <thead>\n",
              "    <tr style=\"text-align: right;\">\n",
              "      <th></th>\n",
              "      <th>weight</th>\n",
              "      <th>weight_cut</th>\n",
              "    </tr>\n",
              "  </thead>\n",
              "  <tbody>\n",
              "    <tr>\n",
              "      <th>0</th>\n",
              "      <td>75.0</td>\n",
              "      <td>light</td>\n",
              "    </tr>\n",
              "    <tr>\n",
              "      <th>1</th>\n",
              "      <td>78.5</td>\n",
              "      <td>normal</td>\n",
              "    </tr>\n",
              "    <tr>\n",
              "      <th>2</th>\n",
              "      <td>85.0</td>\n",
              "      <td>heavy</td>\n",
              "    </tr>\n",
              "    <tr>\n",
              "      <th>3</th>\n",
              "      <td>91.0</td>\n",
              "      <td>heavy</td>\n",
              "    </tr>\n",
              "    <tr>\n",
              "      <th>4</th>\n",
              "      <td>84.5</td>\n",
              "      <td>heavy</td>\n",
              "    </tr>\n",
              "    <tr>\n",
              "      <th>5</th>\n",
              "      <td>83.0</td>\n",
              "      <td>heavy</td>\n",
              "    </tr>\n",
              "    <tr>\n",
              "      <th>6</th>\n",
              "      <td>68.0</td>\n",
              "      <td>light</td>\n",
              "    </tr>\n",
              "  </tbody>\n",
              "</table>\n",
              "</div>\n",
              "    <div class=\"colab-df-buttons\">\n",
              "\n",
              "  <div class=\"colab-df-container\">\n",
              "    <button class=\"colab-df-convert\" onclick=\"convertToInteractive('df-1712731f-9fb0-4c65-8129-f5ef594a1826')\"\n",
              "            title=\"Convert this dataframe to an interactive table.\"\n",
              "            style=\"display:none;\">\n",
              "\n",
              "  <svg xmlns=\"http://www.w3.org/2000/svg\" height=\"24px\" viewBox=\"0 -960 960 960\">\n",
              "    <path d=\"M120-120v-720h720v720H120Zm60-500h600v-160H180v160Zm220 220h160v-160H400v160Zm0 220h160v-160H400v160ZM180-400h160v-160H180v160Zm440 0h160v-160H620v160ZM180-180h160v-160H180v160Zm440 0h160v-160H620v160Z\"/>\n",
              "  </svg>\n",
              "    </button>\n",
              "\n",
              "  <style>\n",
              "    .colab-df-container {\n",
              "      display:flex;\n",
              "      gap: 12px;\n",
              "    }\n",
              "\n",
              "    .colab-df-convert {\n",
              "      background-color: #E8F0FE;\n",
              "      border: none;\n",
              "      border-radius: 50%;\n",
              "      cursor: pointer;\n",
              "      display: none;\n",
              "      fill: #1967D2;\n",
              "      height: 32px;\n",
              "      padding: 0 0 0 0;\n",
              "      width: 32px;\n",
              "    }\n",
              "\n",
              "    .colab-df-convert:hover {\n",
              "      background-color: #E2EBFA;\n",
              "      box-shadow: 0px 1px 2px rgba(60, 64, 67, 0.3), 0px 1px 3px 1px rgba(60, 64, 67, 0.15);\n",
              "      fill: #174EA6;\n",
              "    }\n",
              "\n",
              "    .colab-df-buttons div {\n",
              "      margin-bottom: 4px;\n",
              "    }\n",
              "\n",
              "    [theme=dark] .colab-df-convert {\n",
              "      background-color: #3B4455;\n",
              "      fill: #D2E3FC;\n",
              "    }\n",
              "\n",
              "    [theme=dark] .colab-df-convert:hover {\n",
              "      background-color: #434B5C;\n",
              "      box-shadow: 0px 1px 3px 1px rgba(0, 0, 0, 0.15);\n",
              "      filter: drop-shadow(0px 1px 2px rgba(0, 0, 0, 0.3));\n",
              "      fill: #FFFFFF;\n",
              "    }\n",
              "  </style>\n",
              "\n",
              "    <script>\n",
              "      const buttonEl =\n",
              "        document.querySelector('#df-1712731f-9fb0-4c65-8129-f5ef594a1826 button.colab-df-convert');\n",
              "      buttonEl.style.display =\n",
              "        google.colab.kernel.accessAllowed ? 'block' : 'none';\n",
              "\n",
              "      async function convertToInteractive(key) {\n",
              "        const element = document.querySelector('#df-1712731f-9fb0-4c65-8129-f5ef594a1826');\n",
              "        const dataTable =\n",
              "          await google.colab.kernel.invokeFunction('convertToInteractive',\n",
              "                                                    [key], {});\n",
              "        if (!dataTable) return;\n",
              "\n",
              "        const docLinkHtml = 'Like what you see? Visit the ' +\n",
              "          '<a target=\"_blank\" href=https://colab.research.google.com/notebooks/data_table.ipynb>data table notebook</a>'\n",
              "          + ' to learn more about interactive tables.';\n",
              "        element.innerHTML = '';\n",
              "        dataTable['output_type'] = 'display_data';\n",
              "        await google.colab.output.renderOutput(dataTable, element);\n",
              "        const docLink = document.createElement('div');\n",
              "        docLink.innerHTML = docLinkHtml;\n",
              "        element.appendChild(docLink);\n",
              "      }\n",
              "    </script>\n",
              "  </div>\n",
              "\n",
              "\n",
              "<div id=\"df-1aaec174-d172-427b-8bad-947bfd0d7984\">\n",
              "  <button class=\"colab-df-quickchart\" onclick=\"quickchart('df-1aaec174-d172-427b-8bad-947bfd0d7984')\"\n",
              "            title=\"Suggest charts\"\n",
              "            style=\"display:none;\">\n",
              "\n",
              "<svg xmlns=\"http://www.w3.org/2000/svg\" height=\"24px\"viewBox=\"0 0 24 24\"\n",
              "     width=\"24px\">\n",
              "    <g>\n",
              "        <path d=\"M19 3H5c-1.1 0-2 .9-2 2v14c0 1.1.9 2 2 2h14c1.1 0 2-.9 2-2V5c0-1.1-.9-2-2-2zM9 17H7v-7h2v7zm4 0h-2V7h2v10zm4 0h-2v-4h2v4z\"/>\n",
              "    </g>\n",
              "</svg>\n",
              "  </button>\n",
              "\n",
              "<style>\n",
              "  .colab-df-quickchart {\n",
              "      --bg-color: #E8F0FE;\n",
              "      --fill-color: #1967D2;\n",
              "      --hover-bg-color: #E2EBFA;\n",
              "      --hover-fill-color: #174EA6;\n",
              "      --disabled-fill-color: #AAA;\n",
              "      --disabled-bg-color: #DDD;\n",
              "  }\n",
              "\n",
              "  [theme=dark] .colab-df-quickchart {\n",
              "      --bg-color: #3B4455;\n",
              "      --fill-color: #D2E3FC;\n",
              "      --hover-bg-color: #434B5C;\n",
              "      --hover-fill-color: #FFFFFF;\n",
              "      --disabled-bg-color: #3B4455;\n",
              "      --disabled-fill-color: #666;\n",
              "  }\n",
              "\n",
              "  .colab-df-quickchart {\n",
              "    background-color: var(--bg-color);\n",
              "    border: none;\n",
              "    border-radius: 50%;\n",
              "    cursor: pointer;\n",
              "    display: none;\n",
              "    fill: var(--fill-color);\n",
              "    height: 32px;\n",
              "    padding: 0;\n",
              "    width: 32px;\n",
              "  }\n",
              "\n",
              "  .colab-df-quickchart:hover {\n",
              "    background-color: var(--hover-bg-color);\n",
              "    box-shadow: 0 1px 2px rgba(60, 64, 67, 0.3), 0 1px 3px 1px rgba(60, 64, 67, 0.15);\n",
              "    fill: var(--button-hover-fill-color);\n",
              "  }\n",
              "\n",
              "  .colab-df-quickchart-complete:disabled,\n",
              "  .colab-df-quickchart-complete:disabled:hover {\n",
              "    background-color: var(--disabled-bg-color);\n",
              "    fill: var(--disabled-fill-color);\n",
              "    box-shadow: none;\n",
              "  }\n",
              "\n",
              "  .colab-df-spinner {\n",
              "    border: 2px solid var(--fill-color);\n",
              "    border-color: transparent;\n",
              "    border-bottom-color: var(--fill-color);\n",
              "    animation:\n",
              "      spin 1s steps(1) infinite;\n",
              "  }\n",
              "\n",
              "  @keyframes spin {\n",
              "    0% {\n",
              "      border-color: transparent;\n",
              "      border-bottom-color: var(--fill-color);\n",
              "      border-left-color: var(--fill-color);\n",
              "    }\n",
              "    20% {\n",
              "      border-color: transparent;\n",
              "      border-left-color: var(--fill-color);\n",
              "      border-top-color: var(--fill-color);\n",
              "    }\n",
              "    30% {\n",
              "      border-color: transparent;\n",
              "      border-left-color: var(--fill-color);\n",
              "      border-top-color: var(--fill-color);\n",
              "      border-right-color: var(--fill-color);\n",
              "    }\n",
              "    40% {\n",
              "      border-color: transparent;\n",
              "      border-right-color: var(--fill-color);\n",
              "      border-top-color: var(--fill-color);\n",
              "    }\n",
              "    60% {\n",
              "      border-color: transparent;\n",
              "      border-right-color: var(--fill-color);\n",
              "    }\n",
              "    80% {\n",
              "      border-color: transparent;\n",
              "      border-right-color: var(--fill-color);\n",
              "      border-bottom-color: var(--fill-color);\n",
              "    }\n",
              "    90% {\n",
              "      border-color: transparent;\n",
              "      border-bottom-color: var(--fill-color);\n",
              "    }\n",
              "  }\n",
              "</style>\n",
              "\n",
              "  <script>\n",
              "    async function quickchart(key) {\n",
              "      const quickchartButtonEl =\n",
              "        document.querySelector('#' + key + ' button');\n",
              "      quickchartButtonEl.disabled = true;  // To prevent multiple clicks.\n",
              "      quickchartButtonEl.classList.add('colab-df-spinner');\n",
              "      try {\n",
              "        const charts = await google.colab.kernel.invokeFunction(\n",
              "            'suggestCharts', [key], {});\n",
              "      } catch (error) {\n",
              "        console.error('Error during call to suggestCharts:', error);\n",
              "      }\n",
              "      quickchartButtonEl.classList.remove('colab-df-spinner');\n",
              "      quickchartButtonEl.classList.add('colab-df-quickchart-complete');\n",
              "    }\n",
              "    (() => {\n",
              "      let quickchartButtonEl =\n",
              "        document.querySelector('#df-1aaec174-d172-427b-8bad-947bfd0d7984 button');\n",
              "      quickchartButtonEl.style.display =\n",
              "        google.colab.kernel.accessAllowed ? 'block' : 'none';\n",
              "    })();\n",
              "  </script>\n",
              "</div>\n",
              "    </div>\n",
              "  </div>\n"
            ],
            "application/vnd.google.colaboratory.intrinsic+json": {
              "type": "dataframe",
              "variable_name": "df",
              "summary": "{\n  \"name\": \"df\",\n  \"rows\": 7,\n  \"fields\": [\n    {\n      \"column\": \"weight\",\n      \"properties\": {\n        \"dtype\": \"number\",\n        \"std\": 7.560076845162482,\n        \"min\": 68.0,\n        \"max\": 91.0,\n        \"num_unique_values\": 7,\n        \"samples\": [\n          75.0,\n          78.5,\n          83.0\n        ],\n        \"semantic_type\": \"\",\n        \"description\": \"\"\n      }\n    },\n    {\n      \"column\": \"weight_cut\",\n      \"properties\": {\n        \"dtype\": \"category\",\n        \"num_unique_values\": 3,\n        \"samples\": [\n          \"light\",\n          \"normal\",\n          \"heavy\"\n        ],\n        \"semantic_type\": \"\",\n        \"description\": \"\"\n      }\n    }\n  ]\n}"
            }
          },
          "metadata": {},
          "execution_count": 33
        }
      ]
    },
    {
      "cell_type": "markdown",
      "source": [
        "Ćwiczenie 11"
      ],
      "metadata": {
        "id": "5R0R_GaT83y3"
      }
    },
    {
      "cell_type": "code",
      "source": [
        "import pandas as pd\n",
        "\n",
        "\n",
        "df = pd.DataFrame(\n",
        "    data={'weight': [75.0, 78.5, 85.0, 91.0, 84.5, 83.0, 68.0]}\n",
        ")\n",
        "df['weight_cut'] = pd.cut(\n",
        "    df['weight'],\n",
        "    bins=(60, 75, 80, 95),\n",
        "    labels=['light', 'normal', 'heavy'],\n",
        ")\n",
        "\n",
        "df = pd.get_dummies(df)\n",
        "print(df)"
      ],
      "metadata": {
        "colab": {
          "base_uri": "https://localhost:8080/"
        },
        "id": "pCJ-WuPK89be",
        "outputId": "24cfacf5-734b-4b7d-9e54-f915f9faaeb3"
      },
      "execution_count": null,
      "outputs": [
        {
          "output_type": "stream",
          "name": "stdout",
          "text": [
            "   weight  weight_cut_light  weight_cut_normal  weight_cut_heavy\n",
            "0    75.0                 1                  0                 0\n",
            "1    78.5                 0                  1                 0\n",
            "2    85.0                 0                  0                 1\n",
            "3    91.0                 0                  0                 1\n",
            "4    84.5                 0                  0                 1\n",
            "5    83.0                 0                  0                 1\n",
            "6    68.0                 1                  0                 0\n"
          ]
        }
      ]
    },
    {
      "cell_type": "markdown",
      "source": [
        "Ćwiczenie 12"
      ],
      "metadata": {
        "id": "ocMejbDA87oa"
      }
    },
    {
      "cell_type": "code",
      "source": [
        "import pandas as pd\n",
        "\n",
        "\n",
        "data_dict = {\n",
        "    'currency': [\n",
        "        ['PLN', 'USD'],\n",
        "        ['EUR', 'USD', 'PLN', 'CAD'],\n",
        "        ['GBP'],\n",
        "        ['JPY', 'CZK', 'HUF'],\n",
        "        [],\n",
        "    ]\n",
        "}\n",
        "df = pd.DataFrame(data=data_dict)\n",
        "df['number'] = df['currency'].apply(len)\n",
        "print(df)"
      ],
      "metadata": {
        "colab": {
          "base_uri": "https://localhost:8080/"
        },
        "id": "QZc8_N3G87R2",
        "outputId": "e79963ee-3b3d-4131-bdfb-59340dfc38f8"
      },
      "execution_count": null,
      "outputs": [
        {
          "output_type": "stream",
          "name": "stdout",
          "text": [
            "               currency  number\n",
            "0            [PLN, USD]       2\n",
            "1  [EUR, USD, PLN, CAD]       4\n",
            "2                 [GBP]       1\n",
            "3       [JPY, CZK, HUF]       3\n",
            "4                    []       0\n"
          ]
        }
      ]
    },
    {
      "cell_type": "markdown",
      "source": [
        "Ćwiczenie 13"
      ],
      "metadata": {
        "id": "ZhYqbvBz8-iY"
      }
    },
    {
      "cell_type": "code",
      "source": [
        "import pandas as pd\n",
        "\n",
        "\n",
        "data_dict = {\n",
        "    'currency': [\n",
        "        ['PLN', 'USD'],\n",
        "        ['EUR', 'USD', 'PLN', 'CAD'],\n",
        "        ['GBP'],\n",
        "        ['JPY', 'CZK', 'HUF'],\n",
        "        [],\n",
        "    ]\n",
        "}\n",
        "df = pd.DataFrame(data=data_dict)\n",
        "df['PLN_flag'] = df['currency'].apply(lambda x: 1 if 'PLN' in x else 0)\n",
        "df"
      ],
      "metadata": {
        "colab": {
          "base_uri": "https://localhost:8080/",
          "height": 206
        },
        "id": "3L4Z2FwQ9AHD",
        "outputId": "09fe0b37-e034-4993-87b5-e34d50351a08"
      },
      "execution_count": null,
      "outputs": [
        {
          "output_type": "execute_result",
          "data": {
            "text/plain": [
              "               currency  PLN_flag\n",
              "0            [PLN, USD]         1\n",
              "1  [EUR, USD, PLN, CAD]         1\n",
              "2                 [GBP]         0\n",
              "3       [JPY, CZK, HUF]         0\n",
              "4                    []         0"
            ],
            "text/html": [
              "\n",
              "  <div id=\"df-b5a19786-ff94-4b90-a772-45ab17987382\" class=\"colab-df-container\">\n",
              "    <div>\n",
              "<style scoped>\n",
              "    .dataframe tbody tr th:only-of-type {\n",
              "        vertical-align: middle;\n",
              "    }\n",
              "\n",
              "    .dataframe tbody tr th {\n",
              "        vertical-align: top;\n",
              "    }\n",
              "\n",
              "    .dataframe thead th {\n",
              "        text-align: right;\n",
              "    }\n",
              "</style>\n",
              "<table border=\"1\" class=\"dataframe\">\n",
              "  <thead>\n",
              "    <tr style=\"text-align: right;\">\n",
              "      <th></th>\n",
              "      <th>currency</th>\n",
              "      <th>PLN_flag</th>\n",
              "    </tr>\n",
              "  </thead>\n",
              "  <tbody>\n",
              "    <tr>\n",
              "      <th>0</th>\n",
              "      <td>[PLN, USD]</td>\n",
              "      <td>1</td>\n",
              "    </tr>\n",
              "    <tr>\n",
              "      <th>1</th>\n",
              "      <td>[EUR, USD, PLN, CAD]</td>\n",
              "      <td>1</td>\n",
              "    </tr>\n",
              "    <tr>\n",
              "      <th>2</th>\n",
              "      <td>[GBP]</td>\n",
              "      <td>0</td>\n",
              "    </tr>\n",
              "    <tr>\n",
              "      <th>3</th>\n",
              "      <td>[JPY, CZK, HUF]</td>\n",
              "      <td>0</td>\n",
              "    </tr>\n",
              "    <tr>\n",
              "      <th>4</th>\n",
              "      <td>[]</td>\n",
              "      <td>0</td>\n",
              "    </tr>\n",
              "  </tbody>\n",
              "</table>\n",
              "</div>\n",
              "    <div class=\"colab-df-buttons\">\n",
              "\n",
              "  <div class=\"colab-df-container\">\n",
              "    <button class=\"colab-df-convert\" onclick=\"convertToInteractive('df-b5a19786-ff94-4b90-a772-45ab17987382')\"\n",
              "            title=\"Convert this dataframe to an interactive table.\"\n",
              "            style=\"display:none;\">\n",
              "\n",
              "  <svg xmlns=\"http://www.w3.org/2000/svg\" height=\"24px\" viewBox=\"0 -960 960 960\">\n",
              "    <path d=\"M120-120v-720h720v720H120Zm60-500h600v-160H180v160Zm220 220h160v-160H400v160Zm0 220h160v-160H400v160ZM180-400h160v-160H180v160Zm440 0h160v-160H620v160ZM180-180h160v-160H180v160Zm440 0h160v-160H620v160Z\"/>\n",
              "  </svg>\n",
              "    </button>\n",
              "\n",
              "  <style>\n",
              "    .colab-df-container {\n",
              "      display:flex;\n",
              "      gap: 12px;\n",
              "    }\n",
              "\n",
              "    .colab-df-convert {\n",
              "      background-color: #E8F0FE;\n",
              "      border: none;\n",
              "      border-radius: 50%;\n",
              "      cursor: pointer;\n",
              "      display: none;\n",
              "      fill: #1967D2;\n",
              "      height: 32px;\n",
              "      padding: 0 0 0 0;\n",
              "      width: 32px;\n",
              "    }\n",
              "\n",
              "    .colab-df-convert:hover {\n",
              "      background-color: #E2EBFA;\n",
              "      box-shadow: 0px 1px 2px rgba(60, 64, 67, 0.3), 0px 1px 3px 1px rgba(60, 64, 67, 0.15);\n",
              "      fill: #174EA6;\n",
              "    }\n",
              "\n",
              "    .colab-df-buttons div {\n",
              "      margin-bottom: 4px;\n",
              "    }\n",
              "\n",
              "    [theme=dark] .colab-df-convert {\n",
              "      background-color: #3B4455;\n",
              "      fill: #D2E3FC;\n",
              "    }\n",
              "\n",
              "    [theme=dark] .colab-df-convert:hover {\n",
              "      background-color: #434B5C;\n",
              "      box-shadow: 0px 1px 3px 1px rgba(0, 0, 0, 0.15);\n",
              "      filter: drop-shadow(0px 1px 2px rgba(0, 0, 0, 0.3));\n",
              "      fill: #FFFFFF;\n",
              "    }\n",
              "  </style>\n",
              "\n",
              "    <script>\n",
              "      const buttonEl =\n",
              "        document.querySelector('#df-b5a19786-ff94-4b90-a772-45ab17987382 button.colab-df-convert');\n",
              "      buttonEl.style.display =\n",
              "        google.colab.kernel.accessAllowed ? 'block' : 'none';\n",
              "\n",
              "      async function convertToInteractive(key) {\n",
              "        const element = document.querySelector('#df-b5a19786-ff94-4b90-a772-45ab17987382');\n",
              "        const dataTable =\n",
              "          await google.colab.kernel.invokeFunction('convertToInteractive',\n",
              "                                                    [key], {});\n",
              "        if (!dataTable) return;\n",
              "\n",
              "        const docLinkHtml = 'Like what you see? Visit the ' +\n",
              "          '<a target=\"_blank\" href=https://colab.research.google.com/notebooks/data_table.ipynb>data table notebook</a>'\n",
              "          + ' to learn more about interactive tables.';\n",
              "        element.innerHTML = '';\n",
              "        dataTable['output_type'] = 'display_data';\n",
              "        await google.colab.output.renderOutput(dataTable, element);\n",
              "        const docLink = document.createElement('div');\n",
              "        docLink.innerHTML = docLinkHtml;\n",
              "        element.appendChild(docLink);\n",
              "      }\n",
              "    </script>\n",
              "  </div>\n",
              "\n",
              "\n",
              "<div id=\"df-824605b2-4e85-4392-aebe-6200b49be81f\">\n",
              "  <button class=\"colab-df-quickchart\" onclick=\"quickchart('df-824605b2-4e85-4392-aebe-6200b49be81f')\"\n",
              "            title=\"Suggest charts\"\n",
              "            style=\"display:none;\">\n",
              "\n",
              "<svg xmlns=\"http://www.w3.org/2000/svg\" height=\"24px\"viewBox=\"0 0 24 24\"\n",
              "     width=\"24px\">\n",
              "    <g>\n",
              "        <path d=\"M19 3H5c-1.1 0-2 .9-2 2v14c0 1.1.9 2 2 2h14c1.1 0 2-.9 2-2V5c0-1.1-.9-2-2-2zM9 17H7v-7h2v7zm4 0h-2V7h2v10zm4 0h-2v-4h2v4z\"/>\n",
              "    </g>\n",
              "</svg>\n",
              "  </button>\n",
              "\n",
              "<style>\n",
              "  .colab-df-quickchart {\n",
              "      --bg-color: #E8F0FE;\n",
              "      --fill-color: #1967D2;\n",
              "      --hover-bg-color: #E2EBFA;\n",
              "      --hover-fill-color: #174EA6;\n",
              "      --disabled-fill-color: #AAA;\n",
              "      --disabled-bg-color: #DDD;\n",
              "  }\n",
              "\n",
              "  [theme=dark] .colab-df-quickchart {\n",
              "      --bg-color: #3B4455;\n",
              "      --fill-color: #D2E3FC;\n",
              "      --hover-bg-color: #434B5C;\n",
              "      --hover-fill-color: #FFFFFF;\n",
              "      --disabled-bg-color: #3B4455;\n",
              "      --disabled-fill-color: #666;\n",
              "  }\n",
              "\n",
              "  .colab-df-quickchart {\n",
              "    background-color: var(--bg-color);\n",
              "    border: none;\n",
              "    border-radius: 50%;\n",
              "    cursor: pointer;\n",
              "    display: none;\n",
              "    fill: var(--fill-color);\n",
              "    height: 32px;\n",
              "    padding: 0;\n",
              "    width: 32px;\n",
              "  }\n",
              "\n",
              "  .colab-df-quickchart:hover {\n",
              "    background-color: var(--hover-bg-color);\n",
              "    box-shadow: 0 1px 2px rgba(60, 64, 67, 0.3), 0 1px 3px 1px rgba(60, 64, 67, 0.15);\n",
              "    fill: var(--button-hover-fill-color);\n",
              "  }\n",
              "\n",
              "  .colab-df-quickchart-complete:disabled,\n",
              "  .colab-df-quickchart-complete:disabled:hover {\n",
              "    background-color: var(--disabled-bg-color);\n",
              "    fill: var(--disabled-fill-color);\n",
              "    box-shadow: none;\n",
              "  }\n",
              "\n",
              "  .colab-df-spinner {\n",
              "    border: 2px solid var(--fill-color);\n",
              "    border-color: transparent;\n",
              "    border-bottom-color: var(--fill-color);\n",
              "    animation:\n",
              "      spin 1s steps(1) infinite;\n",
              "  }\n",
              "\n",
              "  @keyframes spin {\n",
              "    0% {\n",
              "      border-color: transparent;\n",
              "      border-bottom-color: var(--fill-color);\n",
              "      border-left-color: var(--fill-color);\n",
              "    }\n",
              "    20% {\n",
              "      border-color: transparent;\n",
              "      border-left-color: var(--fill-color);\n",
              "      border-top-color: var(--fill-color);\n",
              "    }\n",
              "    30% {\n",
              "      border-color: transparent;\n",
              "      border-left-color: var(--fill-color);\n",
              "      border-top-color: var(--fill-color);\n",
              "      border-right-color: var(--fill-color);\n",
              "    }\n",
              "    40% {\n",
              "      border-color: transparent;\n",
              "      border-right-color: var(--fill-color);\n",
              "      border-top-color: var(--fill-color);\n",
              "    }\n",
              "    60% {\n",
              "      border-color: transparent;\n",
              "      border-right-color: var(--fill-color);\n",
              "    }\n",
              "    80% {\n",
              "      border-color: transparent;\n",
              "      border-right-color: var(--fill-color);\n",
              "      border-bottom-color: var(--fill-color);\n",
              "    }\n",
              "    90% {\n",
              "      border-color: transparent;\n",
              "      border-bottom-color: var(--fill-color);\n",
              "    }\n",
              "  }\n",
              "</style>\n",
              "\n",
              "  <script>\n",
              "    async function quickchart(key) {\n",
              "      const quickchartButtonEl =\n",
              "        document.querySelector('#' + key + ' button');\n",
              "      quickchartButtonEl.disabled = true;  // To prevent multiple clicks.\n",
              "      quickchartButtonEl.classList.add('colab-df-spinner');\n",
              "      try {\n",
              "        const charts = await google.colab.kernel.invokeFunction(\n",
              "            'suggestCharts', [key], {});\n",
              "      } catch (error) {\n",
              "        console.error('Error during call to suggestCharts:', error);\n",
              "      }\n",
              "      quickchartButtonEl.classList.remove('colab-df-spinner');\n",
              "      quickchartButtonEl.classList.add('colab-df-quickchart-complete');\n",
              "    }\n",
              "    (() => {\n",
              "      let quickchartButtonEl =\n",
              "        document.querySelector('#df-824605b2-4e85-4392-aebe-6200b49be81f button');\n",
              "      quickchartButtonEl.style.display =\n",
              "        google.colab.kernel.accessAllowed ? 'block' : 'none';\n",
              "    })();\n",
              "  </script>\n",
              "</div>\n",
              "    </div>\n",
              "  </div>\n"
            ],
            "application/vnd.google.colaboratory.intrinsic+json": {
              "type": "dataframe",
              "variable_name": "df",
              "summary": "{\n  \"name\": \"df\",\n  \"rows\": 5,\n  \"fields\": [\n    {\n      \"column\": \"currency\",\n      \"properties\": {\n        \"dtype\": \"object\",\n        \"semantic_type\": \"\",\n        \"description\": \"\"\n      }\n    },\n    {\n      \"column\": \"PLN_flag\",\n      \"properties\": {\n        \"dtype\": \"number\",\n        \"std\": 0,\n        \"min\": 0,\n        \"max\": 1,\n        \"num_unique_values\": 2,\n        \"samples\": [\n          0,\n          1\n        ],\n        \"semantic_type\": \"\",\n        \"description\": \"\"\n      }\n    }\n  ]\n}"
            }
          },
          "metadata": {},
          "execution_count": 59
        }
      ]
    },
    {
      "cell_type": "markdown",
      "source": [
        "Ćwiczenie 14\n",
        "\n",
        "Opis: Podziel wartości kolumny hashtags względem znaku hash '#' używając pd.Series.str.split() z argumentem expand=True. Usuń pierwszą kolumnę z tak otrzymanego obiektu (pierwsza kolumna zawiera puste stringi). Następnie przypisz nazwy pozostałych kolumn odpowiednio: 'hashtag1', 'hashtag2' oraz 'hashtag3'"
      ],
      "metadata": {
        "id": "OXAsBGVJ9Dra"
      }
    },
    {
      "cell_type": "code",
      "source": [
        "import pandas as pd\n",
        "\n",
        "\n",
        "df = pd.DataFrame(\n",
        "    data={\n",
        "        'hashtags': [\n",
        "            '#good#vibes',\n",
        "            '#hot#summer#holiday',\n",
        "            '#street#food',\n",
        "            '#workout',\n",
        "        ]\n",
        "    }\n",
        ")\n",
        "\n",
        "df = df['hashtags'].str.split('#', expand=True)\n",
        "del df[0]\n",
        "df.columns = ['hashtag1', 'hashtag2', 'hashtag3']\n",
        "df"
      ],
      "metadata": {
        "colab": {
          "base_uri": "https://localhost:8080/",
          "height": 175
        },
        "id": "ETUiwptl9HyY",
        "outputId": "7c5bcaf5-f0c5-4c4b-8925-66080496f1c6"
      },
      "execution_count": null,
      "outputs": [
        {
          "output_type": "execute_result",
          "data": {
            "text/plain": [
              "  hashtag1 hashtag2 hashtag3\n",
              "0     good    vibes     None\n",
              "1      hot   summer  holiday\n",
              "2   street     food     None\n",
              "3  workout     None     None"
            ],
            "text/html": [
              "\n",
              "  <div id=\"df-35702366-6e79-4f6d-af6c-dd6938d85029\" class=\"colab-df-container\">\n",
              "    <div>\n",
              "<style scoped>\n",
              "    .dataframe tbody tr th:only-of-type {\n",
              "        vertical-align: middle;\n",
              "    }\n",
              "\n",
              "    .dataframe tbody tr th {\n",
              "        vertical-align: top;\n",
              "    }\n",
              "\n",
              "    .dataframe thead th {\n",
              "        text-align: right;\n",
              "    }\n",
              "</style>\n",
              "<table border=\"1\" class=\"dataframe\">\n",
              "  <thead>\n",
              "    <tr style=\"text-align: right;\">\n",
              "      <th></th>\n",
              "      <th>hashtag1</th>\n",
              "      <th>hashtag2</th>\n",
              "      <th>hashtag3</th>\n",
              "    </tr>\n",
              "  </thead>\n",
              "  <tbody>\n",
              "    <tr>\n",
              "      <th>0</th>\n",
              "      <td>good</td>\n",
              "      <td>vibes</td>\n",
              "      <td>None</td>\n",
              "    </tr>\n",
              "    <tr>\n",
              "      <th>1</th>\n",
              "      <td>hot</td>\n",
              "      <td>summer</td>\n",
              "      <td>holiday</td>\n",
              "    </tr>\n",
              "    <tr>\n",
              "      <th>2</th>\n",
              "      <td>street</td>\n",
              "      <td>food</td>\n",
              "      <td>None</td>\n",
              "    </tr>\n",
              "    <tr>\n",
              "      <th>3</th>\n",
              "      <td>workout</td>\n",
              "      <td>None</td>\n",
              "      <td>None</td>\n",
              "    </tr>\n",
              "  </tbody>\n",
              "</table>\n",
              "</div>\n",
              "    <div class=\"colab-df-buttons\">\n",
              "\n",
              "  <div class=\"colab-df-container\">\n",
              "    <button class=\"colab-df-convert\" onclick=\"convertToInteractive('df-35702366-6e79-4f6d-af6c-dd6938d85029')\"\n",
              "            title=\"Convert this dataframe to an interactive table.\"\n",
              "            style=\"display:none;\">\n",
              "\n",
              "  <svg xmlns=\"http://www.w3.org/2000/svg\" height=\"24px\" viewBox=\"0 -960 960 960\">\n",
              "    <path d=\"M120-120v-720h720v720H120Zm60-500h600v-160H180v160Zm220 220h160v-160H400v160Zm0 220h160v-160H400v160ZM180-400h160v-160H180v160Zm440 0h160v-160H620v160ZM180-180h160v-160H180v160Zm440 0h160v-160H620v160Z\"/>\n",
              "  </svg>\n",
              "    </button>\n",
              "\n",
              "  <style>\n",
              "    .colab-df-container {\n",
              "      display:flex;\n",
              "      gap: 12px;\n",
              "    }\n",
              "\n",
              "    .colab-df-convert {\n",
              "      background-color: #E8F0FE;\n",
              "      border: none;\n",
              "      border-radius: 50%;\n",
              "      cursor: pointer;\n",
              "      display: none;\n",
              "      fill: #1967D2;\n",
              "      height: 32px;\n",
              "      padding: 0 0 0 0;\n",
              "      width: 32px;\n",
              "    }\n",
              "\n",
              "    .colab-df-convert:hover {\n",
              "      background-color: #E2EBFA;\n",
              "      box-shadow: 0px 1px 2px rgba(60, 64, 67, 0.3), 0px 1px 3px 1px rgba(60, 64, 67, 0.15);\n",
              "      fill: #174EA6;\n",
              "    }\n",
              "\n",
              "    .colab-df-buttons div {\n",
              "      margin-bottom: 4px;\n",
              "    }\n",
              "\n",
              "    [theme=dark] .colab-df-convert {\n",
              "      background-color: #3B4455;\n",
              "      fill: #D2E3FC;\n",
              "    }\n",
              "\n",
              "    [theme=dark] .colab-df-convert:hover {\n",
              "      background-color: #434B5C;\n",
              "      box-shadow: 0px 1px 3px 1px rgba(0, 0, 0, 0.15);\n",
              "      filter: drop-shadow(0px 1px 2px rgba(0, 0, 0, 0.3));\n",
              "      fill: #FFFFFF;\n",
              "    }\n",
              "  </style>\n",
              "\n",
              "    <script>\n",
              "      const buttonEl =\n",
              "        document.querySelector('#df-35702366-6e79-4f6d-af6c-dd6938d85029 button.colab-df-convert');\n",
              "      buttonEl.style.display =\n",
              "        google.colab.kernel.accessAllowed ? 'block' : 'none';\n",
              "\n",
              "      async function convertToInteractive(key) {\n",
              "        const element = document.querySelector('#df-35702366-6e79-4f6d-af6c-dd6938d85029');\n",
              "        const dataTable =\n",
              "          await google.colab.kernel.invokeFunction('convertToInteractive',\n",
              "                                                    [key], {});\n",
              "        if (!dataTable) return;\n",
              "\n",
              "        const docLinkHtml = 'Like what you see? Visit the ' +\n",
              "          '<a target=\"_blank\" href=https://colab.research.google.com/notebooks/data_table.ipynb>data table notebook</a>'\n",
              "          + ' to learn more about interactive tables.';\n",
              "        element.innerHTML = '';\n",
              "        dataTable['output_type'] = 'display_data';\n",
              "        await google.colab.output.renderOutput(dataTable, element);\n",
              "        const docLink = document.createElement('div');\n",
              "        docLink.innerHTML = docLinkHtml;\n",
              "        element.appendChild(docLink);\n",
              "      }\n",
              "    </script>\n",
              "  </div>\n",
              "\n",
              "\n",
              "<div id=\"df-c766e644-7434-4a96-8aba-26aacb377f71\">\n",
              "  <button class=\"colab-df-quickchart\" onclick=\"quickchart('df-c766e644-7434-4a96-8aba-26aacb377f71')\"\n",
              "            title=\"Suggest charts\"\n",
              "            style=\"display:none;\">\n",
              "\n",
              "<svg xmlns=\"http://www.w3.org/2000/svg\" height=\"24px\"viewBox=\"0 0 24 24\"\n",
              "     width=\"24px\">\n",
              "    <g>\n",
              "        <path d=\"M19 3H5c-1.1 0-2 .9-2 2v14c0 1.1.9 2 2 2h14c1.1 0 2-.9 2-2V5c0-1.1-.9-2-2-2zM9 17H7v-7h2v7zm4 0h-2V7h2v10zm4 0h-2v-4h2v4z\"/>\n",
              "    </g>\n",
              "</svg>\n",
              "  </button>\n",
              "\n",
              "<style>\n",
              "  .colab-df-quickchart {\n",
              "      --bg-color: #E8F0FE;\n",
              "      --fill-color: #1967D2;\n",
              "      --hover-bg-color: #E2EBFA;\n",
              "      --hover-fill-color: #174EA6;\n",
              "      --disabled-fill-color: #AAA;\n",
              "      --disabled-bg-color: #DDD;\n",
              "  }\n",
              "\n",
              "  [theme=dark] .colab-df-quickchart {\n",
              "      --bg-color: #3B4455;\n",
              "      --fill-color: #D2E3FC;\n",
              "      --hover-bg-color: #434B5C;\n",
              "      --hover-fill-color: #FFFFFF;\n",
              "      --disabled-bg-color: #3B4455;\n",
              "      --disabled-fill-color: #666;\n",
              "  }\n",
              "\n",
              "  .colab-df-quickchart {\n",
              "    background-color: var(--bg-color);\n",
              "    border: none;\n",
              "    border-radius: 50%;\n",
              "    cursor: pointer;\n",
              "    display: none;\n",
              "    fill: var(--fill-color);\n",
              "    height: 32px;\n",
              "    padding: 0;\n",
              "    width: 32px;\n",
              "  }\n",
              "\n",
              "  .colab-df-quickchart:hover {\n",
              "    background-color: var(--hover-bg-color);\n",
              "    box-shadow: 0 1px 2px rgba(60, 64, 67, 0.3), 0 1px 3px 1px rgba(60, 64, 67, 0.15);\n",
              "    fill: var(--button-hover-fill-color);\n",
              "  }\n",
              "\n",
              "  .colab-df-quickchart-complete:disabled,\n",
              "  .colab-df-quickchart-complete:disabled:hover {\n",
              "    background-color: var(--disabled-bg-color);\n",
              "    fill: var(--disabled-fill-color);\n",
              "    box-shadow: none;\n",
              "  }\n",
              "\n",
              "  .colab-df-spinner {\n",
              "    border: 2px solid var(--fill-color);\n",
              "    border-color: transparent;\n",
              "    border-bottom-color: var(--fill-color);\n",
              "    animation:\n",
              "      spin 1s steps(1) infinite;\n",
              "  }\n",
              "\n",
              "  @keyframes spin {\n",
              "    0% {\n",
              "      border-color: transparent;\n",
              "      border-bottom-color: var(--fill-color);\n",
              "      border-left-color: var(--fill-color);\n",
              "    }\n",
              "    20% {\n",
              "      border-color: transparent;\n",
              "      border-left-color: var(--fill-color);\n",
              "      border-top-color: var(--fill-color);\n",
              "    }\n",
              "    30% {\n",
              "      border-color: transparent;\n",
              "      border-left-color: var(--fill-color);\n",
              "      border-top-color: var(--fill-color);\n",
              "      border-right-color: var(--fill-color);\n",
              "    }\n",
              "    40% {\n",
              "      border-color: transparent;\n",
              "      border-right-color: var(--fill-color);\n",
              "      border-top-color: var(--fill-color);\n",
              "    }\n",
              "    60% {\n",
              "      border-color: transparent;\n",
              "      border-right-color: var(--fill-color);\n",
              "    }\n",
              "    80% {\n",
              "      border-color: transparent;\n",
              "      border-right-color: var(--fill-color);\n",
              "      border-bottom-color: var(--fill-color);\n",
              "    }\n",
              "    90% {\n",
              "      border-color: transparent;\n",
              "      border-bottom-color: var(--fill-color);\n",
              "    }\n",
              "  }\n",
              "</style>\n",
              "\n",
              "  <script>\n",
              "    async function quickchart(key) {\n",
              "      const quickchartButtonEl =\n",
              "        document.querySelector('#' + key + ' button');\n",
              "      quickchartButtonEl.disabled = true;  // To prevent multiple clicks.\n",
              "      quickchartButtonEl.classList.add('colab-df-spinner');\n",
              "      try {\n",
              "        const charts = await google.colab.kernel.invokeFunction(\n",
              "            'suggestCharts', [key], {});\n",
              "      } catch (error) {\n",
              "        console.error('Error during call to suggestCharts:', error);\n",
              "      }\n",
              "      quickchartButtonEl.classList.remove('colab-df-spinner');\n",
              "      quickchartButtonEl.classList.add('colab-df-quickchart-complete');\n",
              "    }\n",
              "    (() => {\n",
              "      let quickchartButtonEl =\n",
              "        document.querySelector('#df-c766e644-7434-4a96-8aba-26aacb377f71 button');\n",
              "      quickchartButtonEl.style.display =\n",
              "        google.colab.kernel.accessAllowed ? 'block' : 'none';\n",
              "    })();\n",
              "  </script>\n",
              "</div>\n",
              "    </div>\n",
              "  </div>\n"
            ],
            "application/vnd.google.colaboratory.intrinsic+json": {
              "type": "dataframe",
              "variable_name": "df",
              "summary": "{\n  \"name\": \"df\",\n  \"rows\": 4,\n  \"fields\": [\n    {\n      \"column\": \"hashtag1\",\n      \"properties\": {\n        \"dtype\": \"string\",\n        \"num_unique_values\": 4,\n        \"samples\": [\n          \"hot\",\n          \"workout\",\n          \"good\"\n        ],\n        \"semantic_type\": \"\",\n        \"description\": \"\"\n      }\n    },\n    {\n      \"column\": \"hashtag2\",\n      \"properties\": {\n        \"dtype\": \"string\",\n        \"num_unique_values\": 3,\n        \"samples\": [\n          \"vibes\",\n          \"summer\",\n          \"food\"\n        ],\n        \"semantic_type\": \"\",\n        \"description\": \"\"\n      }\n    },\n    {\n      \"column\": \"hashtag3\",\n      \"properties\": {\n        \"dtype\": \"category\",\n        \"num_unique_values\": 1,\n        \"samples\": [\n          \"holiday\"\n        ],\n        \"semantic_type\": \"\",\n        \"description\": \"\"\n      }\n    }\n  ]\n}"
            }
          },
          "metadata": {},
          "execution_count": 76
        }
      ]
    },
    {
      "cell_type": "markdown",
      "source": [
        "Ćwiczenie 15"
      ],
      "metadata": {
        "id": "ZKuofypa9GK6"
      }
    },
    {
      "cell_type": "code",
      "source": [
        "import pandas as pd\n",
        "\n",
        "\n",
        "df = pd.DataFrame(\n",
        "    data={\n",
        "        'hashtags': [\n",
        "            '#good#vibes',\n",
        "            '#hot#summer#holiday',\n",
        "            '#street#food',\n",
        "            '#workout',\n",
        "        ]\n",
        "    }\n",
        ")\n",
        "\n",
        "df = df['hashtags'].str.split('#', expand=True)\n",
        "del df[0]\n",
        "#df = df.drop(columns=[0])\n",
        "df.columns = ['hashtag1', 'hashtag2', 'hashtag3']\n",
        "df['missing'] = df.isnull().sum(axis=1)\n",
        "df"
      ],
      "metadata": {
        "colab": {
          "base_uri": "https://localhost:8080/",
          "height": 175
        },
        "id": "due1Yfb79Fwi",
        "outputId": "e618f70e-ff6c-4f2f-87e2-75760fab2457"
      },
      "execution_count": null,
      "outputs": [
        {
          "output_type": "execute_result",
          "data": {
            "text/plain": [
              "  hashtag1 hashtag2 hashtag3  missing\n",
              "0     good    vibes     None        1\n",
              "1      hot   summer  holiday        0\n",
              "2   street     food     None        1\n",
              "3  workout     None     None        2"
            ],
            "text/html": [
              "\n",
              "  <div id=\"df-e5e055ee-b9fc-417d-969e-e48c3b373167\" class=\"colab-df-container\">\n",
              "    <div>\n",
              "<style scoped>\n",
              "    .dataframe tbody tr th:only-of-type {\n",
              "        vertical-align: middle;\n",
              "    }\n",
              "\n",
              "    .dataframe tbody tr th {\n",
              "        vertical-align: top;\n",
              "    }\n",
              "\n",
              "    .dataframe thead th {\n",
              "        text-align: right;\n",
              "    }\n",
              "</style>\n",
              "<table border=\"1\" class=\"dataframe\">\n",
              "  <thead>\n",
              "    <tr style=\"text-align: right;\">\n",
              "      <th></th>\n",
              "      <th>hashtag1</th>\n",
              "      <th>hashtag2</th>\n",
              "      <th>hashtag3</th>\n",
              "      <th>missing</th>\n",
              "    </tr>\n",
              "  </thead>\n",
              "  <tbody>\n",
              "    <tr>\n",
              "      <th>0</th>\n",
              "      <td>good</td>\n",
              "      <td>vibes</td>\n",
              "      <td>None</td>\n",
              "      <td>1</td>\n",
              "    </tr>\n",
              "    <tr>\n",
              "      <th>1</th>\n",
              "      <td>hot</td>\n",
              "      <td>summer</td>\n",
              "      <td>holiday</td>\n",
              "      <td>0</td>\n",
              "    </tr>\n",
              "    <tr>\n",
              "      <th>2</th>\n",
              "      <td>street</td>\n",
              "      <td>food</td>\n",
              "      <td>None</td>\n",
              "      <td>1</td>\n",
              "    </tr>\n",
              "    <tr>\n",
              "      <th>3</th>\n",
              "      <td>workout</td>\n",
              "      <td>None</td>\n",
              "      <td>None</td>\n",
              "      <td>2</td>\n",
              "    </tr>\n",
              "  </tbody>\n",
              "</table>\n",
              "</div>\n",
              "    <div class=\"colab-df-buttons\">\n",
              "\n",
              "  <div class=\"colab-df-container\">\n",
              "    <button class=\"colab-df-convert\" onclick=\"convertToInteractive('df-e5e055ee-b9fc-417d-969e-e48c3b373167')\"\n",
              "            title=\"Convert this dataframe to an interactive table.\"\n",
              "            style=\"display:none;\">\n",
              "\n",
              "  <svg xmlns=\"http://www.w3.org/2000/svg\" height=\"24px\" viewBox=\"0 -960 960 960\">\n",
              "    <path d=\"M120-120v-720h720v720H120Zm60-500h600v-160H180v160Zm220 220h160v-160H400v160Zm0 220h160v-160H400v160ZM180-400h160v-160H180v160Zm440 0h160v-160H620v160ZM180-180h160v-160H180v160Zm440 0h160v-160H620v160Z\"/>\n",
              "  </svg>\n",
              "    </button>\n",
              "\n",
              "  <style>\n",
              "    .colab-df-container {\n",
              "      display:flex;\n",
              "      gap: 12px;\n",
              "    }\n",
              "\n",
              "    .colab-df-convert {\n",
              "      background-color: #E8F0FE;\n",
              "      border: none;\n",
              "      border-radius: 50%;\n",
              "      cursor: pointer;\n",
              "      display: none;\n",
              "      fill: #1967D2;\n",
              "      height: 32px;\n",
              "      padding: 0 0 0 0;\n",
              "      width: 32px;\n",
              "    }\n",
              "\n",
              "    .colab-df-convert:hover {\n",
              "      background-color: #E2EBFA;\n",
              "      box-shadow: 0px 1px 2px rgba(60, 64, 67, 0.3), 0px 1px 3px 1px rgba(60, 64, 67, 0.15);\n",
              "      fill: #174EA6;\n",
              "    }\n",
              "\n",
              "    .colab-df-buttons div {\n",
              "      margin-bottom: 4px;\n",
              "    }\n",
              "\n",
              "    [theme=dark] .colab-df-convert {\n",
              "      background-color: #3B4455;\n",
              "      fill: #D2E3FC;\n",
              "    }\n",
              "\n",
              "    [theme=dark] .colab-df-convert:hover {\n",
              "      background-color: #434B5C;\n",
              "      box-shadow: 0px 1px 3px 1px rgba(0, 0, 0, 0.15);\n",
              "      filter: drop-shadow(0px 1px 2px rgba(0, 0, 0, 0.3));\n",
              "      fill: #FFFFFF;\n",
              "    }\n",
              "  </style>\n",
              "\n",
              "    <script>\n",
              "      const buttonEl =\n",
              "        document.querySelector('#df-e5e055ee-b9fc-417d-969e-e48c3b373167 button.colab-df-convert');\n",
              "      buttonEl.style.display =\n",
              "        google.colab.kernel.accessAllowed ? 'block' : 'none';\n",
              "\n",
              "      async function convertToInteractive(key) {\n",
              "        const element = document.querySelector('#df-e5e055ee-b9fc-417d-969e-e48c3b373167');\n",
              "        const dataTable =\n",
              "          await google.colab.kernel.invokeFunction('convertToInteractive',\n",
              "                                                    [key], {});\n",
              "        if (!dataTable) return;\n",
              "\n",
              "        const docLinkHtml = 'Like what you see? Visit the ' +\n",
              "          '<a target=\"_blank\" href=https://colab.research.google.com/notebooks/data_table.ipynb>data table notebook</a>'\n",
              "          + ' to learn more about interactive tables.';\n",
              "        element.innerHTML = '';\n",
              "        dataTable['output_type'] = 'display_data';\n",
              "        await google.colab.output.renderOutput(dataTable, element);\n",
              "        const docLink = document.createElement('div');\n",
              "        docLink.innerHTML = docLinkHtml;\n",
              "        element.appendChild(docLink);\n",
              "      }\n",
              "    </script>\n",
              "  </div>\n",
              "\n",
              "\n",
              "<div id=\"df-8a27cea4-070e-48fc-823e-f2780491ef37\">\n",
              "  <button class=\"colab-df-quickchart\" onclick=\"quickchart('df-8a27cea4-070e-48fc-823e-f2780491ef37')\"\n",
              "            title=\"Suggest charts\"\n",
              "            style=\"display:none;\">\n",
              "\n",
              "<svg xmlns=\"http://www.w3.org/2000/svg\" height=\"24px\"viewBox=\"0 0 24 24\"\n",
              "     width=\"24px\">\n",
              "    <g>\n",
              "        <path d=\"M19 3H5c-1.1 0-2 .9-2 2v14c0 1.1.9 2 2 2h14c1.1 0 2-.9 2-2V5c0-1.1-.9-2-2-2zM9 17H7v-7h2v7zm4 0h-2V7h2v10zm4 0h-2v-4h2v4z\"/>\n",
              "    </g>\n",
              "</svg>\n",
              "  </button>\n",
              "\n",
              "<style>\n",
              "  .colab-df-quickchart {\n",
              "      --bg-color: #E8F0FE;\n",
              "      --fill-color: #1967D2;\n",
              "      --hover-bg-color: #E2EBFA;\n",
              "      --hover-fill-color: #174EA6;\n",
              "      --disabled-fill-color: #AAA;\n",
              "      --disabled-bg-color: #DDD;\n",
              "  }\n",
              "\n",
              "  [theme=dark] .colab-df-quickchart {\n",
              "      --bg-color: #3B4455;\n",
              "      --fill-color: #D2E3FC;\n",
              "      --hover-bg-color: #434B5C;\n",
              "      --hover-fill-color: #FFFFFF;\n",
              "      --disabled-bg-color: #3B4455;\n",
              "      --disabled-fill-color: #666;\n",
              "  }\n",
              "\n",
              "  .colab-df-quickchart {\n",
              "    background-color: var(--bg-color);\n",
              "    border: none;\n",
              "    border-radius: 50%;\n",
              "    cursor: pointer;\n",
              "    display: none;\n",
              "    fill: var(--fill-color);\n",
              "    height: 32px;\n",
              "    padding: 0;\n",
              "    width: 32px;\n",
              "  }\n",
              "\n",
              "  .colab-df-quickchart:hover {\n",
              "    background-color: var(--hover-bg-color);\n",
              "    box-shadow: 0 1px 2px rgba(60, 64, 67, 0.3), 0 1px 3px 1px rgba(60, 64, 67, 0.15);\n",
              "    fill: var(--button-hover-fill-color);\n",
              "  }\n",
              "\n",
              "  .colab-df-quickchart-complete:disabled,\n",
              "  .colab-df-quickchart-complete:disabled:hover {\n",
              "    background-color: var(--disabled-bg-color);\n",
              "    fill: var(--disabled-fill-color);\n",
              "    box-shadow: none;\n",
              "  }\n",
              "\n",
              "  .colab-df-spinner {\n",
              "    border: 2px solid var(--fill-color);\n",
              "    border-color: transparent;\n",
              "    border-bottom-color: var(--fill-color);\n",
              "    animation:\n",
              "      spin 1s steps(1) infinite;\n",
              "  }\n",
              "\n",
              "  @keyframes spin {\n",
              "    0% {\n",
              "      border-color: transparent;\n",
              "      border-bottom-color: var(--fill-color);\n",
              "      border-left-color: var(--fill-color);\n",
              "    }\n",
              "    20% {\n",
              "      border-color: transparent;\n",
              "      border-left-color: var(--fill-color);\n",
              "      border-top-color: var(--fill-color);\n",
              "    }\n",
              "    30% {\n",
              "      border-color: transparent;\n",
              "      border-left-color: var(--fill-color);\n",
              "      border-top-color: var(--fill-color);\n",
              "      border-right-color: var(--fill-color);\n",
              "    }\n",
              "    40% {\n",
              "      border-color: transparent;\n",
              "      border-right-color: var(--fill-color);\n",
              "      border-top-color: var(--fill-color);\n",
              "    }\n",
              "    60% {\n",
              "      border-color: transparent;\n",
              "      border-right-color: var(--fill-color);\n",
              "    }\n",
              "    80% {\n",
              "      border-color: transparent;\n",
              "      border-right-color: var(--fill-color);\n",
              "      border-bottom-color: var(--fill-color);\n",
              "    }\n",
              "    90% {\n",
              "      border-color: transparent;\n",
              "      border-bottom-color: var(--fill-color);\n",
              "    }\n",
              "  }\n",
              "</style>\n",
              "\n",
              "  <script>\n",
              "    async function quickchart(key) {\n",
              "      const quickchartButtonEl =\n",
              "        document.querySelector('#' + key + ' button');\n",
              "      quickchartButtonEl.disabled = true;  // To prevent multiple clicks.\n",
              "      quickchartButtonEl.classList.add('colab-df-spinner');\n",
              "      try {\n",
              "        const charts = await google.colab.kernel.invokeFunction(\n",
              "            'suggestCharts', [key], {});\n",
              "      } catch (error) {\n",
              "        console.error('Error during call to suggestCharts:', error);\n",
              "      }\n",
              "      quickchartButtonEl.classList.remove('colab-df-spinner');\n",
              "      quickchartButtonEl.classList.add('colab-df-quickchart-complete');\n",
              "    }\n",
              "    (() => {\n",
              "      let quickchartButtonEl =\n",
              "        document.querySelector('#df-8a27cea4-070e-48fc-823e-f2780491ef37 button');\n",
              "      quickchartButtonEl.style.display =\n",
              "        google.colab.kernel.accessAllowed ? 'block' : 'none';\n",
              "    })();\n",
              "  </script>\n",
              "</div>\n",
              "    </div>\n",
              "  </div>\n"
            ],
            "application/vnd.google.colaboratory.intrinsic+json": {
              "type": "dataframe",
              "variable_name": "df",
              "summary": "{\n  \"name\": \"df\",\n  \"rows\": 4,\n  \"fields\": [\n    {\n      \"column\": \"hashtag1\",\n      \"properties\": {\n        \"dtype\": \"string\",\n        \"num_unique_values\": 4,\n        \"samples\": [\n          \"hot\",\n          \"workout\",\n          \"good\"\n        ],\n        \"semantic_type\": \"\",\n        \"description\": \"\"\n      }\n    },\n    {\n      \"column\": \"hashtag2\",\n      \"properties\": {\n        \"dtype\": \"string\",\n        \"num_unique_values\": 3,\n        \"samples\": [\n          \"vibes\",\n          \"summer\",\n          \"food\"\n        ],\n        \"semantic_type\": \"\",\n        \"description\": \"\"\n      }\n    },\n    {\n      \"column\": \"hashtag3\",\n      \"properties\": {\n        \"dtype\": \"category\",\n        \"num_unique_values\": 1,\n        \"samples\": [\n          \"holiday\"\n        ],\n        \"semantic_type\": \"\",\n        \"description\": \"\"\n      }\n    },\n    {\n      \"column\": \"missing\",\n      \"properties\": {\n        \"dtype\": \"number\",\n        \"std\": 0,\n        \"min\": 0,\n        \"max\": 2,\n        \"num_unique_values\": 3,\n        \"samples\": [\n          1\n        ],\n        \"semantic_type\": \"\",\n        \"description\": \"\"\n      }\n    }\n  ]\n}"
            }
          },
          "metadata": {},
          "execution_count": 75
        }
      ]
    },
    {
      "cell_type": "markdown",
      "source": [
        "Ćwiczenie 16"
      ],
      "metadata": {
        "id": "dwHHpiIK9JbH"
      }
    },
    {
      "cell_type": "code",
      "source": [
        "import pandas as pd\n",
        "\n",
        "\n",
        "df = pd.DataFrame(\n",
        "    data={\n",
        "        'investments': [\n",
        "            '100_000_000',\n",
        "            '100_000',\n",
        "            '30_000_000',\n",
        "            '100_500_000',\n",
        "        ]\n",
        "    }\n",
        ")\n",
        "df['investments'] = df['investments'].str.replace('_', '').astype(int)\n",
        "df"
      ],
      "metadata": {
        "colab": {
          "base_uri": "https://localhost:8080/",
          "height": 175
        },
        "id": "zzhyk-UY9MvI",
        "outputId": "3ad29c8c-87fc-4576-cc4f-1486d5b76be2"
      },
      "execution_count": null,
      "outputs": [
        {
          "output_type": "execute_result",
          "data": {
            "text/plain": [
              "   investments\n",
              "0    100000000\n",
              "1       100000\n",
              "2     30000000\n",
              "3    100500000"
            ],
            "text/html": [
              "\n",
              "  <div id=\"df-179147c6-7317-4a04-b4f4-e3a1e0bab9ea\" class=\"colab-df-container\">\n",
              "    <div>\n",
              "<style scoped>\n",
              "    .dataframe tbody tr th:only-of-type {\n",
              "        vertical-align: middle;\n",
              "    }\n",
              "\n",
              "    .dataframe tbody tr th {\n",
              "        vertical-align: top;\n",
              "    }\n",
              "\n",
              "    .dataframe thead th {\n",
              "        text-align: right;\n",
              "    }\n",
              "</style>\n",
              "<table border=\"1\" class=\"dataframe\">\n",
              "  <thead>\n",
              "    <tr style=\"text-align: right;\">\n",
              "      <th></th>\n",
              "      <th>investments</th>\n",
              "    </tr>\n",
              "  </thead>\n",
              "  <tbody>\n",
              "    <tr>\n",
              "      <th>0</th>\n",
              "      <td>100000000</td>\n",
              "    </tr>\n",
              "    <tr>\n",
              "      <th>1</th>\n",
              "      <td>100000</td>\n",
              "    </tr>\n",
              "    <tr>\n",
              "      <th>2</th>\n",
              "      <td>30000000</td>\n",
              "    </tr>\n",
              "    <tr>\n",
              "      <th>3</th>\n",
              "      <td>100500000</td>\n",
              "    </tr>\n",
              "  </tbody>\n",
              "</table>\n",
              "</div>\n",
              "    <div class=\"colab-df-buttons\">\n",
              "\n",
              "  <div class=\"colab-df-container\">\n",
              "    <button class=\"colab-df-convert\" onclick=\"convertToInteractive('df-179147c6-7317-4a04-b4f4-e3a1e0bab9ea')\"\n",
              "            title=\"Convert this dataframe to an interactive table.\"\n",
              "            style=\"display:none;\">\n",
              "\n",
              "  <svg xmlns=\"http://www.w3.org/2000/svg\" height=\"24px\" viewBox=\"0 -960 960 960\">\n",
              "    <path d=\"M120-120v-720h720v720H120Zm60-500h600v-160H180v160Zm220 220h160v-160H400v160Zm0 220h160v-160H400v160ZM180-400h160v-160H180v160Zm440 0h160v-160H620v160ZM180-180h160v-160H180v160Zm440 0h160v-160H620v160Z\"/>\n",
              "  </svg>\n",
              "    </button>\n",
              "\n",
              "  <style>\n",
              "    .colab-df-container {\n",
              "      display:flex;\n",
              "      gap: 12px;\n",
              "    }\n",
              "\n",
              "    .colab-df-convert {\n",
              "      background-color: #E8F0FE;\n",
              "      border: none;\n",
              "      border-radius: 50%;\n",
              "      cursor: pointer;\n",
              "      display: none;\n",
              "      fill: #1967D2;\n",
              "      height: 32px;\n",
              "      padding: 0 0 0 0;\n",
              "      width: 32px;\n",
              "    }\n",
              "\n",
              "    .colab-df-convert:hover {\n",
              "      background-color: #E2EBFA;\n",
              "      box-shadow: 0px 1px 2px rgba(60, 64, 67, 0.3), 0px 1px 3px 1px rgba(60, 64, 67, 0.15);\n",
              "      fill: #174EA6;\n",
              "    }\n",
              "\n",
              "    .colab-df-buttons div {\n",
              "      margin-bottom: 4px;\n",
              "    }\n",
              "\n",
              "    [theme=dark] .colab-df-convert {\n",
              "      background-color: #3B4455;\n",
              "      fill: #D2E3FC;\n",
              "    }\n",
              "\n",
              "    [theme=dark] .colab-df-convert:hover {\n",
              "      background-color: #434B5C;\n",
              "      box-shadow: 0px 1px 3px 1px rgba(0, 0, 0, 0.15);\n",
              "      filter: drop-shadow(0px 1px 2px rgba(0, 0, 0, 0.3));\n",
              "      fill: #FFFFFF;\n",
              "    }\n",
              "  </style>\n",
              "\n",
              "    <script>\n",
              "      const buttonEl =\n",
              "        document.querySelector('#df-179147c6-7317-4a04-b4f4-e3a1e0bab9ea button.colab-df-convert');\n",
              "      buttonEl.style.display =\n",
              "        google.colab.kernel.accessAllowed ? 'block' : 'none';\n",
              "\n",
              "      async function convertToInteractive(key) {\n",
              "        const element = document.querySelector('#df-179147c6-7317-4a04-b4f4-e3a1e0bab9ea');\n",
              "        const dataTable =\n",
              "          await google.colab.kernel.invokeFunction('convertToInteractive',\n",
              "                                                    [key], {});\n",
              "        if (!dataTable) return;\n",
              "\n",
              "        const docLinkHtml = 'Like what you see? Visit the ' +\n",
              "          '<a target=\"_blank\" href=https://colab.research.google.com/notebooks/data_table.ipynb>data table notebook</a>'\n",
              "          + ' to learn more about interactive tables.';\n",
              "        element.innerHTML = '';\n",
              "        dataTable['output_type'] = 'display_data';\n",
              "        await google.colab.output.renderOutput(dataTable, element);\n",
              "        const docLink = document.createElement('div');\n",
              "        docLink.innerHTML = docLinkHtml;\n",
              "        element.appendChild(docLink);\n",
              "      }\n",
              "    </script>\n",
              "  </div>\n",
              "\n",
              "\n",
              "<div id=\"df-a732a1bd-875b-45d0-84bf-f0b6ace5c2fd\">\n",
              "  <button class=\"colab-df-quickchart\" onclick=\"quickchart('df-a732a1bd-875b-45d0-84bf-f0b6ace5c2fd')\"\n",
              "            title=\"Suggest charts\"\n",
              "            style=\"display:none;\">\n",
              "\n",
              "<svg xmlns=\"http://www.w3.org/2000/svg\" height=\"24px\"viewBox=\"0 0 24 24\"\n",
              "     width=\"24px\">\n",
              "    <g>\n",
              "        <path d=\"M19 3H5c-1.1 0-2 .9-2 2v14c0 1.1.9 2 2 2h14c1.1 0 2-.9 2-2V5c0-1.1-.9-2-2-2zM9 17H7v-7h2v7zm4 0h-2V7h2v10zm4 0h-2v-4h2v4z\"/>\n",
              "    </g>\n",
              "</svg>\n",
              "  </button>\n",
              "\n",
              "<style>\n",
              "  .colab-df-quickchart {\n",
              "      --bg-color: #E8F0FE;\n",
              "      --fill-color: #1967D2;\n",
              "      --hover-bg-color: #E2EBFA;\n",
              "      --hover-fill-color: #174EA6;\n",
              "      --disabled-fill-color: #AAA;\n",
              "      --disabled-bg-color: #DDD;\n",
              "  }\n",
              "\n",
              "  [theme=dark] .colab-df-quickchart {\n",
              "      --bg-color: #3B4455;\n",
              "      --fill-color: #D2E3FC;\n",
              "      --hover-bg-color: #434B5C;\n",
              "      --hover-fill-color: #FFFFFF;\n",
              "      --disabled-bg-color: #3B4455;\n",
              "      --disabled-fill-color: #666;\n",
              "  }\n",
              "\n",
              "  .colab-df-quickchart {\n",
              "    background-color: var(--bg-color);\n",
              "    border: none;\n",
              "    border-radius: 50%;\n",
              "    cursor: pointer;\n",
              "    display: none;\n",
              "    fill: var(--fill-color);\n",
              "    height: 32px;\n",
              "    padding: 0;\n",
              "    width: 32px;\n",
              "  }\n",
              "\n",
              "  .colab-df-quickchart:hover {\n",
              "    background-color: var(--hover-bg-color);\n",
              "    box-shadow: 0 1px 2px rgba(60, 64, 67, 0.3), 0 1px 3px 1px rgba(60, 64, 67, 0.15);\n",
              "    fill: var(--button-hover-fill-color);\n",
              "  }\n",
              "\n",
              "  .colab-df-quickchart-complete:disabled,\n",
              "  .colab-df-quickchart-complete:disabled:hover {\n",
              "    background-color: var(--disabled-bg-color);\n",
              "    fill: var(--disabled-fill-color);\n",
              "    box-shadow: none;\n",
              "  }\n",
              "\n",
              "  .colab-df-spinner {\n",
              "    border: 2px solid var(--fill-color);\n",
              "    border-color: transparent;\n",
              "    border-bottom-color: var(--fill-color);\n",
              "    animation:\n",
              "      spin 1s steps(1) infinite;\n",
              "  }\n",
              "\n",
              "  @keyframes spin {\n",
              "    0% {\n",
              "      border-color: transparent;\n",
              "      border-bottom-color: var(--fill-color);\n",
              "      border-left-color: var(--fill-color);\n",
              "    }\n",
              "    20% {\n",
              "      border-color: transparent;\n",
              "      border-left-color: var(--fill-color);\n",
              "      border-top-color: var(--fill-color);\n",
              "    }\n",
              "    30% {\n",
              "      border-color: transparent;\n",
              "      border-left-color: var(--fill-color);\n",
              "      border-top-color: var(--fill-color);\n",
              "      border-right-color: var(--fill-color);\n",
              "    }\n",
              "    40% {\n",
              "      border-color: transparent;\n",
              "      border-right-color: var(--fill-color);\n",
              "      border-top-color: var(--fill-color);\n",
              "    }\n",
              "    60% {\n",
              "      border-color: transparent;\n",
              "      border-right-color: var(--fill-color);\n",
              "    }\n",
              "    80% {\n",
              "      border-color: transparent;\n",
              "      border-right-color: var(--fill-color);\n",
              "      border-bottom-color: var(--fill-color);\n",
              "    }\n",
              "    90% {\n",
              "      border-color: transparent;\n",
              "      border-bottom-color: var(--fill-color);\n",
              "    }\n",
              "  }\n",
              "</style>\n",
              "\n",
              "  <script>\n",
              "    async function quickchart(key) {\n",
              "      const quickchartButtonEl =\n",
              "        document.querySelector('#' + key + ' button');\n",
              "      quickchartButtonEl.disabled = true;  // To prevent multiple clicks.\n",
              "      quickchartButtonEl.classList.add('colab-df-spinner');\n",
              "      try {\n",
              "        const charts = await google.colab.kernel.invokeFunction(\n",
              "            'suggestCharts', [key], {});\n",
              "      } catch (error) {\n",
              "        console.error('Error during call to suggestCharts:', error);\n",
              "      }\n",
              "      quickchartButtonEl.classList.remove('colab-df-spinner');\n",
              "      quickchartButtonEl.classList.add('colab-df-quickchart-complete');\n",
              "    }\n",
              "    (() => {\n",
              "      let quickchartButtonEl =\n",
              "        document.querySelector('#df-a732a1bd-875b-45d0-84bf-f0b6ace5c2fd button');\n",
              "      quickchartButtonEl.style.display =\n",
              "        google.colab.kernel.accessAllowed ? 'block' : 'none';\n",
              "    })();\n",
              "  </script>\n",
              "</div>\n",
              "    </div>\n",
              "  </div>\n"
            ],
            "application/vnd.google.colaboratory.intrinsic+json": {
              "type": "dataframe",
              "variable_name": "df",
              "summary": "{\n  \"name\": \"df\",\n  \"rows\": 4,\n  \"fields\": [\n    {\n      \"column\": \"investments\",\n      \"properties\": {\n        \"dtype\": \"number\",\n        \"std\": 50682574,\n        \"min\": 100000,\n        \"max\": 100500000,\n        \"num_unique_values\": 4,\n        \"samples\": [\n          100000,\n          100500000,\n          100000000\n        ],\n        \"semantic_type\": \"\",\n        \"description\": \"\"\n      }\n    }\n  ]\n}"
            }
          },
          "metadata": {},
          "execution_count": 84
        }
      ]
    },
    {
      "cell_type": "markdown",
      "source": [
        "Ćwiczenie 17"
      ],
      "metadata": {
        "id": "MZvCK6u89NHV"
      }
    },
    {
      "cell_type": "code",
      "source": [
        "from sklearn.datasets import load_iris\n",
        "\n",
        "data = load_iris()\n",
        "data.keys()"
      ],
      "metadata": {
        "colab": {
          "base_uri": "https://localhost:8080/"
        },
        "id": "3apY0OG29Ows",
        "outputId": "046a254a-40f9-4764-a5d9-df1e375a9457"
      },
      "execution_count": null,
      "outputs": [
        {
          "output_type": "execute_result",
          "data": {
            "text/plain": [
              "dict_keys(['data', 'target', 'frame', 'target_names', 'DESCR', 'feature_names', 'filename', 'data_module'])"
            ]
          },
          "metadata": {},
          "execution_count": 87
        }
      ]
    },
    {
      "cell_type": "markdown",
      "source": [
        "Ćwiczenie 18"
      ],
      "metadata": {
        "id": "VTBDQB0t9PAY"
      }
    },
    {
      "cell_type": "code",
      "source": [
        "from sklearn.datasets import load_iris\n",
        "\n",
        "data = load_iris()\n",
        "print(data['feature_names'])\n",
        "print(data['target_names'])"
      ],
      "metadata": {
        "colab": {
          "base_uri": "https://localhost:8080/"
        },
        "id": "tG6muctS9QfD",
        "outputId": "924314a2-9e99-4295-f0e7-bebab570ec5d"
      },
      "execution_count": null,
      "outputs": [
        {
          "output_type": "stream",
          "name": "stdout",
          "text": [
            "['sepal length (cm)', 'sepal width (cm)', 'petal length (cm)', 'petal width (cm)']\n",
            "['setosa' 'versicolor' 'virginica']\n"
          ]
        }
      ]
    },
    {
      "cell_type": "markdown",
      "source": [
        "Ćwiczenie 19"
      ],
      "metadata": {
        "id": "izrHa8g09Q0i"
      }
    },
    {
      "cell_type": "code",
      "source": [
        "from sklearn.datasets import load_iris\n",
        "\n",
        "\n",
        "data_raw = load_iris()\n",
        "data = data_raw['data']\n",
        "target = data_raw['target']\n",
        "\n",
        "print(data.shape)\n",
        "print(target.shape)"
      ],
      "metadata": {
        "colab": {
          "base_uri": "https://localhost:8080/"
        },
        "id": "gM_XZL8t9Sie",
        "outputId": "9a957dae-e58e-413a-bdd6-9d50000e82bd"
      },
      "execution_count": null,
      "outputs": [
        {
          "output_type": "stream",
          "name": "stdout",
          "text": [
            "(150, 4)\n",
            "(150,)\n"
          ]
        }
      ]
    },
    {
      "cell_type": "markdown",
      "source": [
        "Ćwiczenie 20\n",
        "\n",
        "Opis: Wykorzystując pakiet scikit-learn oraz funkcję train_test_split() podziel dane na zbiór treningowy (data_train, target_train) i testowy (data_test, target_test). Ustal rozmiar zbioru testowego na 30% próbek. W odpowiedzi wyświetl rozmiar poniższych wszystkich tablic.\n",
        "\n"
      ],
      "metadata": {
        "id": "5Q_biLs29S7k"
      }
    },
    {
      "cell_type": "code",
      "source": [
        "from sklearn.datasets import load_iris\n",
        "from sklearn.model_selection import train_test_split\n",
        "\n",
        "\n",
        "data_raw = load_iris()\n",
        "data = data_raw['data']\n",
        "target = data_raw['target']\n",
        "\n",
        "data_train, data_test, target_train, target_test = train_test_split(data, target, test_size=0.3)\n",
        "\n",
        "print(f'data_train shape: {data_train.shape}')\n",
        "print(f'target_train shape: {target_train.shape}')\n",
        "print(f'data_test shape: {data_test.shape}')\n",
        "print(f'target_test shape: {target_test.shape}')"
      ],
      "metadata": {
        "colab": {
          "base_uri": "https://localhost:8080/"
        },
        "id": "C_2EDYvX9UaW",
        "outputId": "642992f3-0239-4a2c-dc7c-d6ee05efb80b"
      },
      "execution_count": null,
      "outputs": [
        {
          "output_type": "stream",
          "name": "stdout",
          "text": [
            "data_train shape: (105, 4)\n",
            "target_train shape: (105,)\n",
            "data_test shape: (45, 4)\n",
            "target_test shape: (45,)\n"
          ]
        }
      ]
    },
    {
      "cell_type": "markdown",
      "source": [
        "Ćwiczenie 21\n",
        "\n",
        "Opis: Zbuduj model regresji logistycznej (ustaw tylko argument max_iter=100, resztę pozostaw domyślnie) wykorzystując pakiet scikit-learn oraz dane IRIS.\n",
        "\n",
        "Model wytrenuj na danych treningowych i następnie dokonaj oceny modelu na zbiorze testowym. W odpowiedzi wydrukuj dokładność modelu na zbiorze testowym tak jak pokazano poniżej."
      ],
      "metadata": {
        "id": "xXNTxYV4wT5h"
      }
    },
    {
      "cell_type": "code",
      "source": [
        "from sklearn.datasets import load_iris\n",
        "from sklearn.model_selection import train_test_split\n",
        "from sklearn.linear_model import LogisticRegression\n",
        "\n",
        "\n",
        "data_raw = load_iris()\n",
        "data = data_raw['data']\n",
        "target = data_raw['target']\n",
        "data_train, data_test, target_train, target_test = train_test_split(\n",
        "    data, target, test_size=0.3, random_state=20\n",
        ")\n",
        "\n",
        "model = LogisticRegression(max_iter=100)\n",
        "model.fit(data_train, target_train)\n",
        "accuracy = model.score(data_test, target_test)\n",
        "print(f'Accuracy: {accuracy:.4f}')"
      ],
      "metadata": {
        "colab": {
          "base_uri": "https://localhost:8080/"
        },
        "id": "AFEuWwUPwS3h",
        "outputId": "5524eada-31c0-4024-8947-cb1692b3f60b"
      },
      "execution_count": null,
      "outputs": [
        {
          "output_type": "stream",
          "name": "stdout",
          "text": [
            "Accuracy: 0.9333\n"
          ]
        }
      ]
    },
    {
      "cell_type": "markdown",
      "source": [
        "Ćwiczenie 22\n",
        "\n",
        "Opis: Zbudowano model regresji logistycznej wykorzystując pakiet scikit-learn oraz dane IRIS. Dokonaj predykcji danych testowych na podstawie modelu i przypisz do zmiennej target_pred. W odpowiedzi wyświetl zmienną target_pred do konsoli."
      ],
      "metadata": {
        "id": "eNBKoiKSwVlC"
      }
    },
    {
      "cell_type": "code",
      "source": [
        "from sklearn.datasets import load_iris\n",
        "from sklearn.model_selection import train_test_split\n",
        "from sklearn.linear_model import LogisticRegression\n",
        "\n",
        "\n",
        "data_raw = load_iris()\n",
        "data = data_raw['data']\n",
        "target = data_raw['target']\n",
        "data_train, data_test, target_train, target_test = train_test_split(\n",
        "    data, target, test_size=0.3, random_state=20\n",
        ")\n",
        "\n",
        "model = LogisticRegression(max_iter=1000)\n",
        "model.fit(data_train, target_train)\n",
        "target_pred = model.predict(data_test)\n",
        "print(target_pred)"
      ],
      "metadata": {
        "colab": {
          "base_uri": "https://localhost:8080/"
        },
        "id": "by992BGfwSOj",
        "outputId": "95b7a8e6-3216-49ae-88d9-f6166eff02f3"
      },
      "execution_count": null,
      "outputs": [
        {
          "output_type": "stream",
          "name": "stdout",
          "text": [
            "[0 1 1 2 1 1 2 0 2 0 2 1 1 0 0 2 0 1 2 1 1 2 2 0 1 1 1 0 2 1 1 1 0 0 0 1 1\n",
            " 0 1 2 1 2 0 1 1]\n"
          ]
        }
      ]
    },
    {
      "cell_type": "markdown",
      "source": [
        "Ćwiczenie 23\n",
        "\n",
        "Opis: Zbudowano model regresji logistycznej wykorzystując pakiet scikit-learn oraz dane IRIS. Dokonano predykcji danych testowych na podstawie modelu i przypisano do zmiennej target_pred. Wyznacz macierz pomyłek (macierz konfuzji) i wydrukuj ją do konsoli."
      ],
      "metadata": {
        "id": "ZB2HQNkQwZLV"
      }
    },
    {
      "cell_type": "code",
      "source": [
        "from sklearn.datasets import load_iris\n",
        "from sklearn.model_selection import train_test_split\n",
        "from sklearn.linear_model import LogisticRegression\n",
        "from sklearn.metrics import confusion_matrix\n",
        "\n",
        "\n",
        "data_raw = load_iris()\n",
        "data = data_raw['data']\n",
        "target = data_raw['target']\n",
        "data_train, data_test, target_train, target_test = train_test_split(\n",
        "    data, target, test_size=0.3, random_state=20\n",
        ")\n",
        "\n",
        "model = LogisticRegression(max_iter=1000)\n",
        "model.fit(data_train, target_train)\n",
        "\n",
        "target_pred = model.predict(data_test)\n",
        "cm = confusion_matrix(target_test, target_pred)\n",
        "print(cm)"
      ],
      "metadata": {
        "colab": {
          "base_uri": "https://localhost:8080/"
        },
        "id": "7m-_pjjnwaST",
        "outputId": "2e839778-afcf-4528-b8ea-13253c9b42c9"
      },
      "execution_count": null,
      "outputs": [
        {
          "output_type": "stream",
          "name": "stdout",
          "text": [
            "[[13  0  0]\n",
            " [ 0 18  0]\n",
            " [ 0  3 11]]\n"
          ]
        }
      ]
    },
    {
      "cell_type": "markdown",
      "source": [
        "Ćwiczenie 24"
      ],
      "metadata": {
        "id": "vTSus8X-wa6p"
      }
    },
    {
      "cell_type": "code",
      "source": [
        "from sklearn.datasets import load_iris\n",
        "from sklearn.model_selection import train_test_split\n",
        "from sklearn.linear_model import LogisticRegression\n",
        "from sklearn.metrics import classification_report\n",
        "\n",
        "\n",
        "data_raw = load_iris()\n",
        "data = data_raw['data']\n",
        "target = data_raw['target']\n",
        "data_train, data_test, target_train, target_test = train_test_split(\n",
        "    data, target, test_size=0.3, random_state=20\n",
        ")\n",
        "\n",
        "model = LogisticRegression(max_iter=1000)\n",
        "model.fit(data_train, target_train)\n",
        "\n",
        "target_pred = model.predict(data_test)\n",
        "cr = classification_report(target_test, target_pred)\n",
        "print(cr)"
      ],
      "metadata": {
        "colab": {
          "base_uri": "https://localhost:8080/"
        },
        "id": "QCEQafQ0wc1C",
        "outputId": "cc6432ff-c0be-4114-d7fb-ead53552edc0"
      },
      "execution_count": null,
      "outputs": [
        {
          "output_type": "stream",
          "name": "stdout",
          "text": [
            "              precision    recall  f1-score   support\n",
            "\n",
            "           0       1.00      1.00      1.00        13\n",
            "           1       0.86      1.00      0.92        18\n",
            "           2       1.00      0.79      0.88        14\n",
            "\n",
            "    accuracy                           0.93        45\n",
            "   macro avg       0.95      0.93      0.93        45\n",
            "weighted avg       0.94      0.93      0.93        45\n",
            "\n"
          ]
        }
      ]
    },
    {
      "cell_type": "markdown",
      "source": [
        "Ćwiczenie 25\n",
        "\n",
        "Opis: Wykorzystując klasę LabelEncoder z pakietu scikit-learn dokonaj kodowania 0-1 kolumny bought. Przypisz zmiany do obiektu df."
      ],
      "metadata": {
        "id": "kGl-cMzdwdI1"
      }
    },
    {
      "cell_type": "code",
      "source": [
        "import pandas as pd\n",
        "from sklearn.preprocessing import LabelEncoder\n",
        "\n",
        "\n",
        "data = {\n",
        "    'size': ['XL', 'L', 'M', 'L', 'M'],\n",
        "    'color': ['red', 'green', 'blue', 'green', 'red'],\n",
        "    'gender': ['female', 'male', 'male', 'female', 'female'],\n",
        "    'price': [199.0, 89.0, 99.0, 129.0, 79.0],\n",
        "    'weight': [500, 450, 300, 380, 410],\n",
        "    'bought': ['yes', 'no', 'yes', 'no', 'yes'],\n",
        "}\n",
        "\n",
        "df = pd.DataFrame(data=data)\n",
        "for col in ['size', 'color', 'gender', 'bought']:\n",
        "    df[col] = df[col].astype('category')\n",
        "df['weight'] = df['weight'].astype('float')\n",
        "\n",
        "le = LabelEncoder()\n",
        "df['bought'] = le.fit_transform(df['bought'])\n",
        "print(df)"
      ],
      "metadata": {
        "colab": {
          "base_uri": "https://localhost:8080/"
        },
        "id": "06nYTtuGwhzy",
        "outputId": "ceb971e3-82f2-49f1-fa92-48ea425abac9"
      },
      "execution_count": null,
      "outputs": [
        {
          "output_type": "stream",
          "name": "stdout",
          "text": [
            "  size  color  gender  price  weight  bought\n",
            "0   XL    red  female  199.0   500.0       1\n",
            "1    L  green    male   89.0   450.0       0\n",
            "2    M   blue    male   99.0   300.0       1\n",
            "3    L  green  female  129.0   380.0       0\n",
            "4    M    red  female   79.0   410.0       1\n"
          ]
        }
      ]
    },
    {
      "cell_type": "markdown",
      "source": [
        "Ćwiczenie 26\n",
        "\n",
        "Opis: Wykorzystując klasę OneHotEncoder z pakietu scikit-learn dokonaj kodowania 0-1 kolumny size (ustaw argument sparse=False). Wydrukuj zakodowaną postać kolumny size do konsoli (nie przypisuj zmian do zmiennej df). Wydrukuj także otrzymane kategorie przy kodowaniu kolumny size tak jak pokazano poniżej."
      ],
      "metadata": {
        "id": "OVcusxlTwiXZ"
      }
    },
    {
      "cell_type": "code",
      "source": [
        "import pandas as pd\n",
        "from sklearn.preprocessing import OneHotEncoder\n",
        "\n",
        "\n",
        "data = {\n",
        "    'size': ['XL', 'L', 'M', 'L', 'M'],\n",
        "    'color': ['red', 'green', 'blue', 'green', 'red'],\n",
        "    'gender': ['female', 'male', 'male', 'female', 'female'],\n",
        "    'price': [199.0, 89.0, 99.0, 129.0, 79.0],\n",
        "    'weight': [500, 450, 300, 380, 410],\n",
        "    'bought': ['yes', 'no', 'yes', 'no', 'yes']\n",
        "}\n",
        "\n",
        "df = pd.DataFrame(data=data)\n",
        "for col in ['size', 'color', 'gender', 'bought']:\n",
        "    df[col] = df[col].astype('category')\n",
        "df['weight'] = df['weight'].astype('float')\n",
        "\n",
        "encoder = OneHotEncoder(sparse=False)\n",
        "encoder.fit(df[['size']])\n",
        "print(encoder.transform(df[['size']]))\n",
        "print(encoder.categories_)"
      ],
      "metadata": {
        "colab": {
          "base_uri": "https://localhost:8080/"
        },
        "id": "DBt-60RawlT5",
        "outputId": "4bc73cb7-0a5a-4b98-b918-e9ee97f72b93"
      },
      "execution_count": null,
      "outputs": [
        {
          "output_type": "stream",
          "name": "stdout",
          "text": [
            "[[0. 0. 1.]\n",
            " [1. 0. 0.]\n",
            " [0. 1. 0.]\n",
            " [1. 0. 0.]\n",
            " [0. 1. 0.]]\n",
            "[array(['L', 'M', 'XL'], dtype=object)]\n"
          ]
        },
        {
          "output_type": "stream",
          "name": "stderr",
          "text": [
            "/usr/local/lib/python3.10/dist-packages/sklearn/preprocessing/_encoders.py:868: FutureWarning: `sparse` was renamed to `sparse_output` in version 1.2 and will be removed in 1.4. `sparse_output` is ignored unless you leave `sparse` to its default value.\n",
            "  warnings.warn(\n"
          ]
        }
      ]
    },
    {
      "cell_type": "markdown",
      "source": [
        "Ćwiczenie 27"
      ],
      "metadata": {
        "id": "cY0-ZMFWwlsD"
      }
    },
    {
      "cell_type": "code",
      "source": [
        "from sklearn.datasets import load_breast_cancer\n",
        "\n",
        "raw_data = load_breast_cancer()\n",
        "print(raw_data['DESCR'])"
      ],
      "metadata": {
        "colab": {
          "base_uri": "https://localhost:8080/"
        },
        "id": "SFPgsCZJwoHA",
        "outputId": "71392868-e9dc-465c-e87e-78610d033bbd"
      },
      "execution_count": null,
      "outputs": [
        {
          "output_type": "stream",
          "name": "stdout",
          "text": [
            ".. _breast_cancer_dataset:\n",
            "\n",
            "Breast cancer wisconsin (diagnostic) dataset\n",
            "--------------------------------------------\n",
            "\n",
            "**Data Set Characteristics:**\n",
            "\n",
            "    :Number of Instances: 569\n",
            "\n",
            "    :Number of Attributes: 30 numeric, predictive attributes and the class\n",
            "\n",
            "    :Attribute Information:\n",
            "        - radius (mean of distances from center to points on the perimeter)\n",
            "        - texture (standard deviation of gray-scale values)\n",
            "        - perimeter\n",
            "        - area\n",
            "        - smoothness (local variation in radius lengths)\n",
            "        - compactness (perimeter^2 / area - 1.0)\n",
            "        - concavity (severity of concave portions of the contour)\n",
            "        - concave points (number of concave portions of the contour)\n",
            "        - symmetry\n",
            "        - fractal dimension (\"coastline approximation\" - 1)\n",
            "\n",
            "        The mean, standard error, and \"worst\" or largest (mean of the three\n",
            "        worst/largest values) of these features were computed for each image,\n",
            "        resulting in 30 features.  For instance, field 0 is Mean Radius, field\n",
            "        10 is Radius SE, field 20 is Worst Radius.\n",
            "\n",
            "        - class:\n",
            "                - WDBC-Malignant\n",
            "                - WDBC-Benign\n",
            "\n",
            "    :Summary Statistics:\n",
            "\n",
            "    ===================================== ====== ======\n",
            "                                           Min    Max\n",
            "    ===================================== ====== ======\n",
            "    radius (mean):                        6.981  28.11\n",
            "    texture (mean):                       9.71   39.28\n",
            "    perimeter (mean):                     43.79  188.5\n",
            "    area (mean):                          143.5  2501.0\n",
            "    smoothness (mean):                    0.053  0.163\n",
            "    compactness (mean):                   0.019  0.345\n",
            "    concavity (mean):                     0.0    0.427\n",
            "    concave points (mean):                0.0    0.201\n",
            "    symmetry (mean):                      0.106  0.304\n",
            "    fractal dimension (mean):             0.05   0.097\n",
            "    radius (standard error):              0.112  2.873\n",
            "    texture (standard error):             0.36   4.885\n",
            "    perimeter (standard error):           0.757  21.98\n",
            "    area (standard error):                6.802  542.2\n",
            "    smoothness (standard error):          0.002  0.031\n",
            "    compactness (standard error):         0.002  0.135\n",
            "    concavity (standard error):           0.0    0.396\n",
            "    concave points (standard error):      0.0    0.053\n",
            "    symmetry (standard error):            0.008  0.079\n",
            "    fractal dimension (standard error):   0.001  0.03\n",
            "    radius (worst):                       7.93   36.04\n",
            "    texture (worst):                      12.02  49.54\n",
            "    perimeter (worst):                    50.41  251.2\n",
            "    area (worst):                         185.2  4254.0\n",
            "    smoothness (worst):                   0.071  0.223\n",
            "    compactness (worst):                  0.027  1.058\n",
            "    concavity (worst):                    0.0    1.252\n",
            "    concave points (worst):               0.0    0.291\n",
            "    symmetry (worst):                     0.156  0.664\n",
            "    fractal dimension (worst):            0.055  0.208\n",
            "    ===================================== ====== ======\n",
            "\n",
            "    :Missing Attribute Values: None\n",
            "\n",
            "    :Class Distribution: 212 - Malignant, 357 - Benign\n",
            "\n",
            "    :Creator:  Dr. William H. Wolberg, W. Nick Street, Olvi L. Mangasarian\n",
            "\n",
            "    :Donor: Nick Street\n",
            "\n",
            "    :Date: November, 1995\n",
            "\n",
            "This is a copy of UCI ML Breast Cancer Wisconsin (Diagnostic) datasets.\n",
            "https://goo.gl/U2Uwz2\n",
            "\n",
            "Features are computed from a digitized image of a fine needle\n",
            "aspirate (FNA) of a breast mass.  They describe\n",
            "characteristics of the cell nuclei present in the image.\n",
            "\n",
            "Separating plane described above was obtained using\n",
            "Multisurface Method-Tree (MSM-T) [K. P. Bennett, \"Decision Tree\n",
            "Construction Via Linear Programming.\" Proceedings of the 4th\n",
            "Midwest Artificial Intelligence and Cognitive Science Society,\n",
            "pp. 97-101, 1992], a classification method which uses linear\n",
            "programming to construct a decision tree.  Relevant features\n",
            "were selected using an exhaustive search in the space of 1-4\n",
            "features and 1-3 separating planes.\n",
            "\n",
            "The actual linear program used to obtain the separating plane\n",
            "in the 3-dimensional space is that described in:\n",
            "[K. P. Bennett and O. L. Mangasarian: \"Robust Linear\n",
            "Programming Discrimination of Two Linearly Inseparable Sets\",\n",
            "Optimization Methods and Software 1, 1992, 23-34].\n",
            "\n",
            "This database is also available through the UW CS ftp server:\n",
            "\n",
            "ftp ftp.cs.wisc.edu\n",
            "cd math-prog/cpo-dataset/machine-learn/WDBC/\n",
            "\n",
            ".. topic:: References\n",
            "\n",
            "   - W.N. Street, W.H. Wolberg and O.L. Mangasarian. Nuclear feature extraction \n",
            "     for breast tumor diagnosis. IS&T/SPIE 1993 International Symposium on \n",
            "     Electronic Imaging: Science and Technology, volume 1905, pages 861-870,\n",
            "     San Jose, CA, 1993.\n",
            "   - O.L. Mangasarian, W.N. Street and W.H. Wolberg. Breast cancer diagnosis and \n",
            "     prognosis via linear programming. Operations Research, 43(4), pages 570-577, \n",
            "     July-August 1995.\n",
            "   - W.H. Wolberg, W.N. Street, and O.L. Mangasarian. Machine learning techniques\n",
            "     to diagnose breast cancer from fine-needle aspirates. Cancer Letters 77 (1994) \n",
            "     163-171.\n"
          ]
        }
      ]
    },
    {
      "cell_type": "markdown",
      "source": [
        "Ćwiczenie 28\n",
        "\n",
        "Opis: Przypisz do zmiennej data tablicę numpy z danymi ze zmiennej raw_data (zawartość klucza 'data') oraz do zmiennej target tablicę numpy ze zmienną docelową (zawartość klucza 'target'). W odpowiedzi wyświetl trzy pierwsze elementy tablicy data do konsoli."
      ],
      "metadata": {
        "id": "_3WI8qRbwobH"
      }
    },
    {
      "cell_type": "code",
      "source": [
        "import numpy as np\n",
        "from sklearn.datasets import load_breast_cancer\n",
        "\n",
        "\n",
        "np.set_printoptions(precision=2, suppress=True, linewidth=100)\n",
        "raw_data = load_breast_cancer()\n",
        "\n",
        "data = raw_data['data']\n",
        "target = raw_data['target']\n",
        "print(data[:3])"
      ],
      "metadata": {
        "colab": {
          "base_uri": "https://localhost:8080/"
        },
        "id": "PFHfuEjywpML",
        "outputId": "4513be0d-a43e-432b-bbd2-82068d442ba3"
      },
      "execution_count": null,
      "outputs": [
        {
          "output_type": "stream",
          "name": "stdout",
          "text": [
            "[[  17.99   10.38  122.8  1001.      0.12    0.28    0.3     0.15    0.24    0.08    1.09    0.91\n",
            "     8.59  153.4     0.01    0.05    0.05    0.02    0.03    0.01   25.38   17.33  184.6  2019.\n",
            "     0.16    0.67    0.71    0.27    0.46    0.12]\n",
            " [  20.57   17.77  132.9  1326.      0.08    0.08    0.09    0.07    0.18    0.06    0.54    0.73\n",
            "     3.4    74.08    0.01    0.01    0.02    0.01    0.01    0.     24.99   23.41  158.8  1956.\n",
            "     0.12    0.19    0.24    0.19    0.28    0.09]\n",
            " [  19.69   21.25  130.   1203.      0.11    0.16    0.2     0.13    0.21    0.06    0.75    0.79\n",
            "     4.58   94.03    0.01    0.04    0.04    0.02    0.02    0.     23.57   25.53  152.5  1709.\n",
            "     0.14    0.42    0.45    0.24    0.36    0.09]]\n"
          ]
        }
      ]
    },
    {
      "cell_type": "markdown",
      "source": [
        "Ćwiczenie 29\n",
        "\n",
        "Opis: Połącz te dwie tablice w jedną o nazwie all_data i wydrukuj trzy pierwsze wiersze tej tablicy do konsoli."
      ],
      "metadata": {
        "id": "Cb4BSUFDwqAE"
      }
    },
    {
      "cell_type": "code",
      "source": [
        "import numpy as np\n",
        "from sklearn.datasets import load_breast_cancer\n",
        "\n",
        "\n",
        "np.set_printoptions(precision=2, suppress=True, linewidth=100)\n",
        "raw_data = load_breast_cancer()\n",
        "\n",
        "data = raw_data['data']\n",
        "target = raw_data['target']\n",
        "\n",
        "all_data = np.c_[data, target]\n",
        "print(all_data[:3])"
      ],
      "metadata": {
        "colab": {
          "base_uri": "https://localhost:8080/"
        },
        "id": "4qP54RqlwrSq",
        "outputId": "9c6435ee-5cf8-4519-c73d-7ce846a9193a"
      },
      "execution_count": null,
      "outputs": [
        {
          "output_type": "stream",
          "name": "stdout",
          "text": [
            "[[  17.99   10.38  122.8  1001.      0.12    0.28    0.3     0.15    0.24    0.08    1.09    0.91\n",
            "     8.59  153.4     0.01    0.05    0.05    0.02    0.03    0.01   25.38   17.33  184.6  2019.\n",
            "     0.16    0.67    0.71    0.27    0.46    0.12    0.  ]\n",
            " [  20.57   17.77  132.9  1326.      0.08    0.08    0.09    0.07    0.18    0.06    0.54    0.73\n",
            "     3.4    74.08    0.01    0.01    0.02    0.01    0.01    0.     24.99   23.41  158.8  1956.\n",
            "     0.12    0.19    0.24    0.19    0.28    0.09    0.  ]\n",
            " [  19.69   21.25  130.   1203.      0.11    0.16    0.2     0.13    0.21    0.06    0.75    0.79\n",
            "     4.58   94.03    0.01    0.04    0.04    0.02    0.02    0.     23.57   25.53  152.5  1709.\n",
            "     0.14    0.42    0.45    0.24    0.36    0.09    0.  ]]\n"
          ]
        }
      ]
    },
    {
      "cell_type": "markdown",
      "source": [
        "Ćwiczenie 30\n",
        "\n",
        "Opis: Połączono te dwie tablice w jedną o nazwie all_data. Utwórz z tablicy all_data obiekt DataFrame nadając odpowiednio nazwy kolumn (zawartość klucza 'feature_names' obiektu raw_data + nazwa zmiennej docelowej jako 'target')."
      ],
      "metadata": {
        "id": "5B1KoWlKwszT"
      }
    },
    {
      "cell_type": "code",
      "source": [
        "import numpy as np\n",
        "import pandas as pd\n",
        "from sklearn.datasets import load_breast_cancer\n",
        "\n",
        "\n",
        "pd.set_option('display.max_columns', 10)\n",
        "pd.set_option('display.width', 200)\n",
        "np.set_printoptions(precision=2, suppress=True, linewidth=100)\n",
        "raw_data = load_breast_cancer()\n",
        "\n",
        "data = raw_data['data']\n",
        "target = raw_data['target']\n",
        "\n",
        "all_data = np.c_[data, target]\n",
        "df = pd.DataFrame(\n",
        "    data=all_data,\n",
        "    columns=list(raw_data['feature_names']) + ['target'],\n",
        ")\n",
        "print(df.head())"
      ],
      "metadata": {
        "colab": {
          "base_uri": "https://localhost:8080/"
        },
        "id": "l1ljktHSwvAD",
        "outputId": "af3b7eda-a4e2-446f-ba67-6e667723c6d3"
      },
      "execution_count": null,
      "outputs": [
        {
          "output_type": "stream",
          "name": "stdout",
          "text": [
            "   mean radius  mean texture  mean perimeter  mean area  mean smoothness  ...  worst concavity  worst concave points  worst symmetry  worst fractal dimension  target\n",
            "0        17.99         10.38          122.80     1001.0          0.11840  ...           0.7119                0.2654          0.4601                  0.11890     0.0\n",
            "1        20.57         17.77          132.90     1326.0          0.08474  ...           0.2416                0.1860          0.2750                  0.08902     0.0\n",
            "2        19.69         21.25          130.00     1203.0          0.10960  ...           0.4504                0.2430          0.3613                  0.08758     0.0\n",
            "3        11.42         20.38           77.58      386.1          0.14250  ...           0.6869                0.2575          0.6638                  0.17300     0.0\n",
            "4        20.29         14.34          135.10     1297.0          0.10030  ...           0.4000                0.1625          0.2364                  0.07678     0.0\n",
            "\n",
            "[5 rows x 31 columns]\n"
          ]
        }
      ]
    },
    {
      "cell_type": "markdown",
      "source": [
        "Ćwiczenie 31"
      ],
      "metadata": {
        "id": "1BOp43SkgCKk"
      }
    },
    {
      "cell_type": "code",
      "source": [
        "import numpy as np\n",
        "import pandas as pd\n",
        "from sklearn.datasets import load_breast_cancer\n",
        "from sklearn.model_selection import train_test_split\n",
        "\n",
        "\n",
        "pd.set_option('display.max_columns', 10)\n",
        "pd.set_option('display.width', 200)\n",
        "np.set_printoptions(precision=2, suppress=True, linewidth=100)\n",
        "raw_data = load_breast_cancer()\n",
        "\n",
        "data = raw_data['data']\n",
        "target = raw_data['target']\n",
        "\n",
        "X_train, X_test, y_train, y_test = train_test_split(\n",
        "    data, target, random_state=40, test_size=0.25\n",
        ")\n",
        "\n",
        "print(f'X_train shape {X_train.shape}')\n",
        "print(f'y_train shape {y_train.shape}')\n",
        "print(f'X_test shape {X_test.shape}')\n",
        "print(f'y_test shape {y_test.shape}')"
      ],
      "metadata": {
        "colab": {
          "base_uri": "https://localhost:8080/"
        },
        "id": "o8CUXSQPgFIU",
        "outputId": "89202439-9a0c-43a9-cda9-ef863cd0bb81"
      },
      "execution_count": null,
      "outputs": [
        {
          "output_type": "stream",
          "name": "stdout",
          "text": [
            "X_train shape (426, 30)\n",
            "y_train shape (426,)\n",
            "X_test shape (143, 30)\n",
            "y_test shape (143,)\n"
          ]
        }
      ]
    },
    {
      "cell_type": "markdown",
      "source": [
        "Ćwiczenie 32\n",
        "\n",
        "Opis: Sprawdź procentowy rozkład wartości zmiennych target, y_train oraz y_test."
      ],
      "metadata": {
        "id": "6Zy5bxDTgFs5"
      }
    },
    {
      "cell_type": "code",
      "source": [
        "import numpy as np\n",
        "import pandas as pd\n",
        "from sklearn.datasets import load_breast_cancer\n",
        "from sklearn.model_selection import train_test_split\n",
        "\n",
        "\n",
        "pd.set_option('display.max_columns', 10)\n",
        "pd.set_option('display.width', 200)\n",
        "np.set_printoptions(precision=2, suppress=True, linewidth=100)\n",
        "raw_data = load_breast_cancer()\n",
        "\n",
        "data = raw_data['data']\n",
        "target = raw_data['target']\n",
        "\n",
        "X_train, X_test, y_train, y_test = train_test_split(\n",
        "    data, target, random_state=40, test_size=0.25\n",
        ")\n",
        "\n",
        "for name, array in zip(\n",
        "    ['target', 'y_train', 'y_test'], [target, y_train, y_test]\n",
        "):\n",
        "    print(\n",
        "        f'{name.ljust(7)}:'\n",
        "        f'{np.unique(array, return_counts=True)[1] / len(array)}'\n",
        "    )"
      ],
      "metadata": {
        "colab": {
          "base_uri": "https://localhost:8080/"
        },
        "id": "c9SVk_chgInV",
        "outputId": "97aca46f-11b3-491a-b261-b864e690bb0d"
      },
      "execution_count": null,
      "outputs": [
        {
          "output_type": "stream",
          "name": "stdout",
          "text": [
            "target :[0.37 0.63]\n",
            "y_train:[0.39 0.61]\n",
            "y_test :[0.31 0.69]\n"
          ]
        }
      ]
    },
    {
      "cell_type": "markdown",
      "source": [
        "Ćwiczenie 33\n",
        "\n",
        "Opis: Podziel dane (data, target) na zbiór treningowy i testowy, odpowiednio:\n",
        "zbiór treningowy: X_train, y_train\n",
        "zbiór testowy: X_test, y_test\n",
        "tak, aby zachować procentowy rozkład wartości w tablicach y_train oraz y_test taki jak w tablicy target. Następnie sprawdź procentowy rozkład wartości zmiennych target, y_train oraz y_test. Wynik wydrukuj do konsoli tak jak pokazano poniżej."
      ],
      "metadata": {
        "id": "9iaEe-DigOYw"
      }
    },
    {
      "cell_type": "code",
      "source": [
        "import numpy as np\n",
        "import pandas as pd\n",
        "from sklearn.datasets import load_breast_cancer\n",
        "from sklearn.model_selection import train_test_split\n",
        "\n",
        "\n",
        "pd.set_option('display.max_columns', 10)\n",
        "pd.set_option('display.width', 200)\n",
        "np.set_printoptions(precision=2, suppress=True, linewidth=100)\n",
        "raw_data = load_breast_cancer()\n",
        "\n",
        "data = raw_data['data']\n",
        "target = raw_data['target']\n",
        "\n",
        "X_train, X_test, y_train, y_test = train_test_split(\n",
        "    data, target, random_state=40, test_size=0.25, stratify=target\n",
        ")\n",
        "\n",
        "for name, array in zip(\n",
        "    ['target', 'y_train', 'y_test'], [target, y_train, y_test]\n",
        "):\n",
        "    print(\n",
        "        f'{name.ljust(7)}:'\n",
        "        f'{np.unique(array, return_counts=True)[1] / len(array)}'\n",
        "    )"
      ],
      "metadata": {
        "colab": {
          "base_uri": "https://localhost:8080/"
        },
        "id": "SgnzdZ3BkJXn",
        "outputId": "88f9d523-b7a5-4066-f324-ed2b17e77212"
      },
      "execution_count": null,
      "outputs": [
        {
          "output_type": "stream",
          "name": "stdout",
          "text": [
            "target :[0.37 0.63]\n",
            "y_train:[0.37 0.63]\n",
            "y_test :[0.37 0.63]\n"
          ]
        }
      ]
    },
    {
      "cell_type": "markdown",
      "source": [
        "Ćwiczenie 34\n",
        "\n",
        "Opis: Wykorzystując równanie normalne oraz pakiet numpy znajdź równanie regresji liniowej."
      ],
      "metadata": {
        "id": "z9BhjQHHgPgD"
      }
    },
    {
      "cell_type": "code",
      "source": [
        "import numpy as np\n",
        "import pandas as pd\n",
        "\n",
        "\n",
        "df = pd.DataFrame(\n",
        "    {\n",
        "        'years': [1, 2, 3, 4, 5, 6],\n",
        "        'salary': [4000, 4250, 4500, 4750, 5000, 5250],\n",
        "    }\n",
        ")\n",
        "m = len(df)\n",
        "\n",
        "X1 = df['years'].values\n",
        "Y = df['salary'].values\n",
        "\n",
        "X1 = X1.reshape(m, 1)\n",
        "bias = np.ones((m, 1))\n",
        "X = np.append(bias, X1, axis=1)\n",
        "\n",
        "coefs = np.dot(np.linalg.inv(np.dot(X.T, X)), np.dot(X.T, Y))\n",
        "print(f'Linear regression: {coefs[0]:.2f} + {coefs[1]:.2f}x')"
      ],
      "metadata": {
        "colab": {
          "base_uri": "https://localhost:8080/"
        },
        "id": "DYURuRcvgQ1L",
        "outputId": "793cdea1-7f9c-4680-bec6-9ee7a9b5af65"
      },
      "execution_count": null,
      "outputs": [
        {
          "output_type": "stream",
          "name": "stdout",
          "text": [
            "Linear regression: 3750.00 + 250.00x\n"
          ]
        }
      ]
    },
    {
      "cell_type": "markdown",
      "source": [
        "Ćwiczenie 35\n",
        "\n",
        "Opis: Wykorzystując pakiet scikit-learn oraz klasę LinearRegression znajdź równanie regresji liniowej dla tego problemu."
      ],
      "metadata": {
        "id": "OdGkunLqgRk4"
      }
    },
    {
      "cell_type": "code",
      "source": [
        "import numpy as np\n",
        "import pandas as pd\n",
        "from sklearn.linear_model import LinearRegression\n",
        "\n",
        "\n",
        "df = pd.DataFrame(\n",
        "    {\n",
        "        'years': [1, 2, 3, 4, 5, 6],\n",
        "        'salary': [4000, 4250, 4500, 4750, 5000, 5250],\n",
        "    }\n",
        ")\n",
        "\n",
        "model = LinearRegression()\n",
        "model.fit(df[['years']], df[['salary']])\n",
        "\n",
        "print(\n",
        "    f'Linear regression: {model.intercept_[0]:.2f} + '\n",
        "    f'{model.coef_[0][0]:.2f}x'\n",
        ")"
      ],
      "metadata": {
        "colab": {
          "base_uri": "https://localhost:8080/"
        },
        "id": "oBe_gZnegS2a",
        "outputId": "0a8a8420-aaec-4f8e-9f39-d5c80e65fd57"
      },
      "execution_count": null,
      "outputs": [
        {
          "output_type": "stream",
          "name": "stdout",
          "text": [
            "Linear regression: 3750.00 + 250.00x\n"
          ]
        }
      ]
    },
    {
      "cell_type": "markdown",
      "source": [
        "Ćwiczenie 36"
      ],
      "metadata": {
        "id": "Bb9RtxOagTay"
      }
    },
    {
      "cell_type": "code",
      "source": [
        "import numpy as np\n",
        "import pandas as pd\n",
        "from sklearn.linear_model import LinearRegression\n",
        "\n",
        "\n",
        "df = pd.read_csv('data.csv')\n",
        "data = df[['variable']]\n",
        "target = df['target']\n",
        "\n",
        "model = LinearRegression()\n",
        "model.fit(data, target)\n",
        "print(f'{model.score(data, target):.4f}')"
      ],
      "metadata": {
        "id": "moT1-1S9gVIi"
      },
      "execution_count": null,
      "outputs": []
    },
    {
      "cell_type": "markdown",
      "source": [
        "Ćwiczenie 37\n",
        "\n",
        "Opis: Wczytaj plik data.csv do obiektu DataFrame. Następnie dokonaj ekstrakcji cech wielomianowych ze zmiennej var1 stopnia drugiego. Otrzymane cechy w postaci tablicy numpy wyświetl do konsoli"
      ],
      "metadata": {
        "id": "prKFZU6RgVlj"
      }
    },
    {
      "cell_type": "code",
      "source": [
        "import numpy as np\n",
        "import pandas as pd\n",
        "from sklearn.preprocessing import PolynomialFeatures\n",
        "\n",
        "\n",
        "np.set_printoptions(suppress=True, precision=3)\n",
        "df = pd.read_csv('data.csv')\n",
        "\n",
        "poly = PolynomialFeatures(degree=2)\n",
        "\n",
        "df_poly = poly.fit_transform(df)\n",
        "print(df_poly)"
      ],
      "metadata": {
        "id": "sja60a7UgY9I"
      },
      "execution_count": null,
      "outputs": []
    },
    {
      "cell_type": "markdown",
      "source": [
        "Ćwiczenie 38"
      ],
      "metadata": {
        "id": "zUzrJgr1gZSB"
      }
    },
    {
      "cell_type": "code",
      "source": [
        "import numpy as np\n",
        "import pandas as pd\n",
        "from sklearn.preprocessing import PolynomialFeatures\n",
        "\n",
        "\n",
        "np.set_printoptions(suppress=True, precision=3, linewidth=150)\n",
        "df = pd.read_csv('data.csv')\n",
        "\n",
        "poly = PolynomialFeatures(degree=3)\n",
        "\n",
        "df_poly = poly.fit_transform(df)\n",
        "print(df_poly)"
      ],
      "metadata": {
        "id": "4HJC7qVzgdH-"
      },
      "execution_count": null,
      "outputs": []
    },
    {
      "cell_type": "markdown",
      "source": [
        "Ćwiczenie 39"
      ],
      "metadata": {
        "id": "_gpy5pskgemA"
      }
    },
    {
      "cell_type": "code",
      "source": [
        "import numpy as np\n",
        "import pandas as pd\n",
        "\n",
        "df = pd.read_csv('predictions.csv')\n",
        "\n",
        "def mean_absolute_error(df):\n",
        "    MAE = (1 / len(df)) * abs(df['y_true'] - df['y_pred']).sum()\n",
        "    print(f'MAE = {MAE:.4f}')\n",
        "\n",
        "\n",
        "mean_absolute_error(df)\n",
        "\n",
        "###\n",
        "def mean_absolute_error(y_true, y_pred):\n",
        "    return abs(y_true - y_pred).sum() / len(y_true)\n",
        "\n",
        "\n",
        "mae = mean_absolute_error(predictions['y_true'], predictions['y_pred'])\n",
        "print(f'MAE = {mae:.4f}')"
      ],
      "metadata": {
        "id": "MMCqJyPtgfxQ"
      },
      "execution_count": null,
      "outputs": []
    },
    {
      "cell_type": "markdown",
      "source": [
        "Ćwiczenie 40"
      ],
      "metadata": {
        "id": "yHbSGIl4ggFZ"
      }
    },
    {
      "cell_type": "code",
      "source": [
        "import numpy as np\n",
        "import pandas as pd\n",
        "\n",
        "df = pd.read_csv('predictions.csv')\n",
        "\n",
        "def mean_squared_error(y_true, y_pred):\n",
        "    return ((y_true - y_pred) ** 2).sum() / len(y_true)\n",
        "\n",
        "\n",
        "mse = mean_squared_error(df['y_true'], df['y_pred'])\n",
        "print(f'MSE = {mse:.4f}')"
      ],
      "metadata": {
        "id": "A6etMXkwghHQ"
      },
      "execution_count": null,
      "outputs": []
    },
    {
      "cell_type": "markdown",
      "source": [
        "Ćwiczenie 41\n",
        "\n",
        "Opis: Zaimplementuj funkcję sigmoid() wykorzystując bibliotekę numpy. Policz jej wartość dla zmiennej var1 i przypisz do kolumny o nazwie 'var1_sigmoid'. W odpowiedzi wyświetl obiekt DataFrame do konsoli.\n",
        "\n"
      ],
      "metadata": {
        "id": "ONMBxwmswu9W"
      }
    },
    {
      "cell_type": "code",
      "source": [
        "import numpy as np\n",
        "import pandas as pd\n",
        "\n",
        "\n",
        "np.random.seed(42)\n",
        "df = pd.DataFrame(data=np.random.randn(10), columns=['var1'])\n",
        "\n",
        "\n",
        "def sigmoid(x):\n",
        "    return 1 / (1 + np.exp(-x))\n",
        "\n",
        "\n",
        "df['var1_sigmoid'] = df['var1'].apply(sigmoid)\n",
        "print(df)"
      ],
      "metadata": {
        "colab": {
          "base_uri": "https://localhost:8080/"
        },
        "id": "zRsMc6R4wxDO",
        "outputId": "3ce7f3e3-085f-43e2-fea6-d595567b2edc"
      },
      "execution_count": null,
      "outputs": [
        {
          "output_type": "stream",
          "name": "stdout",
          "text": [
            "       var1  var1_sigmoid\n",
            "0  0.496714      0.621687\n",
            "1 -0.138264      0.465489\n",
            "2  0.647689      0.656489\n",
            "3  1.523030      0.820984\n",
            "4 -0.234153      0.441728\n",
            "5 -0.234137      0.441732\n",
            "6  1.579213      0.829093\n",
            "7  0.767435      0.682966\n",
            "8 -0.469474      0.384741\n",
            "9  0.542560      0.632408\n"
          ]
        }
      ]
    },
    {
      "cell_type": "markdown",
      "source": [
        "Ćwiczenie 42"
      ],
      "metadata": {
        "id": "kBZD9gR6wxej"
      }
    },
    {
      "cell_type": "code",
      "source": [
        "import numpy as np\n",
        "import pandas as pd\n",
        "from sklearn.preprocessing import StandardScaler\n",
        "\n",
        "\n",
        "np.set_printoptions(precision=4, suppress=True)\n",
        "df = pd.read_csv('data.csv')\n",
        "\n",
        "scaler = StandardScaler()\n",
        "scaler.fit(df)\n",
        "\n",
        "df_scaled = scaler.transform(df)\n",
        "print(df_scaled)"
      ],
      "metadata": {
        "id": "zSkP-p9MwykF"
      },
      "execution_count": null,
      "outputs": []
    },
    {
      "cell_type": "markdown",
      "source": [
        "Ćwiczenie 43"
      ],
      "metadata": {
        "id": "ZIVw7qHJwy22"
      }
    },
    {
      "cell_type": "code",
      "source": [
        "import numpy as np\n",
        "import pandas as pd\n",
        "from sklearn.preprocessing import StandardScaler\n",
        "\n",
        "\n",
        "np.set_printoptions(precision=4, suppress=True)\n",
        "\n",
        "X_train = pd.read_csv('X_train.csv')\n",
        "X_test = pd.read_csv('X_test.csv')\n",
        "\n",
        "scaler = StandardScaler()\n",
        "scaler.fit(X_train)\n",
        "\n",
        "X_train = scaler.transform(X_train)\n",
        "X_test = scaler.transform(X_test)\n",
        "\n",
        "print(X_train[:5])\n",
        "print(X_test[:5])\n"
      ],
      "metadata": {
        "id": "pxnZv9uywziM"
      },
      "execution_count": null,
      "outputs": []
    },
    {
      "cell_type": "markdown",
      "source": [
        "Ćwiczenie 44"
      ],
      "metadata": {
        "id": "dehGqIoLwz4B"
      }
    },
    {
      "cell_type": "code",
      "source": [
        "import numpy as np\n",
        "import pandas as pd\n",
        "\n",
        "\n",
        "def entropy(x):\n",
        "    return np.round(-np.sum(x * np.log2(x)), 4)\n",
        "\n",
        "\n",
        "df = pd.DataFrame(\n",
        "    {\n",
        "        'val_1': np.arange(0.01, 1.0, 0.1),\n",
        "        'val_2': 1 - np.arange(0.01, 1.0, 0.1),\n",
        "    }\n",
        ")\n",
        "\n",
        "df['entropy'] = [\n",
        "    entropy([row[1][0], row[1][1]]) for row in df.iterrows()\n",
        "]\n",
        "print(df)\n"
      ],
      "metadata": {
        "colab": {
          "base_uri": "https://localhost:8080/"
        },
        "id": "AJ1pHqaPw0t0",
        "outputId": "a4cfff1a-14f3-41da-b7e7-e4f2182c56a2"
      },
      "execution_count": null,
      "outputs": [
        {
          "output_type": "stream",
          "name": "stdout",
          "text": [
            "   val_1  val_2  entropy\n",
            "0   0.01   0.99   0.0808\n",
            "1   0.11   0.89   0.4999\n",
            "2   0.21   0.79   0.7415\n",
            "3   0.31   0.69   0.8932\n",
            "4   0.41   0.59   0.9765\n",
            "5   0.51   0.49   0.9997\n",
            "6   0.61   0.39   0.9648\n",
            "7   0.71   0.29   0.8687\n",
            "8   0.81   0.19   0.7015\n",
            "9   0.91   0.09   0.4365\n"
          ]
        }
      ]
    },
    {
      "cell_type": "markdown",
      "source": [
        "Ćwiczenie 45\n",
        "\n",
        "Opis: Dokładność modelu."
      ],
      "metadata": {
        "id": "LI40wPs2w0-f"
      }
    },
    {
      "cell_type": "code",
      "source": [
        "import numpy as np\n",
        "import pandas as pd\n",
        "from sklearn.metrics import accuracy_score\n",
        "\n",
        "\n",
        "df = pd.read_csv('predictions.csv')\n",
        "x = accuracy_score(df['y_true'], df['y_pred'])\n",
        "print(f'Accuracy: {x:.4f}')"
      ],
      "metadata": {
        "id": "u_qeCeJ8w1wA"
      },
      "execution_count": null,
      "outputs": []
    },
    {
      "cell_type": "markdown",
      "source": [
        "Ćwiczenie 46\n",
        "\n",
        "Opis: Macierz konfuzji"
      ],
      "metadata": {
        "id": "v0eziBQaw2Ip"
      }
    },
    {
      "cell_type": "code",
      "source": [
        "import numpy as np\n",
        "import pandas as pd\n",
        "from sklearn.metrics import confusion_matrix\n",
        "\n",
        "predictions = pd.read_csv('predictions.csv')\n",
        "print(confusion_matrix(predictions['y_true'], predictions['y_pred']))"
      ],
      "metadata": {
        "id": "-j3qDJxVw33M"
      },
      "execution_count": null,
      "outputs": []
    },
    {
      "cell_type": "markdown",
      "source": [
        "Ćwiczenie 47\n",
        "\n",
        "Opis: Wykorzystując klasę DecisionTreeClassifier z pakietu scikit-learn zbuduj model klasyfikacji dla podanych danych (zostaw domyślne ustawienia argumentów). Dokonaj trenowania modelu na zbiorze treningowym oraz oceny na zbiorze testowym."
      ],
      "metadata": {
        "id": "aTARONeSw4Kj"
      }
    },
    {
      "cell_type": "code",
      "source": [
        "import numpy as np\n",
        "import pandas as pd\n",
        "\n",
        "from sklearn.datasets import make_moons\n",
        "from sklearn.model_selection import train_test_split\n",
        "from sklearn.tree import DecisionTreeClassifier\n",
        "\n",
        "\n",
        "np.random.seed(42)\n",
        "raw_data = make_moons(n_samples=2000, noise=0.25, random_state=42)\n",
        "data = raw_data[0]\n",
        "target = raw_data[1]\n",
        "\n",
        "X_train, X_test, y_train, y_test = train_test_split(data, target)\n",
        "\n",
        "classifier = DecisionTreeClassifier()\n",
        "classifier.fit(X_train, y_train)\n",
        "acc = classifier.score(X_test, y_test)\n",
        "print(f'Accuracy: {acc:.4f}')"
      ],
      "metadata": {
        "id": "hs5Kt-LOw6NH"
      },
      "execution_count": null,
      "outputs": []
    },
    {
      "cell_type": "markdown",
      "source": [
        "Ćwiczenie 48"
      ],
      "metadata": {
        "id": "HbTioqEMw6kI"
      }
    },
    {
      "cell_type": "code",
      "source": [
        "import numpy as np\n",
        "import pandas as pd\n",
        "\n",
        "from sklearn.datasets import make_moons\n",
        "from sklearn.model_selection import train_test_split\n",
        "from sklearn.tree import DecisionTreeClassifier\n",
        "\n",
        "\n",
        "np.random.seed(42)\n",
        "raw_data = make_moons(n_samples=2000, noise=0.25, random_state=42)\n",
        "data = raw_data[0]\n",
        "target = raw_data[1]\n",
        "\n",
        "X_train, X_test, y_train, y_test = train_test_split(data, target)\n",
        "\n",
        "classifier = DecisionTreeClassifier(max_depth = 6)\n",
        "classifier.fit(X_train, y_train)\n",
        "acc = classifier.score(X_test, y_test)\n",
        "print(f'Accuracy: {acc:.4f}')"
      ],
      "metadata": {
        "colab": {
          "base_uri": "https://localhost:8080/"
        },
        "id": "BTflVmsKw9Xo",
        "outputId": "a4cafde5-6fe1-43a6-fcc5-7f937c1b07d3"
      },
      "execution_count": null,
      "outputs": [
        {
          "output_type": "stream",
          "name": "stdout",
          "text": [
            "Accuracy: 0.9280\n"
          ]
        }
      ]
    },
    {
      "cell_type": "markdown",
      "source": [
        "Ćwiczenie 49"
      ],
      "metadata": {
        "id": "V4fEW1FAw90q"
      }
    },
    {
      "cell_type": "code",
      "source": [
        "import numpy as np\n",
        "import pandas as pd\n",
        "\n",
        "from sklearn.datasets import make_moons\n",
        "from sklearn.model_selection import train_test_split\n",
        "from sklearn.tree import DecisionTreeClassifier\n",
        "\n",
        "\n",
        "np.random.seed(42)\n",
        "raw_data = make_moons(n_samples=2000, noise=0.25, random_state=42)\n",
        "data = raw_data[0]\n",
        "target = raw_data[1]\n",
        "\n",
        "X_train, X_test, y_train, y_test = train_test_split(data, target)\n",
        "\n",
        "classifier = DecisionTreeClassifier(max_depth=6, min_samples_leaf=6)\n",
        "classifier.fit(X_train, y_train)\n",
        "acc = classifier.score(X_test, y_test)\n",
        "print(f'Accuracy: {acc:.4f}')"
      ],
      "metadata": {
        "colab": {
          "base_uri": "https://localhost:8080/"
        },
        "id": "kBhvEHrtxBSE",
        "outputId": "3bd392c7-4c8a-4601-c21d-f4c6c102a453"
      },
      "execution_count": null,
      "outputs": [
        {
          "output_type": "stream",
          "name": "stdout",
          "text": [
            "Accuracy: 0.9300\n"
          ]
        }
      ]
    },
    {
      "cell_type": "markdown",
      "source": [
        "Ćwiczenie 50\n",
        "\n",
        "Opis: ykorzystując klasę DecisionTreeClassifier z pakietu scikit-learn zbuduj model klasyfikacji dla podanych danych. Wykorzystując metodę przeszukiwania siatki oraz klasę GridSearchCV (ustaw argumentyscoring='accuracy', cv=5) znajdź optymalne wartości parametrów max_depth oraz min_samples_leaf."
      ],
      "metadata": {
        "id": "yy9mz0ncxCMx"
      }
    },
    {
      "cell_type": "code",
      "source": [
        "import numpy as np\n",
        "import pandas as pd\n",
        "\n",
        "from sklearn.datasets import make_moons\n",
        "from sklearn.model_selection import train_test_split\n",
        "from sklearn.tree import DecisionTreeClassifier\n",
        "from sklearn.model_selection import GridSearchCV\n",
        "\n",
        "\n",
        "np.random.seed(42)\n",
        "raw_data = make_moons(n_samples=2000, noise=0.25, random_state=42)\n",
        "data = raw_data[0]\n",
        "target = raw_data[1]\n",
        "\n",
        "X_train, X_test, y_train, y_test = train_test_split(data, target)\n",
        "\n",
        "classifier = DecisionTreeClassifier()\n",
        "\n",
        "params = {\n",
        "    'max_depth': np.arange(1, 10),\n",
        "    'min_samples_leaf': [1, 2, 3, 4, 5, 6, 7, 8, 9, 10, 15, 20],\n",
        "}\n",
        "\n",
        "grid_search = GridSearchCV(\n",
        "    classifier, param_grid=params, scoring='accuracy', cv=5\n",
        ")\n",
        "grid_search.fit(X_train, y_train)\n",
        "print(grid_search.best_params_)"
      ],
      "metadata": {
        "colab": {
          "base_uri": "https://localhost:8080/"
        },
        "id": "iGvSdjH7xD_E",
        "outputId": "33110e9d-7921-43d7-930c-28ebef456949"
      },
      "execution_count": null,
      "outputs": [
        {
          "output_type": "stream",
          "name": "stdout",
          "text": [
            "{'max_depth': 6, 'min_samples_leaf': 6}\n"
          ]
        }
      ]
    },
    {
      "cell_type": "markdown",
      "source": [
        "Ćwiczenie 51\n",
        "\n",
        "Opis: Wykorzystując klasę RandomForestClassifier z pakietu scikit-learn zbuduj model klasyfikacji dla podanych danych (ustaw argument random_state=42). Dokonaj trenowania modelu na zbiorze treningowym oraz oceny na zbiorze testowym."
      ],
      "metadata": {
        "id": "OSCBlETtxEN7"
      }
    },
    {
      "cell_type": "code",
      "source": [
        "import numpy as np\n",
        "import pandas as pd\n",
        "\n",
        "from sklearn.datasets import make_moons\n",
        "from sklearn.model_selection import train_test_split\n",
        "from sklearn.ensemble import RandomForestClassifier\n",
        "\n",
        "\n",
        "np.random.seed(42)\n",
        "raw_data = make_moons(n_samples=2000, noise=0.25, random_state=42)\n",
        "data = raw_data[0]\n",
        "target = raw_data[1]\n",
        "\n",
        "X_train, X_test, y_train, y_test = train_test_split(data, target)\n",
        "rfc = RandomForestClassifier(random_state=42)\n",
        "rfc.fit(X_train, y_train)\n",
        "acc = rfc.score(X_test, y_test)\n",
        "print(f'Accuracy: {acc:.4f}')\n"
      ],
      "metadata": {
        "colab": {
          "base_uri": "https://localhost:8080/"
        },
        "id": "aL-RdHCzxFH9",
        "outputId": "e5560d88-f093-4bed-a06b-70322587ff70"
      },
      "execution_count": null,
      "outputs": [
        {
          "output_type": "stream",
          "name": "stdout",
          "text": [
            "Accuracy: 0.9300\n"
          ]
        }
      ]
    },
    {
      "cell_type": "markdown",
      "source": [
        "Ćwiczenie 52\n",
        "\n",
        "Opis: Wykorzystując klasę RandomForestClassifier z pakietu scikit-learn zbuduj model klasyfikacji dla podanych danych. Wykorzystując metodę przeszukiwania siatki oraz klasę GridSearchCV (ustaw argumenty scoring='accuracy', cv=5) znajdź optymalne wartości parametrów criterion, max_depth oraz min_samples_leaf"
      ],
      "metadata": {
        "id": "VBZCYas8xGAy"
      }
    },
    {
      "cell_type": "code",
      "source": [
        "import numpy as np\n",
        "import pandas as pd\n",
        "\n",
        "from sklearn.datasets import make_moons\n",
        "from sklearn.model_selection import train_test_split\n",
        "from sklearn.ensemble import RandomForestClassifier\n",
        "from sklearn.model_selection import GridSearchCV\n",
        "\n",
        "\n",
        "np.random.seed(42)\n",
        "raw_data = make_moons(n_samples=2000, noise=0.25, random_state=42)\n",
        "data = raw_data[0]\n",
        "target = raw_data[1]\n",
        "\n",
        "X_train, X_test, y_train, y_test = train_test_split(data, target)\n",
        "\n",
        "classifier = RandomForestClassifier(random_state=42)\n",
        "\n",
        "params = {\n",
        "    'criterion': ['gini', 'entropy'],\n",
        "    'max_depth': [6, 7],\n",
        "    'min_samples_leaf': [4, 5]\n",
        "}\n",
        "\n",
        "grid_search = GridSearchCV(\n",
        "    classifier,\n",
        "    param_grid=params,\n",
        "    n_jobs=-1,\n",
        "    scoring='accuracy',\n",
        "    cv=2,\n",
        ")\n",
        "grid_search.fit(X_train, y_train)\n",
        "grid_search.score(X_test, y_test)\n",
        "print(grid_search.best_params_)"
      ],
      "metadata": {
        "colab": {
          "base_uri": "https://localhost:8080/"
        },
        "id": "9pckvl0sxG45",
        "outputId": "0eb952b1-c824-46a8-9dd7-25d71e1838d7"
      },
      "execution_count": null,
      "outputs": [
        {
          "output_type": "stream",
          "name": "stdout",
          "text": [
            "{'criterion': 'gini', 'max_depth': 6, 'min_samples_leaf': 5}\n"
          ]
        }
      ]
    },
    {
      "cell_type": "markdown",
      "source": [
        "Ćwiczenie 53\n",
        "\n",
        "Opis: Dokonaj wektoryzacji dokumentów za pomocą klasy CountVectorizer z pakietu scikit-learn."
      ],
      "metadata": {
        "id": "L0oS3Ys9xHQZ"
      }
    },
    {
      "cell_type": "code",
      "source": [
        "import numpy as np\n",
        "import pandas as pd\n",
        "\n",
        "from sklearn.feature_extraction.text import CountVectorizer\n",
        "\n",
        "\n",
        "documents = [\n",
        "    'python is a programming language',\n",
        "    'python is popular',\n",
        "    'programming in python',\n",
        "    'object-oriented programming in python'\n",
        "]\n",
        "\n",
        "vectorizer = CountVectorizer()\n",
        "\n",
        "df = pd.DataFrame(\n",
        "    data=vectorizer.fit_transform(documents).toarray(),\n",
        "    columns=vectorizer.get_feature_names_out(),\n",
        ")\n",
        "print(df)"
      ],
      "metadata": {
        "colab": {
          "base_uri": "https://localhost:8080/"
        },
        "id": "4CU1gljwxIMd",
        "outputId": "59a72a09-d323-4f44-d858-129d7348e9a1"
      },
      "execution_count": null,
      "outputs": [
        {
          "output_type": "stream",
          "name": "stdout",
          "text": [
            "   in  is  language  object  oriented  popular  programming  python\n",
            "0   0   1         1       0         0        0            1       1\n",
            "1   0   1         0       0         0        1            0       1\n",
            "2   1   0         0       0         0        0            1       1\n",
            "3   1   0         0       1         1        0            1       1\n"
          ]
        }
      ]
    },
    {
      "cell_type": "markdown",
      "source": [
        "Ćwiczenie 54"
      ],
      "metadata": {
        "id": "npcUjU81xIb3"
      }
    },
    {
      "cell_type": "code",
      "source": [
        "import numpy as np\n",
        "import pandas as pd\n",
        "\n",
        "from sklearn.feature_extraction.text import CountVectorizer\n",
        "\n",
        "\n",
        "documents = [\n",
        "    'python is a programming language',\n",
        "    'python is popular',\n",
        "    'programming in python',\n",
        "    'object-oriented programming in python'\n",
        "]\n",
        "\n",
        "vectorizer = CountVectorizer(stop_words='english')\n",
        "\n",
        "df = pd.DataFrame(\n",
        "    data=vectorizer.fit_transform(documents).toarray(),\n",
        "    columns=vectorizer.get_feature_names_out(),\n",
        ")\n",
        "print(df)"
      ],
      "metadata": {
        "colab": {
          "base_uri": "https://localhost:8080/"
        },
        "id": "3nqUi2v_xJp7",
        "outputId": "6af24b32-9591-4fbc-f691-49ebdf225327"
      },
      "execution_count": null,
      "outputs": [
        {
          "output_type": "stream",
          "name": "stdout",
          "text": [
            "   language  object  oriented  popular  programming  python\n",
            "0         1       0         0        0            1       1\n",
            "1         0       0         0        1            0       1\n",
            "2         0       0         0        0            1       1\n",
            "3         0       1         1        0            1       1\n"
          ]
        }
      ]
    },
    {
      "cell_type": "markdown",
      "source": [
        "Ćwiczenie 55\n",
        "\n",
        "Opis: Dokonaj wektoryzacji dokumentów za pomocą klasy CountVectorizer z pakietu scikit-learn. Użyj argumentu stop_words i ustaw jego wartość na 'english'. Ustaw także odpowiedni argument, który pozwoli wydobyć n-gramy: unigramy i bigramy."
      ],
      "metadata": {
        "id": "SWjDJqvuxJ4T"
      }
    },
    {
      "cell_type": "code",
      "source": [
        "import numpy as np\n",
        "import pandas as pd\n",
        "\n",
        "from sklearn.feature_extraction.text import CountVectorizer\n",
        "\n",
        "\n",
        "pd.set_option('display.width', 200)\n",
        "pd.set_option('display.max_columns', 20)\n",
        "documents = [\n",
        "    'python is a programming language',\n",
        "    'python is popular',\n",
        "    'programming in python',\n",
        "    'object-oriented programming in python',\n",
        "    'programming language'\n",
        "]\n",
        "\n",
        "vectorizer = CountVectorizer(stop_words='english', ngram_range=(1, 2))\n",
        "\n",
        "df = pd.DataFrame(\n",
        "    data=vectorizer.fit_transform(documents).toarray(),\n",
        "    columns=vectorizer.get_feature_names_out(),\n",
        ")\n",
        "print(df)"
      ],
      "metadata": {
        "colab": {
          "base_uri": "https://localhost:8080/"
        },
        "id": "Pe24TgC4xLDX",
        "outputId": "73dec773-297c-429f-9265-23ed7c2d197f"
      },
      "execution_count": null,
      "outputs": [
        {
          "output_type": "stream",
          "name": "stdout",
          "text": [
            "   language  object  object oriented  oriented  oriented programming  popular  programming  programming language  programming python  python  python popular  python programming\n",
            "0         1       0                0         0                     0        0            1                     1                   0       1               0                   1\n",
            "1         0       0                0         0                     0        1            0                     0                   0       1               1                   0\n",
            "2         0       0                0         0                     0        0            1                     0                   1       1               0                   0\n",
            "3         0       1                1         1                     1        0            1                     0                   1       1               0                   0\n",
            "4         1       0                0         0                     0        0            1                     1                   0       0               0                   0\n"
          ]
        }
      ]
    },
    {
      "cell_type": "markdown",
      "source": [
        "Ćwiczenie 56"
      ],
      "metadata": {
        "id": "9QP9zZTGxLXF"
      }
    },
    {
      "cell_type": "code",
      "source": [
        "import numpy as np\n",
        "import pandas as pd\n",
        "\n",
        "from sklearn.feature_extraction.text import TfidfVectorizer\n",
        "\n",
        "\n",
        "pd.set_option('display.width', 200)\n",
        "pd.set_option('display.max_columns', 10)\n",
        "pd.set_option('display.precision', 3)\n",
        "documents = [\n",
        "    'python is a programming language',\n",
        "    'python is popular',\n",
        "    'programming in python',\n",
        "    'object-oriented programming in python',\n",
        "    'programming language'\n",
        "]\n",
        "\n",
        "vectorizer = TfidfVectorizer()\n",
        "\n",
        "df = pd.DataFrame(\n",
        "    data=vectorizer.fit_transform(documents).toarray(),\n",
        "    columns=vectorizer.get_feature_names_out(),\n",
        ")\n",
        "print(df)"
      ],
      "metadata": {
        "colab": {
          "base_uri": "https://localhost:8080/"
        },
        "id": "21P3eBdoxMiL",
        "outputId": "2b195650-30de-40b8-cce9-cc97d3780795"
      },
      "execution_count": null,
      "outputs": [
        {
          "output_type": "stream",
          "name": "stdout",
          "text": [
            "      in     is  language  object  oriented  popular  programming  python\n",
            "0  0.000  0.580      0.58   0.000     0.000    0.000        0.405   0.405\n",
            "1  0.000  0.575      0.00   0.000     0.000    0.713        0.000   0.402\n",
            "2  0.712  0.000      0.00   0.000     0.000    0.000        0.497   0.497\n",
            "3  0.445  0.000      0.00   0.552     0.552    0.000        0.311   0.311\n",
            "4  0.000  0.000      0.82   0.000     0.000    0.000        0.573   0.000\n"
          ]
        }
      ]
    },
    {
      "cell_type": "markdown",
      "source": [
        "Ćwiczenie 57"
      ],
      "metadata": {
        "id": "afCNTGowxMzu"
      }
    },
    {
      "cell_type": "code",
      "source": [
        "import numpy as np\n",
        "import pandas as pd\n",
        "\n",
        "from sklearn.feature_extraction.text import TfidfVectorizer\n",
        "\n",
        "\n",
        "pd.set_option('display.width', 200)\n",
        "pd.set_option('display.max_columns', 10)\n",
        "pd.set_option('display.precision', 3)\n",
        "documents = [\n",
        "    'python is a programming language',\n",
        "    'python is popular',\n",
        "    'programming in python',\n",
        "    'object-oriented programming in python',\n",
        "    'programming language'\n",
        "]\n",
        "\n",
        "vectorizer = TfidfVectorizer(stop_words=['is', 'in'])\n",
        "\n",
        "df = pd.DataFrame(\n",
        "    data=vectorizer.fit_transform(documents).toarray(),\n",
        "    columns=vectorizer.get_feature_names_out(),\n",
        ")\n",
        "print(df)"
      ],
      "metadata": {
        "colab": {
          "base_uri": "https://localhost:8080/"
        },
        "id": "doYtvIN9xNqy",
        "outputId": "504e97eb-41a5-460c-bc4b-3d5aaac4bacb"
      },
      "execution_count": null,
      "outputs": [
        {
          "output_type": "stream",
          "name": "stdout",
          "text": [
            "   language  object  oriented  popular  programming  python\n",
            "0     0.712   0.000     0.000    0.000        0.497   0.497\n",
            "1     0.000   0.000     0.000    0.871        0.000   0.491\n",
            "2     0.000   0.000     0.000    0.000        0.707   0.707\n",
            "3     0.000   0.616     0.616    0.000        0.347   0.347\n",
            "4     0.820   0.000     0.000    0.000        0.573   0.000\n"
          ]
        }
      ]
    },
    {
      "cell_type": "markdown",
      "source": [
        "Ćwiczenie 58\n",
        "\n",
        "Opis: Wczytaj plik data.csv do obiektu DataFrame (plik zawiera dwie zmienne x1 oraz x2). Następnie zaimplementuj algorytm K-średnich pozwalających rozdzielić podane dane na dwa klastry. Wyznacz centroid każdego klastra i wydrukuj jego współrzędne do konsoli. Zaokrąglij wynik do trzech miejsc po przecinku każdej ze współrzędnych.\n",
        "\n",
        "Pomocnicze kroki:\n",
        "\n",
        "1. Wyznaczamy przedziały wartości dla zmiennych x1 oraz x2.\n",
        "\n",
        "2. Losowo wybieramy współrzędne centroidów z wyznaczonych przedziałów.\n",
        "\n",
        "3. Przyporządkowujemy punkty do najbliższego centroidu.\n",
        "\n",
        "4. Obliczamy nowe współrzędne centroidów.\n",
        "\n",
        "5. Wracamy do kroku 3 i powtarzamy do osiągnięcia zbieżności (wystarczy 10 iteracji)."
      ],
      "metadata": {
        "id": "N6lera71xN3G"
      }
    },
    {
      "cell_type": "code",
      "source": [
        "import numpy as np\n",
        "from numpy.linalg import norm\n",
        "import pandas as pd\n",
        "import random\n",
        "\n",
        "\n",
        "np.random.seed(42)\n",
        "df = pd.read_csv('data.csv')\n",
        "\n",
        "x1_min = df.x1.min()\n",
        "x1_max = df.x1.max()\n",
        "\n",
        "x2_min = df.x2.min()\n",
        "x2_max = df.x2.max()\n",
        "\n",
        "centroid_1 = np.array(\n",
        "    [random.uniform(x1_min, x1_max), random.uniform(x2_min, x2_max)]\n",
        ")\n",
        "centroid_2 = np.array(\n",
        "    [random.uniform(x1_min, x1_max), random.uniform(x2_min, x2_max)]\n",
        ")\n",
        "\n",
        "data = df.values\n",
        "\n",
        "for i in range(10):\n",
        "    clusters = []\n",
        "    for point in data:\n",
        "        centroid_1_dist = norm(centroid_1 - point)\n",
        "        centroid_2_dist = norm(centroid_2 - point)\n",
        "        cluster = 1\n",
        "        if centroid_1_dist > centroid_2_dist:\n",
        "            cluster = 2\n",
        "        clusters.append(cluster)\n",
        "\n",
        "    df['cluster'] = clusters\n",
        "\n",
        "    centroid_1 = [\n",
        "        round(df[df.cluster == 1].x1.mean(), 3),\n",
        "        round(df[df.cluster == 1].x2.mean(), 3),\n",
        "    ]\n",
        "    centroid_2 = [\n",
        "        round(df[df.cluster == 2].x1.mean(), 3),\n",
        "        round(df[df.cluster == 2].x2.mean(), 3),\n",
        "    ]\n",
        "\n",
        "print(centroid_1)\n",
        "print(centroid_2)"
      ],
      "metadata": {
        "id": "rjx-BGquxO6M"
      },
      "execution_count": null,
      "outputs": []
    },
    {
      "cell_type": "markdown",
      "source": [
        "Ćwiczenie 59\n",
        "\n",
        "Opis: Wykorzystując klasę KMeans z pakietu scikit-learn dokonaj podziału danych na trzy klastry."
      ],
      "metadata": {
        "id": "0BHepFfLxPXp"
      }
    },
    {
      "cell_type": "code",
      "source": [
        "import numpy as np\n",
        "import pandas as pd\n",
        "from sklearn.cluster import KMeans\n",
        "\n",
        "\n",
        "np.random.seed(42)\n",
        "df = pd.read_csv('clusters.csv')\n",
        "\n",
        "kmeans = KMeans(n_clusters=3, max_iter=1000, random_state=42)\n",
        "kmeans.fit(df)\n",
        "\n",
        "print(kmeans.cluster_centers_)"
      ],
      "metadata": {
        "id": "fIBfv1LLxROH"
      },
      "execution_count": null,
      "outputs": []
    },
    {
      "cell_type": "markdown",
      "source": [
        "Ćwiczenie 60\n",
        "\n",
        "Opis: Wykorzystując klasę KMeans z pakietu scikit-learn dokonano podziału danych na trzy klastry. Dokonaj predykcji na podstawie zbudowanego modelu kmeans i przypisz numer klastra do każdej próbki w obiekcie df (nadaj nazwę kolumny 'y_kmeans')."
      ],
      "metadata": {
        "id": "nAJl9VBk57AK"
      }
    },
    {
      "cell_type": "code",
      "source": [
        "import numpy as np\n",
        "import pandas as pd\n",
        "from sklearn.cluster import KMeans\n",
        "\n",
        "\n",
        "np.random.seed(42)\n",
        "df = pd.read_csv('clusters.csv')\n",
        "\n",
        "kmeans = KMeans(n_clusters=3, max_iter=1000, random_state=42)\n",
        "kmeans.fit(df)\n",
        "df['y_kmeans'] = kmeans.predict(df)\n",
        "\n",
        "print(df[:10])"
      ],
      "metadata": {
        "id": "wmGSSnNF58aH"
      },
      "execution_count": null,
      "outputs": []
    },
    {
      "cell_type": "markdown",
      "source": [
        "Ćwiczenie 61\n",
        "\n",
        "Opis: Wykorzystując klasę KMeans (ustaw parametr random_state=42) z pakietu scikit-learn wyznacz listę wartości WCSS (Within-Cluster Sum-of-Squared) dla liczby klastrów od 2 do 9 włącznie. Wartości WCSS zaokrąglij do drugiego miejsca po przecinku."
      ],
      "metadata": {
        "id": "nazgn_DN5801"
      }
    },
    {
      "cell_type": "code",
      "source": [
        "import numpy as np\n",
        "import pandas as pd\n",
        "from sklearn.cluster import KMeans\n",
        "\n",
        "\n",
        "np.random.seed(42)\n",
        "df = pd.read_csv('clusters.csv')\n",
        "\n",
        "wcss = []\n",
        "for i in range(2, 10):\n",
        "    kmeans = KMeans(n_clusters=i, random_state=42)\n",
        "    kmeans.fit(df)\n",
        "    wcss.append(round(kmeans.inertia_, 2))\n",
        "print(wcss)"
      ],
      "metadata": {
        "id": "Ric4Da0p59kr"
      },
      "execution_count": null,
      "outputs": []
    },
    {
      "cell_type": "markdown",
      "source": [
        "Ćwiczenie 62"
      ],
      "metadata": {
        "id": "3g3Yi-yF596b"
      }
    },
    {
      "cell_type": "code",
      "source": [
        "import numpy as np\n",
        "import pandas as pd\n",
        "from sklearn.cluster import KMeans\n",
        "\n",
        "\n",
        "np.random.seed(42)\n",
        "df = pd.read_csv('clusters.csv')\n",
        "\n",
        "wcss = []\n",
        "for i in range(2, 10):\n",
        "    kmeans = KMeans(n_clusters=i, random_state=42)\n",
        "    kmeans.fit(df)\n",
        "    wcss.append(round(kmeans.inertia_, 2))\n",
        "print(3)"
      ],
      "metadata": {
        "id": "dmnwFrlJ6AdG"
      },
      "execution_count": null,
      "outputs": []
    },
    {
      "cell_type": "markdown",
      "source": [
        "Ćwiczenie 63\n",
        "\n",
        "Opis: Wykorzystując klasę AgglomerativeClustering z pakietu scikit-learn dokonaj podziału danych na dwa klastry. Dokonaj predykcji na podstawie zbudowanego modelu i przypisz numer klastra do każdej próbki w obiekcie df (nadaj nazwę kolumny cluster). Wyświetl dziesięć pierwszych wierszy obiektu df."
      ],
      "metadata": {
        "id": "66hX2STS6A0K"
      }
    },
    {
      "cell_type": "code",
      "source": [
        "import numpy as np\n",
        "import pandas as pd\n",
        "from sklearn.cluster import AgglomerativeClustering\n",
        "\n",
        "\n",
        "df = pd.read_csv('clusters.csv')\n",
        "cluster = AgglomerativeClustering(n_clusters=2)\n",
        "cluster.fit_predict(df)\n",
        "\n",
        "df = pd.DataFrame(df, columns=['x1', 'x2'])\n",
        "df['cluster'] = cluster.labels_\n",
        "\n",
        "print(df.head(10))"
      ],
      "metadata": {
        "id": "94QxpNjo6CHd"
      },
      "execution_count": null,
      "outputs": []
    },
    {
      "cell_type": "markdown",
      "source": [
        "Ćwiczenie 64\n",
        "\n",
        "Opis: Wykorzystując klasę AgglomerativeClustering z pakietu scikit-learn dokonaj podziału danych na dwa klastry (wykorzystaj metrykę Manhattan). Dokonaj predykcji na podstawie zbudowanego modelu i przypisz numer klastra do każdej próbki w obiekcie df (nadaj nazwę kolumny cluster). Wyświetl dziesięć pierwszych wierszy obiektu df."
      ],
      "metadata": {
        "id": "T3ZBnpPd6CXY"
      }
    },
    {
      "cell_type": "code",
      "source": [
        "import numpy as np\n",
        "import pandas as pd\n",
        "from sklearn.cluster import AgglomerativeClustering\n",
        "\n",
        "df = pd.read_csv('clusters.csv')\n",
        "\n",
        "cluster = AgglomerativeClustering(\n",
        "    n_clusters=2, affinity='manhattan', linkage='complete'\n",
        ")\n",
        "cluster.fit_predict(df)\n",
        "\n",
        "df = pd.DataFrame(df, columns=['x1', 'x2'])\n",
        "df['cluster'] = cluster.labels_\n",
        "\n",
        "print(df.head(10))"
      ],
      "metadata": {
        "id": "ZrFJg51o6DlD"
      },
      "execution_count": null,
      "outputs": []
    },
    {
      "cell_type": "markdown",
      "source": [
        "Ćwiczenie 65\n",
        "\n",
        "Opis: Wykorzystując klasę DBSCAN z pakietu scikit-learn dokonaj podziału danych na klastry. Ustaw odpowiednio argumenty: `eps=0.6`, `min_samples=7`. Dokonaj predykcji na podstawie tak zbudowanego modelu i przypisz numer klastra do każdej próbki w obiekcie df (nadaj nazwę kolumny cluster). Wyświetl dziesięć pierwszych wierszy obiektu df."
      ],
      "metadata": {
        "id": "O5MjeGxu-Slc"
      }
    },
    {
      "cell_type": "code",
      "source": [
        "import numpy as np\n",
        "import pandas as pd\n",
        "from sklearn.cluster import DBSCAN\n",
        "\n",
        "df = pd.read_csv('clusters.csv')\n",
        "\n",
        "cluster = DBSCAN(eps=0.6, min_samples=7)\n",
        "cluster.fit_predict(df)\n",
        "\n",
        "df = pd.DataFrame(df, columns=['x1', 'x2'])\n",
        "df['cluster'] = cluster.labels_\n",
        "\n",
        "print(df.head(10))"
      ],
      "metadata": {
        "id": "UtZIQ1NY-iDo"
      },
      "execution_count": null,
      "outputs": []
    },
    {
      "cell_type": "markdown",
      "source": [
        "Ćwiczenie 66\n",
        "\n",
        "Opis: Wykorzystując klasę DBSCAN z pakietu scikit-learn dokonaj podziału danych na klastry. Ustaw odpowiednio argumenty: `eps=0.6`, `min_samples=7`. Dokonaj predykcji na podstawie tak zbudowanego modelu i przypisz numer klastra do każdej próbki w obiekcie df (nadaj nazwę kolumny cluster). Wyświetl rozkład częstości próbek w każdym klastrze."
      ],
      "metadata": {
        "id": "glpzQYPD6D2W"
      }
    },
    {
      "cell_type": "code",
      "source": [
        "import numpy as np\n",
        "import pandas as pd\n",
        "from sklearn.cluster import DBSCAN\n",
        "\n",
        "df = pd.read_csv('clusters.csv')\n",
        "\n",
        "cluster = DBSCAN(eps=0.6, min_samples=7)\n",
        "cluster.fit_predict(df)\n",
        "\n",
        "df = pd.DataFrame(df, columns=['x1', 'x2'])\n",
        "df['cluster'] = cluster.labels_\n",
        "\n",
        "print(df.cluster.value_counts())"
      ],
      "metadata": {
        "id": "GceD4qw66Eyh"
      },
      "execution_count": null,
      "outputs": []
    },
    {
      "cell_type": "markdown",
      "source": [
        "Ćwiczenie 67\n",
        "\n",
        "Opis: Wczytaj plik pca.csv do obiektu DataFrame df. Plik zawiera trzy zmienne objaśniające var1, var2, var3 oraz zmienną docelową class. Następnie przypisz do zmiennej X kolumny: var1, var2, var3, zaś do zmiennej y kolumnę class.\n",
        "\n",
        "Wykorzystując klasę StandardScaler dokonaj standaryzacji zmiennych w obiekcie X. Wyświetl dziesięć pierwszych wierszy obiektu X."
      ],
      "metadata": {
        "id": "9RJ0buIw6FBI"
      }
    },
    {
      "cell_type": "code",
      "source": [
        "import numpy as np\n",
        "import pandas as pd\n",
        "from sklearn.preprocessing import StandardScaler\n",
        "\n",
        "\n",
        "np.random.seed(42)\n",
        "df = pd.read_csv('pca.csv')\n",
        "\n",
        "X = df.copy()\n",
        "y = X.pop('class')\n",
        "\n",
        "scaler = StandardScaler()\n",
        "X_std = scaler.fit_transform(X)\n",
        "print(X_std[:10])"
      ],
      "metadata": {
        "id": "7DxpxloA6GCG"
      },
      "execution_count": null,
      "outputs": []
    },
    {
      "cell_type": "markdown",
      "source": [
        "Ćwiczenie 68\n",
        "\n",
        "Opis: Wczytano plik pca.csv do obiektu DataFrame df. Wykorzystując klasę StandardScaler dokonano standaryzacji zmiennych podanych w pliku i przypisano do zmiennej X_std.\n",
        "Zaimplementuj algorytm PCA wykorzystując tablicę X_std. Wynik ogranicz do dwóch głównych komponentów PCA i przypisz do zmiennej X_pca. Wydrukuj dziesięć pierwszych wierszy obiektu X_pca.\n",
        "\n",
        "Pomocnicze kroki:\n",
        "\n",
        "- Standaryzacja danych.\n",
        "- Wyznaczenie macierzy kowariancji.\n",
        "- Wyznaczenie wektorów i odpowiadających im wartości własnych macierzy kowariancji.\n",
        "- Posortowanie wektorów własnych względem malejących wartości własnych.\n",
        "- Ustalenie liczby komponentów (w tym przypadku 2).\n",
        "- Wyznaczenie macierzy W z wybranych wektorów (kolumny jako wektory własne).\n",
        "- Przemnożenie X_std przez macierz W."
      ],
      "metadata": {
        "id": "_40T6He-6Hco"
      }
    },
    {
      "cell_type": "code",
      "source": [
        "import numpy as np\n",
        "import pandas as pd\n",
        "from sklearn.preprocessing import StandardScaler\n",
        "\n",
        "\n",
        "np.set_printoptions(\n",
        "    precision=8, suppress=True, edgeitems=5, linewidth=200\n",
        ")\n",
        "np.random.seed(42)\n",
        "df = pd.read_csv('pca.csv')\n",
        "\n",
        "X = df.copy()\n",
        "y = X.pop('class')\n",
        "\n",
        "scaler = StandardScaler()\n",
        "X_std = scaler.fit_transform(X)\n",
        "\n",
        "eig_vals, eig_vecs = np.linalg.eig(np.cov(X_std, rowvar=False))\n",
        "eig_pairs = [\n",
        "    (np.abs(eig_vals[i]), eig_vecs[:, i])\n",
        "    for i in range(len(eig_vals))\n",
        "]\n",
        "eig_pairs.sort(reverse=True)\n",
        "\n",
        "W = np.hstack(\n",
        "    (eig_pairs[0][1].reshape(3, 1), eig_pairs[1][1].reshape(3, 1))\n",
        ")\n",
        "X_pca = X_std.dot(W)\n",
        "print(X_pca[:10])"
      ],
      "metadata": {
        "id": "-tGwQV106I7l"
      },
      "execution_count": null,
      "outputs": []
    },
    {
      "cell_type": "markdown",
      "source": [
        "Ćwiczenie 69\n",
        "\n",
        "Opis: Wczytano plik pca.csv do obiektu DataFrame df. Wykorzystując klasę StandardScaler dokonano standaryzacji zmiennych podanych w pliku i przypisano do zmiennej X_std.\n",
        "\n",
        "Zaimplementowano algorytm PCA wykorzystując tablicę X_std i przypisano do zmiennej X_pca. Zbuduj obiekt DataFrame o nazwie df_pca wykorzystując tablicę X_pca oraz zmienną y tak jak pokazano poniżej."
      ],
      "metadata": {
        "id": "_AhA-yHX6JPF"
      }
    },
    {
      "cell_type": "code",
      "source": [
        "import numpy as np\n",
        "import pandas as pd\n",
        "from sklearn.preprocessing import StandardScaler\n",
        "\n",
        "\n",
        "np.set_printoptions(\n",
        "    precision=8, suppress=True, edgeitems=5, linewidth=200\n",
        ")\n",
        "np.random.seed(42)\n",
        "df = pd.read_csv('pca.csv')\n",
        "\n",
        "X = df.copy()\n",
        "y = X.pop('class')\n",
        "\n",
        "scaler = StandardScaler()\n",
        "X_std = scaler.fit_transform(X)\n",
        "\n",
        "eig_vals, eig_vecs = np.linalg.eig(np.cov(X_std, rowvar=False))\n",
        "eig_pairs = [\n",
        "    (np.abs(eig_vals[i]), eig_vecs[:, i])\n",
        "    for i in range(len(eig_vals))\n",
        "]\n",
        "eig_pairs.sort(reverse=True)\n",
        "\n",
        "W = np.hstack(\n",
        "    (eig_pairs[0][1].reshape(3, 1), eig_pairs[1][1].reshape(3, 1))\n",
        ")\n",
        "X_pca = X_std.dot(W)\n",
        "\n",
        "df_pca = pd.DataFrame(data=X_pca, columns=['pca_1', 'pca_2'])\n",
        "df_pca['class'] = df['class']\n",
        "df_pca['pca_2'] = -df_pca['pca_2']\n",
        "print(df_pca.head(10))\n"
      ],
      "metadata": {
        "id": "FkzeqO4F6KHg"
      },
      "execution_count": null,
      "outputs": []
    },
    {
      "cell_type": "markdown",
      "source": [
        "Ćwiczenie 70\n",
        "\n",
        "Opis: Wykorzystując klasę PCA z pakietu scikit-learn dokonaj analizy PCA z dwoma komponentami na obiekcie X_std i przypisz do zmiennej df_pca. Wydrukuj dziesięć pierwszych wierszy tego obiektu (dodaj także kolumnę class) tak jak pokazano poniżej."
      ],
      "metadata": {
        "id": "iY0owdc06Kha"
      }
    },
    {
      "cell_type": "code",
      "source": [
        "import numpy as np\n",
        "import pandas as pd\n",
        "from sklearn.preprocessing import StandardScaler\n",
        "from sklearn.decomposition import PCA\n",
        "\n",
        "\n",
        "np.set_printoptions(\n",
        "    precision=8, suppress=True, edgeitems=5, linewidth=200\n",
        ")\n",
        "np.random.seed(42)\n",
        "df = pd.read_csv('pca.csv')\n",
        "\n",
        "X = df.copy()\n",
        "y = X.pop('class')\n",
        "\n",
        "scaler = StandardScaler()\n",
        "X_std = scaler.fit_transform(X)\n",
        "\n",
        "pca = PCA(n_components=2)\n",
        "X_pca = pca.fit_transform(X_std)\n",
        "df_pca = pd.DataFrame(data=X_pca, columns=['pca_1', 'pca_2'])\n",
        "df_pca['class'] = df['class']\n",
        "print(df_pca.head(10))"
      ],
      "metadata": {
        "id": "aTgkBZ1u6M18"
      },
      "execution_count": null,
      "outputs": []
    },
    {
      "cell_type": "markdown",
      "source": [
        "Ćwiczenie 71\n",
        "\n",
        "Opis: Wczytaj plik pca.csv do obiektu DataFrame df. Plik zawiera zmienne var_1, ..., var_10. Dokonaj analizy PCA z trzema komponentami wykorzystując pakiet scikit-learn oraz klasę PCA. W odpowiedzi wydrukuj procent wyjaśnionej wariancji przez te komponenty tak jak pokazano poniżej."
      ],
      "metadata": {
        "id": "TSbinRyq_VEE"
      }
    },
    {
      "cell_type": "code",
      "source": [
        "import numpy as np\n",
        "import pandas as pd\n",
        "\n",
        "from sklearn.preprocessing import StandardScaler\n",
        "from sklearn.decomposition import PCA\n",
        "\n",
        "\n",
        "df = pd.read_csv('pca.csv')\n",
        "data = df.values\n",
        "\n",
        "scaler = StandardScaler()\n",
        "data_std = scaler.fit_transform(data)\n",
        "\n",
        "pca = PCA(n_components=3)\n",
        "data_pca = pca.fit_transform(data_std)\n",
        "\n",
        "results = pd.DataFrame(\n",
        "    data={'explained_variance_ratio': pca.explained_variance_ratio_}\n",
        ")\n",
        "results['cumulative'] = results['explained_variance_ratio'].cumsum()\n",
        "results['component'] = results.index + 1\n",
        "print(results)"
      ],
      "metadata": {
        "id": "Sr6I-mxs_a7H"
      },
      "execution_count": null,
      "outputs": []
    },
    {
      "cell_type": "markdown",
      "source": [
        "Ćwiczenie 72\n",
        "\n",
        "Opis: Dokonaj analizy PCA wykorzystując pakiet scikit-learn. Zachowaj liczbę komponentów pozwalającą wyjaśnić 95% wariancji podanych danych. W odpowiedzi podaj liczbę komponentów uzyskanych w analizie."
      ],
      "metadata": {
        "id": "5aEwIfqy_dma"
      }
    },
    {
      "cell_type": "code",
      "source": [
        "import numpy as np\n",
        "import pandas as pd\n",
        "\n",
        "from sklearn.preprocessing import StandardScaler\n",
        "from sklearn.decomposition import PCA\n",
        "\n",
        "\n",
        "df = pd.read_csv('pca.csv')\n",
        "data = df.values\n",
        "\n",
        "scaler = StandardScaler()\n",
        "data_std = scaler.fit_transform(data)\n",
        "\n",
        "pca = PCA(n_components=0.95)\n",
        "data_pca = pca.fit_transform(data_std)\n",
        "\n",
        "print(f'Liczba komponentów: {pca.n_components_}')"
      ],
      "metadata": {
        "id": "mrJ3ktZW_hHD"
      },
      "execution_count": null,
      "outputs": []
    },
    {
      "cell_type": "markdown",
      "source": [
        "Ćwiczenie 73\n",
        "\n",
        "Opis: Każdy wiersz zawiera produkty zakupione przez jednego klienta. Podziel każdy wiersz kolumny products względem znaku spacji i rozszerz do obiektu DataFrame. Obiekt docelowo będzie posiadał 4 kolumny (maksymalna liczba produktów w jednej transakcji). W brakujące miejsca wpisz wartość None, tak jak pokazano poniżej i przypisz do zmiennej expanded."
      ],
      "metadata": {
        "id": "EQWXh8_2_isr"
      }
    },
    {
      "cell_type": "code",
      "source": [
        "import numpy as np\n",
        "import pandas as pd\n",
        "\n",
        "\n",
        "data = {\n",
        "    'products': [\n",
        "        'bread eggs',\n",
        "        'bread eggs milk',\n",
        "        'milk cheese',\n",
        "        'bread butter cheese',\n",
        "        'eggs milk',\n",
        "        'bread milk butter cheese',\n",
        "    ]\n",
        "}\n",
        "\n",
        "transactions = pd.DataFrame(data=data, index=range(1, 7))\n",
        "expanded = transactions['products'].str.split(expand=True)\n",
        "print(expanded)"
      ],
      "metadata": {
        "id": "IZmk6-wg_mfk",
        "colab": {
          "base_uri": "https://localhost:8080/"
        },
        "outputId": "40f7617e-3ecf-4eff-a16f-cf868f47e3c6"
      },
      "execution_count": null,
      "outputs": [
        {
          "output_type": "stream",
          "name": "stdout",
          "text": [
            "       0       1       2       3\n",
            "1  bread    eggs    None    None\n",
            "2  bread    eggs    milk    None\n",
            "3   milk  cheese    None    None\n",
            "4  bread  butter  cheese    None\n",
            "5   eggs    milk    None    None\n",
            "6  bread    milk  butter  cheese\n"
          ]
        }
      ]
    },
    {
      "cell_type": "markdown",
      "source": [
        "Ćwiczenie 74"
      ],
      "metadata": {
        "id": "MVFLBa4P_qaH"
      }
    },
    {
      "cell_type": "code",
      "source": [
        "import numpy as np\n",
        "import pandas as pd\n",
        "\n",
        "\n",
        "data = {\n",
        "    'products': [\n",
        "        'bread eggs',\n",
        "        'bread eggs milk',\n",
        "        'milk cheese',\n",
        "        'bread butter cheese',\n",
        "        'eggs milk',\n",
        "        'bread milk butter cheese',\n",
        "    ]\n",
        "}\n",
        "\n",
        "transactions = pd.DataFrame(data=data, index=range(1, 7))\n",
        "expanded = transactions['products'].str.split(expand=True)\n",
        "\n",
        "products = []\n",
        "for col in expanded.columns:\n",
        "    for product in expanded[col].unique():\n",
        "        if product is not None and product not in products:\n",
        "            products.append(product)\n",
        "\n",
        "products.sort()\n",
        "print(products)"
      ],
      "metadata": {
        "id": "WjnIfoO5_rlO",
        "colab": {
          "base_uri": "https://localhost:8080/"
        },
        "outputId": "bf4d50be-0b65-4c1d-b97f-250a87dd70c2"
      },
      "execution_count": null,
      "outputs": [
        {
          "output_type": "stream",
          "name": "stdout",
          "text": [
            "['bread', 'butter', 'cheese', 'eggs', 'milk']\n"
          ]
        }
      ]
    },
    {
      "cell_type": "markdown",
      "source": [
        "Ćwiczenie 75\n",
        "\n",
        "Opis: 73 + Dokonaj kodowania 0-1 transakcji tak jak pokazano poniżej i przypisz do zmiennej transactions_encoded_df. Zmienną (obiekt DataFrame) transactions_encoded_df wydrukuj do konsoli."
      ],
      "metadata": {
        "id": "hVkuLQAG_sAL"
      }
    },
    {
      "cell_type": "code",
      "source": [
        "import numpy as np\n",
        "import pandas as pd\n",
        "\n",
        "\n",
        "data = {\n",
        "    'products': [\n",
        "        'bread eggs',\n",
        "        'bread eggs milk',\n",
        "        'milk cheese',\n",
        "        'bread butter cheese',\n",
        "        'eggs milk',\n",
        "        'bread milk butter cheese',\n",
        "    ]\n",
        "}\n",
        "\n",
        "transactions = pd.DataFrame(data=data, index=range(1, 7))\n",
        "expanded = transactions['products'].str.split(expand=True)\n",
        "\n",
        "products = []\n",
        "for col in expanded.columns:\n",
        "    for product in expanded[col].unique():\n",
        "        if product is not None and product not in products:\n",
        "            products.append(product)\n",
        "products.sort()\n",
        "\n",
        "transactions_encoded = np.zeros(\n",
        "    (len(transactions), len(products)), dtype='int8'\n",
        ")\n",
        "\n",
        "for row in zip(\n",
        "    range(len(transactions)), transactions_encoded, expanded.values\n",
        "):\n",
        "    for idx, product in enumerate(products):\n",
        "        if product in row[2]:\n",
        "            transactions_encoded[row[0], idx] = 1\n",
        "\n",
        "transactions_encoded_df = pd.DataFrame(\n",
        "    transactions_encoded, columns=products\n",
        ")\n",
        "print(transactions_encoded_df)"
      ],
      "metadata": {
        "id": "Xdd7u0Ui_tmx",
        "colab": {
          "base_uri": "https://localhost:8080/"
        },
        "outputId": "85c4ee20-38fe-4d15-f51d-acc1fff16396"
      },
      "execution_count": null,
      "outputs": [
        {
          "output_type": "stream",
          "name": "stdout",
          "text": [
            "   bread  butter  cheese  eggs  milk\n",
            "0      1       0       0     1     0\n",
            "1      1       0       0     1     1\n",
            "2      0       0       1     0     1\n",
            "3      1       1       1     0     0\n",
            "4      0       0       0     1     1\n",
            "5      1       1       1     0     1\n"
          ]
        }
      ]
    },
    {
      "cell_type": "markdown",
      "source": [
        "Ćwiczenie 76\n",
        "\n",
        "Opis: 75 + Oblicz wsparcie (support) dla pojedynczych produktów i wydrukuj do konsoli tak jak pokazano poniżej.\n",
        "\n",
        "Wsparcie(produkt A) = Liczba transakcji zawierających produkt A / łączna liczba transakcji w bazie"
      ],
      "metadata": {
        "id": "CWrzCHWd_uEe"
      }
    },
    {
      "cell_type": "code",
      "source": [
        "import numpy as np\n",
        "import pandas as pd\n",
        "\n",
        "\n",
        "data = {\n",
        "    'products': [\n",
        "        'bread eggs',\n",
        "        'bread eggs milk',\n",
        "        'milk cheese',\n",
        "        'bread butter cheese',\n",
        "        'eggs milk',\n",
        "        'bread milk butter cheese',\n",
        "    ]\n",
        "}\n",
        "\n",
        "transactions = pd.DataFrame(data=data, index=range(1, 7))\n",
        "expanded = transactions['products'].str.split(expand=True)\n",
        "\n",
        "products = []\n",
        "for col in expanded.columns:\n",
        "    for product in expanded[col].unique():\n",
        "        if product is not None and product not in products:\n",
        "            products.append(product)\n",
        "products.sort()\n",
        "\n",
        "transactions_encoded = np.zeros(\n",
        "    (len(transactions), len(products)), dtype='int8'\n",
        ")\n",
        "\n",
        "for row in zip(\n",
        "    range(len(transactions)), transactions_encoded, expanded.values\n",
        "):\n",
        "    for idx, product in enumerate(products):\n",
        "        if product in row[2]:\n",
        "            transactions_encoded[row[0], idx] = 1\n",
        "transactions_encoded_df = pd.DataFrame(\n",
        "    transactions_encoded, columns=products\n",
        ")\n",
        "\n",
        "support = transactions_encoded_df.sum() / len(transactions_encoded_df)\n",
        "print(support)"
      ],
      "metadata": {
        "id": "XJ2-QecP_u9d",
        "colab": {
          "base_uri": "https://localhost:8080/"
        },
        "outputId": "435387e5-65e4-4c05-cb26-6566b4ca2f82"
      },
      "execution_count": null,
      "outputs": [
        {
          "output_type": "stream",
          "name": "stdout",
          "text": [
            "support(butter, bread) = 0.3333\n",
            "support(butter, milk) = 0.1667\n"
          ]
        }
      ]
    },
    {
      "cell_type": "markdown",
      "source": [
        "Ćwiczenie 77\n",
        "\n",
        "Opis: 75 + Oblicz wsparcie dla par: (butter, bread) oraz (butter, milk). Wynik wydrukuj do konsoli (zaokrąglij wsparcie do czterech miejsc po przecinku).\n",
        "\n",
        "Wsparcie(produkt A, produkt B) = Liczba transakcji zawierających produkt A i produkt B / łączna liczba transakcji w bazie"
      ],
      "metadata": {
        "id": "lPnmtp--_ve2"
      }
    },
    {
      "cell_type": "code",
      "source": [
        "import numpy as np\n",
        "import pandas as pd\n",
        "\n",
        "\n",
        "data = {\n",
        "    'products': [\n",
        "        'bread eggs',\n",
        "        'bread eggs milk',\n",
        "        'milk cheese',\n",
        "        'bread butter cheese',\n",
        "        'eggs milk',\n",
        "        'bread milk butter cheese',\n",
        "    ]\n",
        "}\n",
        "\n",
        "transactions = pd.DataFrame(data=data, index=range(1, 7))\n",
        "expanded = transactions['products'].str.split(expand=True)\n",
        "\n",
        "products = []\n",
        "for col in expanded.columns:\n",
        "    for product in expanded[col].unique():\n",
        "        if product is not None and product not in products:\n",
        "            products.append(product)\n",
        "products.sort()\n",
        "\n",
        "transactions_encoded = np.zeros(\n",
        "    (len(transactions), len(products)), dtype='int8'\n",
        ")\n",
        "\n",
        "for row in zip(\n",
        "    range(len(transactions)), transactions_encoded, expanded.values\n",
        "):\n",
        "    for idx, product in enumerate(products):\n",
        "        if product in row[2]:\n",
        "            transactions_encoded[row[0], idx] = 1\n",
        "transactions_encoded_df = pd.DataFrame(\n",
        "    transactions_encoded, columns=products\n",
        ")\n",
        "\n",
        "sup_butter_bread = len(\n",
        "    transactions_encoded_df.query(\"butter == 1 and bread == 1\")\n",
        ") / len(transactions_encoded_df)\n",
        "sup_butter_milk = len(\n",
        "    transactions_encoded_df.query(\"butter == 1 and milk == 1\")\n",
        ") / len(transactions_encoded_df)\n",
        "\n",
        "print(f'support(butter, bread) = {sup_butter_bread:.4f}')\n",
        "print(f'support(butter, milk) = {sup_butter_milk:.4f}')"
      ],
      "metadata": {
        "id": "DANscP2r_wm5",
        "colab": {
          "base_uri": "https://localhost:8080/"
        },
        "outputId": "92587c64-fa3c-4729-ff79-1a9ade2aff6c"
      },
      "execution_count": null,
      "outputs": [
        {
          "output_type": "stream",
          "name": "stdout",
          "text": [
            "support(butter, bread) = 0.3333\n",
            "support(butter, milk) = 0.1667\n"
          ]
        }
      ]
    },
    {
      "cell_type": "markdown",
      "source": [
        "Ćwiczenie 78\n",
        "\n",
        "Opis: Oblicz pewność reguł: *cheese -> bread* oraz *butter -> cheese*.\n",
        "\n",
        "Wynik wydrukuj do konsoli (zaokrąglij pewność do czterech miejsc po przecinku) tak jak pokazano poniżej.\n",
        "\n",
        "Przypomnienie: Pewność(produkt A -> produkt B) = Liczba transakcji zawierających produkt A i produkt B / Liczba transakcji zawierających produkt A"
      ],
      "metadata": {
        "id": "ossWZO_L_w_o"
      }
    },
    {
      "cell_type": "code",
      "source": [
        "import numpy as np\n",
        "import pandas as pd\n",
        "\n",
        "\n",
        "data = {\n",
        "    'products': [\n",
        "        'bread eggs',\n",
        "        'bread eggs milk',\n",
        "        'milk cheese',\n",
        "        'bread butter cheese',\n",
        "        'eggs milk',\n",
        "        'bread milk butter cheese',\n",
        "    ]\n",
        "}\n",
        "\n",
        "transactions = pd.DataFrame(data=data, index=range(1, 7))\n",
        "expanded = transactions['products'].str.split(expand=True)\n",
        "\n",
        "products = []\n",
        "for col in expanded.columns:\n",
        "    for product in expanded[col].unique():\n",
        "        if product is not None and product not in products:\n",
        "            products.append(product)\n",
        "\n",
        "products.sort()\n",
        "\n",
        "transactions_encoded = np.zeros(\n",
        "    (len(transactions), len(products)), dtype='int8'\n",
        ")\n",
        "\n",
        "for row in zip(\n",
        "    range(len(transactions)), transactions_encoded, expanded.values\n",
        "):\n",
        "    for idx, product in enumerate(products):\n",
        "        if product in row[2]:\n",
        "            transactions_encoded[row[0], idx] = 1\n",
        "\n",
        "transactions_encoded_df = pd.DataFrame(\n",
        "    transactions_encoded, columns=products\n",
        ")\n",
        "\n",
        "conf_cheese_bread = len(\n",
        "    transactions_encoded_df.query(\"cheese == 1 and bread == 1\")\n",
        ") / len(transactions_encoded_df.query(\"cheese== 1\"))\n",
        "conf_butter_cheese = len(\n",
        "    transactions_encoded_df.query(\"butter == 1 and cheese == 1\")\n",
        ") / len(transactions_encoded_df.query(\"butter== 1\"))\n",
        "\n",
        "print(f'conf(cheese, bread) = {conf_cheese_bread:.4f}')\n",
        "print(f'conf(butter, cheese) = {conf_butter_cheese:.4f}')"
      ],
      "metadata": {
        "id": "mZ4rVfsl_x68",
        "colab": {
          "base_uri": "https://localhost:8080/"
        },
        "outputId": "936c2fcc-7c76-41a2-f179-98e1381d2688"
      },
      "execution_count": null,
      "outputs": [
        {
          "output_type": "stream",
          "name": "stdout",
          "text": [
            "conf(cheese, bread) = 0.6667\n",
            "conf(butter, cheese) = 1.0000\n"
          ]
        }
      ]
    },
    {
      "cell_type": "markdown",
      "source": [
        "Ćwiczenie 79\n",
        "\n",
        "Opis: Wykorzystując klasę LocalOutlierFactor z pakietu scikit-learn dokonaj analizy elementów odstających w podanym zbiorze. Ustaw argument: `n_neighbors=20`\n",
        "\n",
        "Dla przypomnienia 1 oznacza normalny element, -1 element odstający. Przypisz nową kolumnę do obiektu df o nazwie 'lof', która będzie przechowywać informację czy dana próbka jest elementem normalnym czy odstającym. Wydrukuj dziesięć pierwszych wierszy obiektu df do konsoli."
      ],
      "metadata": {
        "id": "fT7x0Dh__yTf"
      }
    },
    {
      "cell_type": "code",
      "source": [
        "import numpy as np\n",
        "import pandas as pd\n",
        "from sklearn.neighbors import LocalOutlierFactor\n",
        "\n",
        "\n",
        "np.random.seed(42)\n",
        "df = pd.read_csv('blobs.csv')\n",
        "clf = LocalOutlierFactor(n_neighbors=20)\n",
        "df['lof'] = clf.fit_predict(df)\n",
        "print(df.head(10))\n",
        "\n",
        "####\n",
        "df = pd.read_csv('blobs.csv')\n",
        "data = df.values\n",
        "\n",
        "lof = LocalOutlierFactor(n_neighbors=20)\n",
        "y_pred = lof.fit_predict(data)\n",
        "\n",
        "df['lof'] = y_pred\n",
        "print(df.head(10))"
      ],
      "metadata": {
        "id": "HmbdLdmc_zMp"
      },
      "execution_count": null,
      "outputs": []
    },
    {
      "cell_type": "markdown",
      "source": [
        "Ćwiczenie 80\n",
        "\n",
        "Opis: 79 + Zbadaj liczbę elementów odstających w zbiorze, tzn. zbadaj rozkład kolumny lof. Wynik wydrukuj do konsoli."
      ],
      "metadata": {
        "id": "wWabKFo4_zmP"
      }
    },
    {
      "cell_type": "code",
      "source": [
        "import numpy as np\n",
        "import pandas as pd\n",
        "from sklearn.neighbors import LocalOutlierFactor\n",
        "\n",
        "\n",
        "np.random.seed(42)\n",
        "df = pd.read_csv('blobs.csv')\n",
        "data = df.values\n",
        "\n",
        "lof = LocalOutlierFactor(n_neighbors=30)\n",
        "y_pred = lof.fit_predict(data)\n",
        "\n",
        "df['lof'] = y_pred\n",
        "print(df['lof'].value_counts())"
      ],
      "metadata": {
        "id": "yR-RtMRB_1pY"
      },
      "execution_count": null,
      "outputs": []
    },
    {
      "cell_type": "markdown",
      "source": [
        "Ćwiczenie 81\n",
        "\n",
        "Opis: Wykorzystując klasę IsolationForest z pakietu scikit-learn dokonaj analizy elementów odstających na podanym zbiorze. Przekaż argumenty:\n",
        "\n",
        "`n_estimators=100`\n",
        "\n",
        "`contamination=0.05`\n",
        "\n",
        "`random_state=42`\n",
        "\n",
        "\n",
        "Dla przypomnienia 1 oznacza normalny element, -1 element odstający. Przypisz nową kolumnę do obiektu df o nazwie `'outlier_flag'`, która będzie przechowywać informację czy dana próbka jest elementem normalnym czy odstającym. Wydrukuj dziesięć pierwszych wierszy obiektu df do konsoli."
      ],
      "metadata": {
        "id": "FqvEEUoj_3jL"
      }
    },
    {
      "cell_type": "code",
      "source": [
        "import numpy as np\n",
        "import pandas as pd\n",
        "from sklearn.ensemble import IsolationForest\n",
        "\n",
        "\n",
        "np.random.seed(42)\n",
        "df = pd.read_csv('factory.csv')\n",
        "clf = IsolationForest(n_estimators=100, contamination=0.05, random_state=42).fit(df)\n",
        "df['outlier_flag'] = clf.predict(df)\n",
        "print(df.head(10))"
      ],
      "metadata": {
        "id": "-q2RmTr8_4Rf"
      },
      "execution_count": null,
      "outputs": []
    },
    {
      "cell_type": "markdown",
      "source": [
        "Ćwiczenie 82\n",
        "\n",
        "Opis: 81 + Zbadaj liczbę elementów odstających w zbiorze, tzn. zbadaj rozkład kolumny outlier_flag. Wynik wydrukuj do konsoli."
      ],
      "metadata": {
        "id": "AJOU6dHi_4ra"
      }
    },
    {
      "cell_type": "code",
      "source": [
        "import numpy as np\n",
        "import pandas as pd\n",
        "from sklearn.ensemble import IsolationForest\n",
        "\n",
        "\n",
        "np.random.seed(42)\n",
        "df = pd.read_csv('factory.csv')\n",
        "\n",
        "outlier = IsolationForest(\n",
        "    n_estimators=100, contamination=0.05, random_state=42\n",
        ")\n",
        "outlier.fit(df)\n",
        "df['outlier_flag'] = outlier.predict(df)\n",
        "print(df['outlier_flag'].value_counts())"
      ],
      "metadata": {
        "id": "ECL5VX6q_5bF"
      },
      "execution_count": null,
      "outputs": []
    },
    {
      "cell_type": "markdown",
      "source": [
        "Ćwiczenie 83\n",
        "\n",
        "Opis: Wykorzystując funkcję load_digits() z pakietu scikit-learn załaduj dane dotyczące obrazów o rozdzielczości 8x8 pikseli do zmiennych:\n",
        "\n",
        "data - obrazy zapisane w postaci tablic numpy kształtu (64,)\n",
        "\n",
        "target - etykiety, cyfry widoczne na obrazach\n",
        "\n",
        "Zapoznaj się dokładnie z podanym zbiorem. Spróbuj wyświetlić kilka przykładowych obrazów. W celu wyświetlenia obrazu można użyć pakietu matplotlib. Zmieniając wartość zmiennej idx wyświetl kilka obrazów. W odpowiedzi wydrukuj etykietę dla obrazu z indeksem 250."
      ],
      "metadata": {
        "id": "8U_eb5Uj_5v4"
      }
    },
    {
      "cell_type": "code",
      "source": [
        "import numpy as np\n",
        "import pandas as pd\n",
        "# import matplotlib.pyplot as plt\n",
        "\n",
        "from sklearn.datasets import load_digits\n",
        "from sklearn.neighbors import KNeighborsClassifier\n",
        "from sklearn.model_selection import train_test_split\n",
        "\n",
        "\n",
        "np.random.seed(42)\n",
        "data, target = load_digits(return_X_y=True)\n",
        "\n",
        "# idx = 250\n",
        "# plt.imshow(data[idx].reshape(8, 8), cmap='gray_r')\n",
        "# plt.title(f'Label: {target[idx]}')\n",
        "# plt.show()\n",
        "\n",
        "print(target[250])"
      ],
      "metadata": {
        "id": "SPzBGRmS_6Ud"
      },
      "execution_count": null,
      "outputs": []
    },
    {
      "cell_type": "markdown",
      "source": [
        "Ćwiczenie 84\n",
        "\n",
        "Opis: Wykorzystując funkcję load_digits() z pakietu scikit-learn załadowano dane dotyczące obrazów o rozdzielczości 8x8 pikseli do zmiennych:\n",
        "\n",
        "data - obrazy zapisane w postaci tablicy numpy o kształcie (1797, 64)\n",
        "\n",
        "target - etykiety, cyfry widoczne na obrazach w postaci tablicy numpy o kształcie (1797,)\n",
        "\n",
        "\n",
        "\n",
        "Dokonaj standaryzacji zmiennej data. Używając funkcji `train_test_split()` (ustaw argument `random_state=42`) podziel dane na zbiór treningowy i testowy:\n",
        "\n",
        "`X_train, y_train`\n",
        "\n",
        "`X_test, y_test`\n",
        "\n",
        "W odpowiedzi wyświetl kształty otrzymanych tablic tak jak pokazano poniżej."
      ],
      "metadata": {
        "id": "5dH0-tgN_6oQ"
      }
    },
    {
      "cell_type": "code",
      "source": [
        "import numpy as np\n",
        "import pandas as pd\n",
        "\n",
        "from sklearn.datasets import load_digits\n",
        "from sklearn.model_selection import train_test_split\n",
        "\n",
        "\n",
        "np.random.seed(42)\n",
        "data, target = load_digits(return_X_y=True)\n",
        "data = data / data.max()\n",
        "\n",
        "X_train, X_test, y_train, y_test = train_test_split(\n",
        "    data, target, random_state=42\n",
        ")\n",
        "\n",
        "print(f'X_train shape: {X_train.shape}')\n",
        "print(f'y_train shape: {y_train.shape}')\n",
        "print(f'X_test shape: {X_test.shape}')\n",
        "print(f'y_test shape: {y_test.shape}')"
      ],
      "metadata": {
        "id": "6pwKgMFB_8BB"
      },
      "execution_count": null,
      "outputs": []
    },
    {
      "cell_type": "markdown",
      "source": [
        "Ćwiczenie 85\n",
        "\n",
        "Opis: 84 + Wykorzystując klasę KNeighborsClassifier z pakietu scikit-learn zbuduj model klasyfikacji wieloklasowej. Wyucz model na danych treningowych i następnie dokonaj oceny na danych testowych. Dokładność modelu wyświetl do konsoli tak jak pokazano poniżej."
      ],
      "metadata": {
        "id": "5hpGJLVL_8Vw"
      }
    },
    {
      "cell_type": "code",
      "source": [
        "import numpy as np\n",
        "import pandas as pd\n",
        "\n",
        "from sklearn.datasets import load_digits\n",
        "from sklearn.model_selection import train_test_split\n",
        "from sklearn.neighbors import KNeighborsClassifier\n",
        "\n",
        "\n",
        "np.random.seed(42)\n",
        "data, target = load_digits(return_X_y=True)\n",
        "data = data / data.max()\n",
        "\n",
        "X_train, X_test, y_train, y_test = train_test_split(\n",
        "    data, target, random_state=42\n",
        ")\n",
        "\n",
        "knn = KNeighborsClassifier()\n",
        "knn.fit(X_train, y_train)\n",
        "acc = knn.score(X_test, y_test)\n",
        "print(f'KNN accuracy: {acc:.4f}')"
      ],
      "metadata": {
        "id": "MbETU6lQ_9vE"
      },
      "execution_count": null,
      "outputs": []
    },
    {
      "cell_type": "markdown",
      "source": [
        "Ćwiczenie 86\n",
        "\n",
        "Opis: 84 + Wykorzystując klasę LogisticRegression z pakietu scikit-learn zbuduj model klasyfikacji. Ustaw maksymalną liczbę iteracji w modelu na 100 - parametr max_iter. Wyucz model na danych treningowych i następnie dokonaj oceny na danych testowych. Dokładność modelu wyświetl do konsoli tak jak pokazano poniżej."
      ],
      "metadata": {
        "id": "1LVGHkSN_-C_"
      }
    },
    {
      "cell_type": "code",
      "source": [
        "import numpy as np\n",
        "import pandas as pd\n",
        "\n",
        "from sklearn.datasets import load_digits\n",
        "from sklearn.model_selection import train_test_split\n",
        "from sklearn.linear_model import LogisticRegression\n",
        "\n",
        "\n",
        "np.random.seed(42)\n",
        "data, target = load_digits(return_X_y=True)\n",
        "data = data / data.max()\n",
        "\n",
        "X_train, X_test, y_train, y_test = train_test_split(\n",
        "    data, target, random_state=42\n",
        ")\n",
        "\n",
        "clf = LogisticRegression(max_iter=100)\n",
        "clf.fit(X_train, y_train)\n",
        "acc = clf.score(X_test, y_test)\n",
        "print(f'Logistic Regression accuracy: {acc:.4f}')"
      ],
      "metadata": {
        "id": "uDdBaSQy__pK"
      },
      "execution_count": null,
      "outputs": []
    },
    {
      "cell_type": "markdown",
      "source": [
        "Ćwiczenie 87\n",
        "\n",
        "Opis: Plik data_train.csv zawiera maile dotyczące dwóch kategorii: grafiki komputerowej (comp.graphics) oraz przestrzeni kosmicznej (sci.space). Plik target_train.csv zawiera odpowiednio etykiety (0 - comp.graphics, 1 - sci.space). Wczytaj zawartość plików jako obiekty DataFrame odpowiednio o nazwach:\n",
        "`data_train`, `target_train`. Zapoznaj się z danymi. W odpowiedzi wydrukuj zawartość drugiego elementu obiektu data_train."
      ],
      "metadata": {
        "id": "TrE6OnLdAAr5"
      }
    },
    {
      "cell_type": "code",
      "source": [
        "import numpy as np\n",
        "import pandas as pd\n",
        "\n",
        "data_train = pd.read_csv('data_train.csv')\n",
        "target_train = pd.read_csv('target_train.csv')\n",
        "\n",
        "print(data_train['text'][1])"
      ],
      "metadata": {
        "id": "waTis8t6AFyI"
      },
      "execution_count": null,
      "outputs": []
    },
    {
      "cell_type": "markdown",
      "source": [
        "Ćwiczenie 88\n",
        "\n",
        "Opis: 87 + Przekształć obiekt data_train do postaci listy. Przypisz zmiany na trwałe do zmiennej data_train. W odpowiedzi wydrukuj długość listy data_train do konsoli."
      ],
      "metadata": {
        "id": "4FW81a4eADHu"
      }
    },
    {
      "cell_type": "code",
      "source": [
        "import numpy as np\n",
        "import pandas as pd\n",
        "\n",
        "\n",
        "data_train = pd.read_csv('data_train.csv')\n",
        "target_train = pd.read_csv('target_train.csv')\n",
        "\n",
        "data_train = data_train['text'].tolist()\n",
        "print(len(data_train))"
      ],
      "metadata": {
        "id": "zLbZkckzAEVz"
      },
      "execution_count": null,
      "outputs": []
    },
    {
      "cell_type": "markdown",
      "source": [
        "Ćwiczenie 89\n",
        "\n",
        "Opis: 87 + Dokonano pewnego przekształcenia zmiennych data_train oraz target_trian. Wykorzystując klasę CountVectorizer z pakietu scikit-learn dokonaj wektoryzacji tekstu znajdującego się w liście data_train i przypisz do zmiennej data_train_vectorized. W odpowiedzi wydrukuj do konsoli kształt otrzymanej w ten sposób macierzy rzadkiej (sparse matrix)."
      ],
      "metadata": {
        "id": "DF23_OQiAGcg"
      }
    },
    {
      "cell_type": "code",
      "source": [
        "import numpy as np\n",
        "import pandas as pd\n",
        "\n",
        "from sklearn.feature_extraction.text import CountVectorizer\n",
        "\n",
        "\n",
        "data_train = pd.read_csv('data_train.csv')\n",
        "target_train = pd.read_csv('target_train.csv')\n",
        "\n",
        "data_train = data_train['text'].tolist()\n",
        "target_train = target_train.values.ravel()\n",
        "\n",
        "vectorizer = CountVectorizer()\n",
        "data_train_vectorized = vectorizer.fit_transform(data_train)\n",
        "print(data_train_vectorized.shape)"
      ],
      "metadata": {
        "id": "wwn9OeLLAHaL"
      },
      "execution_count": null,
      "outputs": []
    },
    {
      "cell_type": "markdown",
      "source": [
        "Ćwiczenie 90\n",
        "\n",
        "Opis: Wykorzystując klasę MultinomialNB zbuduj model klasyfikacji dokumentów tekstowych. Model wytrenuj w oparciu o dane data_train_vectorized oraz target_train.\n",
        "Następnie dokonaj klasyfikacji poniższych zdań:\n",
        "\n",
        "`'The graphic designer requires a good processor to work.'`\n",
        "\n",
        "`'Flights into space.'`\n",
        "\n",
        "Wynik wydrukuj do konsoli tak jak pokazano poniżej."
      ],
      "metadata": {
        "id": "koHhwIG0AISR"
      }
    },
    {
      "cell_type": "code",
      "source": [
        "import numpy as np\n",
        "import pandas as pd\n",
        "\n",
        "from sklearn.feature_extraction.text import CountVectorizer\n",
        "from sklearn.naive_bayes import MultinomialNB\n",
        "\n",
        "\n",
        "data_train = pd.read_csv('data_train.csv')\n",
        "target_train = pd.read_csv('target_train.csv')\n",
        "\n",
        "categories = ['comp.graphics', 'sci.space']\n",
        "\n",
        "data_train = data_train['text'].tolist()\n",
        "target_train = target_train.values.ravel()\n",
        "\n",
        "vectorizer = CountVectorizer()\n",
        "data_train_vectorized = vectorizer.fit_transform(data_train)\n",
        "\n",
        "classifier = MultinomialNB()\n",
        "classifier.fit(data_train_vectorized, target_train)\n",
        "\n",
        "docs = [\n",
        "    'The graphic designer requires a good processor to work',\n",
        "    'Flights into space',\n",
        "]\n",
        "data_new = vectorizer.transform(docs)\n",
        "\n",
        "data_pred = classifier.predict(data_new)\n",
        "\n",
        "for doc, category in zip(docs, data_pred):\n",
        "    print(f'\\'{doc}\\' => {categories[category]}')"
      ],
      "metadata": {
        "id": "dVZgz1LrAKY5"
      },
      "execution_count": null,
      "outputs": []
    },
    {
      "cell_type": "markdown",
      "source": [
        "Ćwiczenie 91\n",
        "\n",
        "Opis: Dokonano pewnego przekształcenia zmiennych data_train oraz target_train. Wykorzystując klasę TfidfVectorizer z pakietu scikit-learn dokonaj wektoryzacji tekstu znajdującego się w liście data_train i przypisz do zmiennej data_train_vectorized.\n",
        "W odpowiedzi wydrukuj do konsoli kształt otrzymanej w ten sposób macierzy rzadkiej (sparse matrix)."
      ],
      "metadata": {
        "id": "4NF-r1vJ9zQ4"
      }
    },
    {
      "cell_type": "code",
      "source": [
        "import numpy as np\n",
        "import pandas as pd\n",
        "\n",
        "from sklearn.feature_extraction.text import TfidfVectorizer\n",
        "\n",
        "\n",
        "data_train = pd.read_csv('data_train.csv')\n",
        "target_train = pd.read_csv('target_train.csv')\n",
        "\n",
        "categories = ['comp.graphics', 'sci.space']\n",
        "\n",
        "data_train = data_train['text'].tolist()\n",
        "target_train = target_train.values.ravel()\n",
        "\n",
        "vectorizer = TfidfVectorizer()\n",
        "data_train_vectorized = vectorizer.fit_transform(data_train)\n",
        "print(data_train_vectorized.shape)"
      ],
      "metadata": {
        "id": "et_DTVAB90WE"
      },
      "execution_count": null,
      "outputs": []
    },
    {
      "cell_type": "markdown",
      "source": [
        "Ćwiczenie 92\n",
        "\n",
        "Opis: Dokonano pewnego przekształcenia zmiennych data_train oraz target_train. Wykorzystano klasę TfidfVectorizer z pakietu scikit-learn do wektoryzacji tekstu i przypisano do zmiennej data_train_vectorized.\n",
        "\n",
        "Wykorzystując klasę MultinomialNB zbuduj model klasyfikacji dokumentów tekstowych. Model wytrenuj w oparciu o dane data_train_vectorized oraz target_train.\n",
        "\n",
        "Następnie dokonaj klasyfikacji poniższych zdań:\n",
        "\n",
        "`'The graphic designer requires a good processor to work.'`\n",
        "\n",
        "`'Flights into space.'`\n",
        "\n",
        "Wynik wydrukuj do konsoli tak jak pokazano poniżej."
      ],
      "metadata": {
        "id": "TYn32sNy90tM"
      }
    },
    {
      "cell_type": "code",
      "source": [
        "import numpy as np\n",
        "import pandas as pd\n",
        "\n",
        "from sklearn.feature_extraction.text import TfidfVectorizer\n",
        "from sklearn.naive_bayes import MultinomialNB\n",
        "\n",
        "\n",
        "data_train = pd.read_csv('data_train.csv')\n",
        "target_train = pd.read_csv('target_train.csv')\n",
        "\n",
        "categories = ['comp.graphics', 'sci.space']\n",
        "\n",
        "data_train = data_train['text'].tolist()\n",
        "target_train = target_train.values.ravel()\n",
        "\n",
        "vectorizer = TfidfVectorizer()\n",
        "data_train_vectorized = vectorizer.fit_transform(data_train)\n",
        "\n",
        "classifier = MultinomialNB()\n",
        "classifier.fit(data_train_vectorized, target_train)\n",
        "\n",
        "docs = [\n",
        "    'The graphic designer requires a good processor to work',\n",
        "    'Flights into space',\n",
        "]\n",
        "data_new = vectorizer.transform(docs)\n",
        "\n",
        "data_pred = classifier.predict(data_new)\n",
        "\n",
        "for doc, category in zip(docs, data_pred):\n",
        "    print(f'\\'{doc}\\' => {categories[category]}')"
      ],
      "metadata": {
        "id": "VyAzZ8Z496h-"
      },
      "execution_count": null,
      "outputs": []
    },
    {
      "cell_type": "markdown",
      "source": [
        "Ćwiczenie 93\n",
        "\n",
        "Opis: Ustaw opcje pakietu pandas pozwalające na wyświetlenie 15 kolumn obiektu DataFrame oraz wyświetlenie długości linii składającej się ze 150 znaków.\n",
        "\n",
        "Następnie wykorzystując funkcję `load_boston()` z pakietu scikit-learn załaduj dane do zmiennej raw_data. W oparciu o klucze `'data'` oraz `'target'` zmiennej raw_data przygotuj obiekt DataFrame."
      ],
      "metadata": {
        "id": "HdDSzK8t97YC"
      }
    },
    {
      "cell_type": "code",
      "source": [
        "import numpy as np\n",
        "import pandas as pd\n",
        "\n",
        "from sklearn.datasets import load_boston\n",
        "\n",
        "\n",
        "pd.set_option('display.max_columns', 15)\n",
        "pd.set_option('display.width', 150)\n",
        "raw_data = load_boston()\n",
        "\n",
        "df = pd.DataFrame(\n",
        "    data=np.c_[raw_data.data, raw_data.target],\n",
        "    columns=list(raw_data.feature_names) + ['target'],\n",
        ")\n",
        "print(df.head())"
      ],
      "metadata": {
        "id": "exEjbZZd98Yr"
      },
      "execution_count": null,
      "outputs": []
    },
    {
      "cell_type": "markdown",
      "source": [
        "Ćwiczenie 94\n",
        "\n",
        "Opis: 93 + Wyświetl korelację zmiennych ze zmienną docelową target (w kolejności malejącej). Wynik wydrukuj do konsoli tak jak pokazano poniżej."
      ],
      "metadata": {
        "id": "A6Bgy8yp98v6"
      }
    },
    {
      "cell_type": "code",
      "source": [
        "import numpy as np\n",
        "import pandas as pd\n",
        "\n",
        "from sklearn.datasets import load_boston\n",
        "\n",
        "\n",
        "pd.set_option('display.max_columns', 15)\n",
        "pd.set_option('display.width', 150)\n",
        "raw_data = load_boston()\n",
        "\n",
        "df = pd.DataFrame(\n",
        "    data=np.c_[raw_data.data, raw_data.target],\n",
        "    columns=list(raw_data.feature_names) + ['target'],\n",
        ")\n",
        "print(df.corr()['target'].sort_values(ascending=False)[1:])"
      ],
      "metadata": {
        "id": "WyIXyD-l9-sm"
      },
      "execution_count": null,
      "outputs": []
    },
    {
      "cell_type": "markdown",
      "source": [
        "Ćwiczenie 95\n",
        "\n",
        "Opis: Skopiuj obiekt df do zmiennej data. Następnie wyrwij kolumnę target ze zmiennej data i przypisz do zmiennej target. Wyświetl pięć pierwszych wierszy obiektu data, następnie wydrukuj pustą linię i kolejno pięć pierwszych wierszy obiektu target tak jak pokazano poniżej."
      ],
      "metadata": {
        "id": "pfYH06dF9_LN"
      }
    },
    {
      "cell_type": "code",
      "source": [
        "import numpy as np\n",
        "import pandas as pd\n",
        "\n",
        "from sklearn.datasets import load_boston\n",
        "\n",
        "\n",
        "pd.set_option('display.max_columns', 15)\n",
        "pd.set_option('display.width', 150)\n",
        "raw_data = load_boston()\n",
        "\n",
        "df = pd.DataFrame(\n",
        "    data=np.c_[raw_data.data, raw_data.target],\n",
        "    columns=list(raw_data.feature_names) + ['target'],\n",
        ")\n",
        "\n",
        "data = df.copy()\n",
        "target = data.pop('target')\n",
        "\n",
        "print(data.head())\n",
        "print()\n",
        "print(target.head())"
      ],
      "metadata": {
        "id": "e8n7WMVt-At4"
      },
      "execution_count": null,
      "outputs": []
    },
    {
      "cell_type": "markdown",
      "source": [
        "Ćwiczenie 96\n",
        "\n",
        "Opis: Skopiowano obiekt df do zmiennej data. Następnie wyrwano kolumnę target ze zmiennej data i przypisano do zmiennej target.\n",
        "\n",
        "Wykorzystując funkcję train_test_split() podziel dane (data, target) na zbiór treningowy i testowy (użyj argumentu random_datate=42) i przypisz odpowiednio do zmiennych."
      ],
      "metadata": {
        "id": "og-pcyWJ-BC0"
      }
    },
    {
      "cell_type": "code",
      "source": [
        "import numpy as np\n",
        "import pandas as pd\n",
        "\n",
        "from sklearn.datasets import load_boston\n",
        "from sklearn.model_selection import train_test_split\n",
        "\n",
        "\n",
        "pd.set_option('display.max_columns', 15)\n",
        "pd.set_option('display.width', 150)\n",
        "raw_data = load_boston()\n",
        "\n",
        "df = pd.DataFrame(\n",
        "    data=np.c_[raw_data.data, raw_data.target],\n",
        "    columns=list(raw_data.feature_names) + ['target'],\n",
        ")\n",
        "\n",
        "data = df.copy()\n",
        "target = data.pop('target')\n",
        "\n",
        "data_train, data_test, target_train, target_test = train_test_split(\n",
        "    data, target, random_state=42\n",
        ")\n",
        "\n",
        "print(f'data_train shape: {data_train.shape}')\n",
        "print(f'target_train shape: {target_train.shape}')\n",
        "print(f'data_test shape: {data_test.shape}')\n",
        "print(f'target_test shape: {target_test.shape}')"
      ],
      "metadata": {
        "id": "nNhyJaRo-CfL"
      },
      "execution_count": null,
      "outputs": []
    },
    {
      "cell_type": "markdown",
      "source": [
        "Ćwiczenie 97\n",
        "\n",
        "Opis: Wykorzystując klasę LinearRegression (z domyślnymi parametrami) z pakietu scikit-learn zbuduj model regresji liniowej. Wyucz model na danych treningowych i dokonaj oceny na danych testowych."
      ],
      "metadata": {
        "id": "z7uuBCPd-Cvq"
      }
    },
    {
      "cell_type": "code",
      "source": [
        "import numpy as np\n",
        "import pandas as pd\n",
        "\n",
        "from sklearn.datasets import load_boston\n",
        "from sklearn.model_selection import train_test_split\n",
        "from sklearn.linear_model import LinearRegression\n",
        "\n",
        "\n",
        "pd.set_option('display.max_columns', 15)\n",
        "pd.set_option('display.width', 150)\n",
        "raw_data = load_boston()\n",
        "\n",
        "df = pd.DataFrame(\n",
        "    data=np.c_[raw_data.data, raw_data.target],\n",
        "    columns=list(raw_data.feature_names) + ['target'],\n",
        ")\n",
        "\n",
        "data = df.copy()\n",
        "target = data.pop('target')\n",
        "\n",
        "data_train, data_test, target_train, target_test = train_test_split(\n",
        "    data, target, random_state=42\n",
        ")\n",
        "\n",
        "regressor = LinearRegression()\n",
        "regressor.fit(data_train, target_train)\n",
        "print(f'R^2 score: {regressor.score(data_test, target_test):.4f}')"
      ],
      "metadata": {
        "id": "VXGd8yZu-D9Q"
      },
      "execution_count": null,
      "outputs": []
    },
    {
      "cell_type": "markdown",
      "source": [
        "Ćwiczenie 98\n",
        "\n",
        "Opis: Wykorzystano klasę LinearRegression z pakietu scikit-learn do zbudowania modelu regresji liniowej. Wyuczono model na danych treningowych. Dokonaj predykcji na podstawie modelu na danych testowych i wynik przypisz do zmiennej target_pred. Wydrukuj zmienną target_pred do konsoli."
      ],
      "metadata": {
        "id": "A5nGeczd-EKo"
      }
    },
    {
      "cell_type": "code",
      "source": [
        "import numpy as np\n",
        "import pandas as pd\n",
        "\n",
        "from sklearn.datasets import load_boston\n",
        "from sklearn.model_selection import train_test_split\n",
        "from sklearn.linear_model import LinearRegression\n",
        "\n",
        "\n",
        "pd.set_option('display.max_columns', 15)\n",
        "pd.set_option('display.width', 150)\n",
        "raw_data = load_boston()\n",
        "\n",
        "df = pd.DataFrame(\n",
        "    data=np.c_[raw_data.data, raw_data.target],\n",
        "    columns=list(raw_data.feature_names) + ['target'],\n",
        ")\n",
        "\n",
        "data = df.copy()\n",
        "target = data.pop('target')\n",
        "\n",
        "data_train, data_test, target_train, target_test = train_test_split(\n",
        "    data, target, random_state=42\n",
        ")\n",
        "\n",
        "regressor = LinearRegression()\n",
        "regressor.fit(data_train, target_train)\n",
        "\n",
        "target_pred = regressor.predict(data_test)\n",
        "print(target_pred)"
      ],
      "metadata": {
        "id": "BIKPfGgi-FOc"
      },
      "execution_count": null,
      "outputs": []
    },
    {
      "cell_type": "markdown",
      "source": [
        "Ćwiczenie 99\n",
        "\n",
        "Opis: Wykorzystano klasę LinearRegression z pakietu scikit-learn do zbudowania modelu regresji liniowej. Wyuczono model na danych treningowych. Dokonano predykcji na podstawie modelu na danych testowych i wynik przypisano do zmiennej target_pred. Zbuduj nowy obiekt DataFrame o nazwie predictions, który będzie przechowywał cztery kolumny:\n",
        "\n",
        "- target_test\n",
        "\n",
        "- target_pred\n",
        "\n",
        "- error (różnica pomiędzy target_pred oraz target_test)\n",
        "\n",
        "- abs_error (wartość bezwzględna z kolumny error)\n",
        "\n",
        "W odpowiedzi wydrukuj dziesięć pierwszych wierszy obiektu predictions do konsoli."
      ],
      "metadata": {
        "id": "3y17Be6p-Fe6"
      }
    },
    {
      "cell_type": "code",
      "source": [
        "import numpy as np\n",
        "import pandas as pd\n",
        "\n",
        "from sklearn.datasets import load_boston\n",
        "from sklearn.model_selection import train_test_split\n",
        "from sklearn.linear_model import LinearRegression\n",
        "\n",
        "\n",
        "pd.set_option('display.max_columns', 15)\n",
        "pd.set_option('display.width', 150)\n",
        "raw_data = load_boston()\n",
        "\n",
        "df = pd.DataFrame(\n",
        "    data=np.c_[raw_data.data, raw_data.target],\n",
        "    columns=list(raw_data.feature_names) + ['target'],\n",
        ")\n",
        "\n",
        "data = df.copy()\n",
        "target = data.pop('target')\n",
        "\n",
        "data_train, data_test, target_train, target_test = train_test_split(\n",
        "    data, target, random_state=42\n",
        ")\n",
        "\n",
        "regressor = LinearRegression()\n",
        "regressor.fit(data_train, target_train)\n",
        "\n",
        "target_pred = regressor.predict(data_test)\n",
        "\n",
        "predictions = pd.DataFrame(\n",
        "    np.c_[target_test, target_pred],\n",
        "    columns=['target_test', 'target_pred'],\n",
        ")\n",
        "predictions['error'] = (\n",
        "    predictions['target_pred'] - predictions['target_test']\n",
        ")\n",
        "predictions['abs_error'] = abs(predictions['error'])\n",
        "print(predictions.head(10))"
      ],
      "metadata": {
        "id": "s_2RqSL8-H4C"
      },
      "execution_count": null,
      "outputs": []
    },
    {
      "cell_type": "markdown",
      "source": [
        "Ćwiczenie 100\n",
        "\n",
        "Opis: Wykorzystując klasę GradientBoostingRegressor (z parametrem random_state=42) z pakietu scikit-learn zbuduj model regresji. Wyucz model na danych treningowych i dokonaj oceny na danych testowych."
      ],
      "metadata": {
        "id": "dsn4q3XK-I_6"
      }
    },
    {
      "cell_type": "code",
      "source": [
        "import numpy as np\n",
        "import pandas as pd\n",
        "\n",
        "from sklearn.datasets import load_boston\n",
        "from sklearn.model_selection import train_test_split\n",
        "from sklearn.ensemble import GradientBoostingRegressor\n",
        "\n",
        "\n",
        "pd.set_option('display.max_columns', 15)\n",
        "pd.set_option('display.width', 150)\n",
        "raw_data = load_boston()\n",
        "\n",
        "df = pd.DataFrame(\n",
        "    data=np.c_[raw_data.data, raw_data.target],\n",
        "    columns=list(raw_data.feature_names) + ['target'],\n",
        ")\n",
        "\n",
        "data = df.copy()\n",
        "target = data.pop('target')\n",
        "\n",
        "data_train, data_test, target_train, target_test = train_test_split(\n",
        "    data, target, random_state=42\n",
        ")\n",
        "\n",
        "regressor = GradientBoostingRegressor(random_state=42)\n",
        "regressor.fit(data_train, target_train)\n",
        "print(f'R^2 score: {regressor.score(data_test, target_test):.4f}')"
      ],
      "metadata": {
        "id": "izCq6V1m-Km4"
      },
      "execution_count": null,
      "outputs": []
    },
    {
      "cell_type": "markdown",
      "source": [
        "Ćwiczenie 101\n",
        "\n",
        "Opis: Wykorzystano klasę GradientBoostingRegressor z pakietu scikit-learn do zbudowania model regresji. Wyuczono model na danych treningowych. Zapisz model (zmienna regressor) do pliku o nazwie 'model.pkl' wykorzystując moduł pickle.\n",
        "\n",
        "Następnie wczytaj plik model.pkl do zmiennej regressor_loaded. W odpowiedzi wydrukuj do konsoli informacje o obiekcie regressor_loaded."
      ],
      "metadata": {
        "id": "5u97AFC5-K8P"
      }
    },
    {
      "cell_type": "code",
      "source": [
        "import pickle\n",
        "\n",
        "import numpy as np\n",
        "import pandas as pd\n",
        "\n",
        "from sklearn.datasets import load_boston\n",
        "from sklearn.model_selection import train_test_split\n",
        "from sklearn.ensemble import GradientBoostingRegressor\n",
        "\n",
        "\n",
        "pd.set_option('display.max_columns', 15)\n",
        "pd.set_option('display.width', 150)\n",
        "raw_data = load_boston()\n",
        "\n",
        "df = pd.DataFrame(\n",
        "    data=np.c_[raw_data.data, raw_data.target],\n",
        "    columns=list(raw_data.feature_names) + ['target'],\n",
        ")\n",
        "\n",
        "data = df.copy()\n",
        "target = data.pop('target')\n",
        "\n",
        "data_train, data_test, target_train, target_test = train_test_split(\n",
        "    data, target, random_state=42\n",
        ")\n",
        "\n",
        "regressor = GradientBoostingRegressor()\n",
        "regressor.fit(data_train, target_train)\n",
        "\n",
        "with open('model.pkl', 'wb') as file:\n",
        "    pickle.dump(regressor, file)\n",
        "\n",
        "with open('model.pkl', 'rb') as file:\n",
        "    regressor_loaded = pickle.load(file)\n",
        "\n",
        "print(regressor_loaded)"
      ],
      "metadata": {
        "id": "q0_F-2Zp-MaG"
      },
      "execution_count": null,
      "outputs": []
    }
  ]
}