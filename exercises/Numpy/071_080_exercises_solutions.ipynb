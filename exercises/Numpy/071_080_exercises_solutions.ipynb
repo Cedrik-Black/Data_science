{
  "nbformat": 4,
  "nbformat_minor": 0,
  "metadata": {
    "colab": {
      "provenance": [],
      "include_colab_link": true
    },
    "kernelspec": {
      "name": "python3",
      "display_name": "Python 3"
    }
  },
  "cells": [
    {
      "cell_type": "markdown",
      "metadata": {
        "id": "view-in-github",
        "colab_type": "text"
      },
      "source": [
        "<a href=\"https://colab.research.google.com/github/Cedrik-Black/Data_science/blob/master/exercises/Numpy/071_080_exercises_solutions.ipynb\" target=\"_parent\"><img src=\"https://colab.research.google.com/assets/colab-badge.svg\" alt=\"Open In Colab\"/></a>"
      ]
    },
    {
      "cell_type": "markdown",
      "metadata": {
        "id": "WLEgCW5F1hho"
      },
      "source": [
        "## Numpy\n",
        "\n",
        "### Spis treści:\n",
        "* [Import biblioteki](#0)\n",
        "* [Ćwiczenie 71](#1)\n",
        "* [Ćwiczenie 72](#2)\n",
        "* [Ćwiczenie 73](#3)\n",
        "* [Ćwiczenie 74](#4)\n",
        "* [Ćwiczenie 75](#5)\n",
        "* [Ćwiczenie 76](#6)\n",
        "* [Ćwiczenie 77](#7)\n",
        "* [Ćwiczenie 78](#8)\n",
        "* [Ćwiczenie 79](#9)\n",
        "* [Ćwiczenie 80](#10)"
      ]
    },
    {
      "cell_type": "markdown",
      "metadata": {
        "id": "zeLOLmTj1kBM"
      },
      "source": [
        "### <a name='0'></a>Import biblioteki"
      ]
    },
    {
      "cell_type": "code",
      "metadata": {
        "id": "HXMB7SMe1Wnz",
        "outputId": "5734b8ca-f7fb-4c90-ab8d-fa5326a57d1e",
        "colab": {
          "base_uri": "https://localhost:8080/",
          "height": 34
        }
      },
      "source": [
        "import numpy as np\n",
        "\n",
        "np.random.seed(42)\n",
        "np.__version__"
      ],
      "execution_count": null,
      "outputs": [
        {
          "output_type": "execute_result",
          "data": {
            "text/plain": [
              "'1.18.2'"
            ]
          },
          "metadata": {
            "tags": []
          },
          "execution_count": 1
        }
      ]
    },
    {
      "cell_type": "markdown",
      "metadata": {
        "id": "cyc70pMe1oCg"
      },
      "source": [
        "### <a name='1'></a> Ćwiczenie 71\n",
        "Podana jest poniższa tablica $A$:\n",
        "\n",
        "```\n",
        "A = np.array([['id', 'price'],\n",
        "              ['001', 14.99],\n",
        "              ['002', 4.99],\n",
        "              ['003', 7.99],\n",
        "              ['004', 2.49],\n",
        "              ['005', 1.49]])\n",
        "```\n",
        "Od drugiego wiersza tablicy $A$ przestaw losowo wiersze w tablicy.\n",
        "\n",
        "__Wskazówka:__ Użyj funkcji _np.random.shuffle()_.\n"
      ]
    },
    {
      "cell_type": "code",
      "metadata": {
        "id": "RFIhGhiJtLW5",
        "outputId": "e20a45c0-fee5-49b1-f5b2-20db55b079a8",
        "colab": {
          "base_uri": "https://localhost:8080/",
          "height": 119
        }
      },
      "source": [
        "A = np.array([['id', 'price'],\n",
        "              ['001', 14.99],\n",
        "              ['002', 4.99],\n",
        "              ['003', 7.99],\n",
        "              ['004', 2.49],\n",
        "              ['005', 1.49]])\n",
        "\n",
        "np.random.shuffle(A[1:])\n",
        "A"
      ],
      "execution_count": null,
      "outputs": [
        {
          "output_type": "execute_result",
          "data": {
            "text/plain": [
              "array([['id', 'price'],\n",
              "       ['002', '4.99'],\n",
              "       ['005', '1.49'],\n",
              "       ['003', '7.99'],\n",
              "       ['001', '14.99'],\n",
              "       ['004', '2.49']], dtype='<U5')"
            ]
          },
          "metadata": {
            "tags": []
          },
          "execution_count": 2
        }
      ]
    },
    {
      "cell_type": "markdown",
      "metadata": {
        "id": "J9pY1rtr1sC0"
      },
      "source": [
        "### <a name='2'></a> Ćwiczenie 72\n",
        "Podana jest poniższa tablica $A$:\n",
        "\n",
        "```\n",
        "A = np.array([0.2, 0.15, 0.1, 0.3, 0.2, 0.05])\n",
        "```\n",
        "Zwróć tablicę indeksów, które posortują tablicę $A$ rosnąco.\n",
        "\n",
        "__Oczekiwny wynik:__\n",
        "\n",
        "\n",
        "```\n",
        "array([5, 2, 1, 0, 4, 3])\n",
        "```\n",
        "__Wskazówka:__ Użyj funkcji _np.argsort()_.\n",
        "\n"
      ]
    },
    {
      "cell_type": "code",
      "metadata": {
        "id": "JXEkxNh_wAwB",
        "outputId": "1dcef052-686a-46d7-a5f4-7f5e603eadbb",
        "colab": {
          "base_uri": "https://localhost:8080/",
          "height": 34
        }
      },
      "source": [
        "A = np.array([0.2, 0.15, 0.1, 0.3, 0.2, 0.05])\n",
        "\n",
        "np.argsort(A)"
      ],
      "execution_count": null,
      "outputs": [
        {
          "output_type": "execute_result",
          "data": {
            "text/plain": [
              "array([5, 2, 1, 0, 4, 3])"
            ]
          },
          "metadata": {
            "tags": []
          },
          "execution_count": 3
        }
      ]
    },
    {
      "cell_type": "markdown",
      "metadata": {
        "id": "XQLYT2m11wVG"
      },
      "source": [
        "### <a name='3'></a> Ćwiczenie 73\n",
        "Podana jest poniższa tablica $A$:\n",
        "\n",
        "```\n",
        "A = np.random.randn(10, 8)\n",
        "```\n",
        "\n",
        "Zaokrąglij wartości tej tablicy do trzeciego miejsca po przecinku.\n",
        "\n",
        "__Wskazówka:__ Użyj funkcji _np.round()_."
      ]
    },
    {
      "cell_type": "code",
      "metadata": {
        "id": "oh4E35mU0ikP",
        "outputId": "f0bc8793-1d8e-4472-8f7c-6d7dd95bf6ab",
        "colab": {
          "base_uri": "https://localhost:8080/",
          "height": 187
        }
      },
      "source": [
        "A = np.random.randn(10, 8)\n",
        "\n",
        "np.round(A, decimals=3)"
      ],
      "execution_count": null,
      "outputs": [
        {
          "output_type": "execute_result",
          "data": {
            "text/plain": [
              "array([[ 0.474,  1.368, -0.917, -0.124, -2.011, -0.493,  0.393, -0.929],\n",
              "       [ 0.08 , -0.16 ,  0.022, -0.428, -0.532, -0.117,  0.222, -0.768],\n",
              "       [ 0.142, -0.035,  1.134, -0.105, -0.525,  1.913, -2.027,  1.119],\n",
              "       [ 0.779, -1.101,  1.13 ,  0.373, -0.386, -1.159,  0.566, -0.704],\n",
              "       [-1.378, -0.353, -0.461,  0.067, -0.176,  1.201,  0.698, -0.172],\n",
              "       [-0.907,  1.189,  0.786,  2.656,  0.263,  1.642,  0.461,  0.086],\n",
              "       [-1.51 ,  0.722, -0.843, -0.513, -0.044, -0.275, -1.563, -0.796],\n",
              "       [ 0.931,  0.678,  0.698,  0.174,  0.662,  0.241, -0.168,  1.165],\n",
              "       [-0.246, -0.77 ,  1.212,  1.233, -1.574,  0.638, -2.044,  1.069],\n",
              "       [-0.934,  0.784, -0.615,  0.333, -1.381, -0.281, -0.06 ,  0.961]])"
            ]
          },
          "metadata": {
            "tags": []
          },
          "execution_count": 4
        }
      ]
    },
    {
      "cell_type": "markdown",
      "metadata": {
        "id": "4xTKSUzg10MK"
      },
      "source": [
        "### <a name='4'></a> Ćwiczenie 74\n",
        "Wyznacz pierwiastki wielomianu:\n",
        "* $W(x) = 4x^2 + 5x + 1$\n",
        "\n",
        "\n",
        "__Wskazówka:__ Użyj funkcji _np.roots()_ oraz _np.polyval()_."
      ]
    },
    {
      "cell_type": "code",
      "metadata": {
        "id": "RjwHkYO86qeM",
        "outputId": "8b8ef350-04dd-429c-d522-f0843ef2098d",
        "colab": {
          "base_uri": "https://localhost:8080/",
          "height": 34
        }
      },
      "source": [
        "W = np.array([4, 5, 1])\n",
        "np.roots(W)"
      ],
      "execution_count": null,
      "outputs": [
        {
          "output_type": "execute_result",
          "data": {
            "text/plain": [
              "array([-1.  , -0.25])"
            ]
          },
          "metadata": {
            "tags": []
          },
          "execution_count": 5
        }
      ]
    },
    {
      "cell_type": "markdown",
      "metadata": {
        "id": "YDKyTjl59GcT"
      },
      "source": [
        "Dokonaj sprawdzenia."
      ]
    },
    {
      "cell_type": "code",
      "metadata": {
        "id": "8ryP41w78rvf",
        "outputId": "5ed10dd9-6fca-4e59-ac5c-718b2b830dd1",
        "colab": {
          "base_uri": "https://localhost:8080/",
          "height": 51
        }
      },
      "source": [
        "print(np.polyval(W, -1))\n",
        "print(np.polyval(W, -0.25))"
      ],
      "execution_count": null,
      "outputs": [
        {
          "output_type": "stream",
          "text": [
            "0\n",
            "0.0\n"
          ],
          "name": "stdout"
        }
      ]
    },
    {
      "cell_type": "markdown",
      "metadata": {
        "id": "o3HKIKlP15Ro"
      },
      "source": [
        "### <a name='5'></a> Ćwiczenie 75\n",
        "Wyznacz pierwiastki wielomianów:\n",
        "* $Q(x) = 2x^3 + 4x^2 -5x + 1$\n",
        "* $R(x) = 2x^3 -5x + 1$\n",
        "\n",
        "__Wskazówka:__ Użyj funkcji _np.roots()_."
      ]
    },
    {
      "cell_type": "code",
      "metadata": {
        "id": "Kxjx96O57wTY",
        "outputId": "13711149-2182-4431-e8a0-57685a936507",
        "colab": {
          "base_uri": "https://localhost:8080/",
          "height": 34
        }
      },
      "source": [
        "Q = np.array([2, 4, -5, 1])\n",
        "np.roots(Q)"
      ],
      "execution_count": null,
      "outputs": [
        {
          "output_type": "execute_result",
          "data": {
            "text/plain": [
              "array([-2.91610583,  0.65388685,  0.26221898])"
            ]
          },
          "metadata": {
            "tags": []
          },
          "execution_count": 7
        }
      ]
    },
    {
      "cell_type": "code",
      "metadata": {
        "id": "sYhhHGSg9T82",
        "outputId": "78549a33-1bb9-49ce-f075-aa0e27501259",
        "colab": {
          "base_uri": "https://localhost:8080/",
          "height": 34
        }
      },
      "source": [
        "R = np.array([2, 0, -5, 1])\n",
        "np.roots(R)"
      ],
      "execution_count": null,
      "outputs": [
        {
          "output_type": "execute_result",
          "data": {
            "text/plain": [
              "array([-1.67298165,  1.46961743,  0.20336421])"
            ]
          },
          "metadata": {
            "tags": []
          },
          "execution_count": 8
        }
      ]
    },
    {
      "cell_type": "markdown",
      "metadata": {
        "id": "PunXd_Ey16so"
      },
      "source": [
        "### <a name='6'></a> Ćwiczenie 76\n",
        "Podane są wielomiany:\n",
        "\n",
        "* $W(x) = 4x^2 + 5x + 1$\n",
        "* $Q(x) = 2x^3 + 4x^2 -5x + 1$\n"
      ]
    },
    {
      "cell_type": "code",
      "metadata": {
        "id": "D-XbUU9Nln5y"
      },
      "source": [
        "W = np.array([4, 5, 1])\n",
        "Q = np.array([2, 4, -5, 1])"
      ],
      "execution_count": null,
      "outputs": []
    },
    {
      "cell_type": "markdown",
      "metadata": {
        "id": "vYiT4ikklqaQ"
      },
      "source": [
        "Wykonaj działania:\n",
        "* $W(x) + Q(x)$"
      ]
    },
    {
      "cell_type": "code",
      "metadata": {
        "id": "9JKvun7C9raH",
        "outputId": "a61ce355-96eb-474e-f14d-2f2afa021a3c",
        "colab": {
          "base_uri": "https://localhost:8080/",
          "height": 34
        }
      },
      "source": [
        "np.polyadd(W, Q)"
      ],
      "execution_count": null,
      "outputs": [
        {
          "output_type": "execute_result",
          "data": {
            "text/plain": [
              "array([2, 8, 0, 2])"
            ]
          },
          "metadata": {
            "tags": []
          },
          "execution_count": 10
        }
      ]
    },
    {
      "cell_type": "markdown",
      "metadata": {
        "id": "f6qXMj30lhrn"
      },
      "source": [
        "* $W(x) - Q(x)$\n"
      ]
    },
    {
      "cell_type": "code",
      "metadata": {
        "id": "HFlLC37f94Lr",
        "outputId": "bbda2d6b-f923-4095-a9e0-6b19c20cda16",
        "colab": {
          "base_uri": "https://localhost:8080/",
          "height": 34
        }
      },
      "source": [
        "np.polysub(W, Q)"
      ],
      "execution_count": null,
      "outputs": [
        {
          "output_type": "execute_result",
          "data": {
            "text/plain": [
              "array([-2,  0, 10,  0])"
            ]
          },
          "metadata": {
            "tags": []
          },
          "execution_count": 11
        }
      ]
    },
    {
      "cell_type": "markdown",
      "metadata": {
        "id": "o8xnmuwfljHU"
      },
      "source": [
        "* $W(x) * Q(x)$\n"
      ]
    },
    {
      "cell_type": "code",
      "metadata": {
        "id": "Z4B28oMe-p8J",
        "outputId": "4859cabe-dde8-4ca5-f50d-b59e9a7538ea",
        "colab": {
          "base_uri": "https://localhost:8080/",
          "height": 34
        }
      },
      "source": [
        "np.polymul(W, Q)"
      ],
      "execution_count": null,
      "outputs": [
        {
          "output_type": "execute_result",
          "data": {
            "text/plain": [
              "array([  8,  26,   2, -17,   0,   1])"
            ]
          },
          "metadata": {
            "tags": []
          },
          "execution_count": 12
        }
      ]
    },
    {
      "cell_type": "markdown",
      "metadata": {
        "id": "BIHBf0PllkXe"
      },
      "source": [
        "* $W(x) + 2Q(x)$"
      ]
    },
    {
      "cell_type": "code",
      "metadata": {
        "id": "UbaoDx6E-90V",
        "outputId": "eea0a6c7-ac59-46ff-f62f-e9f6b37c73a9",
        "colab": {
          "base_uri": "https://localhost:8080/",
          "height": 34
        }
      },
      "source": [
        "np.polyadd(W, 2 * Q)"
      ],
      "execution_count": null,
      "outputs": [
        {
          "output_type": "execute_result",
          "data": {
            "text/plain": [
              "array([ 4, 12, -5,  3])"
            ]
          },
          "metadata": {
            "tags": []
          },
          "execution_count": 13
        }
      ]
    },
    {
      "cell_type": "markdown",
      "metadata": {
        "id": "hOhqDRz618Tx"
      },
      "source": [
        "### <a name='7'></a> Ćwiczenie 77\n",
        "Podana jest poniższa tablica:\n",
        "\n",
        "```\n",
        "A = np.array([[-4, 3, 0, 1, -5],\n",
        "              [6, -4, -2, 1, 3]])\n",
        "```\n",
        "\n",
        "Użyj funkcji znaku (_sign function_) dla tablicy $A$. Dla przypomnienia funkcja działa nastpująco: dla wartości ujemnych zwraca -1, dla zera wartość zero, dla wartości dodatnich 1.\n",
        "\n",
        "__Oczekiwany wynik:__\n",
        "\n",
        "\n",
        "```\n",
        "array([[-1,  1,  0,  1, -1],\n",
        "       [ 1, -1, -1,  1,  1]])\n",
        "```\n",
        "__Wskazówka:__ Użyj funkcji _np.sign()_.\n"
      ]
    },
    {
      "cell_type": "code",
      "metadata": {
        "id": "bo-L_-_1AF0o",
        "outputId": "62789fd5-2480-4db5-c328-85c3bab7d355",
        "colab": {
          "base_uri": "https://localhost:8080/",
          "height": 51
        }
      },
      "source": [
        "A = np.array([[-4, 3, 0, 1, -5],\n",
        "              [6, -4, -2, 1, 3]])\n",
        "\n",
        "np.sign(A)"
      ],
      "execution_count": null,
      "outputs": [
        {
          "output_type": "execute_result",
          "data": {
            "text/plain": [
              "array([[-1,  1,  0,  1, -1],\n",
              "       [ 1, -1, -1,  1,  1]])"
            ]
          },
          "metadata": {
            "tags": []
          },
          "execution_count": 14
        }
      ]
    },
    {
      "cell_type": "markdown",
      "metadata": {
        "id": "TXUd_4631-gw"
      },
      "source": [
        "### <a name='8'></a> Ćwiczenie 78\n",
        "Wykorzystując funkcję _np.arange()_ wygeneruj poniższą tablicę:\n",
        "\n",
        "\n",
        "```\n",
        "array(['2021-01-01', '2021-01-02', '2021-01-03', '2021-01-04',\n",
        "       '2021-01-05', '2021-01-06', '2021-01-07', '2021-01-08',\n",
        "       '2021-01-09', '2021-01-10', '2021-01-11', '2021-01-12',\n",
        "       '2021-01-13', '2021-01-14', '2021-01-15', '2021-01-16',\n",
        "       '2021-01-17', '2021-01-18', '2021-01-19', '2021-01-20',\n",
        "       '2021-01-21', '2021-01-22', '2021-01-23', '2021-01-24',\n",
        "       '2021-01-25', '2021-01-26', '2021-01-27', '2021-01-28',\n",
        "       '2021-01-29', '2021-01-30', '2021-01-31'], dtype='datetime64[D]')\n",
        "```\n",
        "\n"
      ]
    },
    {
      "cell_type": "code",
      "metadata": {
        "id": "oAdYOzbJDFmv",
        "outputId": "619b0f29-aa2b-4a19-d5fd-7f9be6482416",
        "colab": {
          "base_uri": "https://localhost:8080/",
          "height": 153
        }
      },
      "source": [
        "np.arange('2021-01-01', '2021-02-01', dtype='datetime64[D]')"
      ],
      "execution_count": null,
      "outputs": [
        {
          "output_type": "execute_result",
          "data": {
            "text/plain": [
              "array(['2021-01-01', '2021-01-02', '2021-01-03', '2021-01-04',\n",
              "       '2021-01-05', '2021-01-06', '2021-01-07', '2021-01-08',\n",
              "       '2021-01-09', '2021-01-10', '2021-01-11', '2021-01-12',\n",
              "       '2021-01-13', '2021-01-14', '2021-01-15', '2021-01-16',\n",
              "       '2021-01-17', '2021-01-18', '2021-01-19', '2021-01-20',\n",
              "       '2021-01-21', '2021-01-22', '2021-01-23', '2021-01-24',\n",
              "       '2021-01-25', '2021-01-26', '2021-01-27', '2021-01-28',\n",
              "       '2021-01-29', '2021-01-30', '2021-01-31'], dtype='datetime64[D]')"
            ]
          },
          "metadata": {
            "tags": []
          },
          "execution_count": 15
        }
      ]
    },
    {
      "cell_type": "markdown",
      "metadata": {
        "id": "tgI6xEn-2AQo"
      },
      "source": [
        "\n",
        "### <a name='9'></a> Ćwiczenie 79\n",
        "\n",
        "Wykorzystując funkcję _np.arange()_ wygeneruj poniższą tablicę:\n",
        "\n",
        "\n",
        "\n",
        "```\n",
        "array([['2021-01', '2021-02', '2021-03'],\n",
        "       ['2021-04', '2021-05', '2021-06'],\n",
        "       ['2021-07', '2021-08', '2021-09'],\n",
        "       ['2021-10', '2021-11', '2021-12']], dtype='datetime64[M]')\n",
        "```\n",
        "\n"
      ]
    },
    {
      "cell_type": "code",
      "metadata": {
        "id": "oJRlRIThDehG",
        "outputId": "15e530c2-d71d-4ac3-9fea-d8ed1448643d",
        "colab": {
          "base_uri": "https://localhost:8080/",
          "height": 85
        }
      },
      "source": [
        "A = np.arange('2021-01', '2022-01', dtype='datetime64[M]')\n",
        "A = A.reshape(-1, 3)\n",
        "A"
      ],
      "execution_count": null,
      "outputs": [
        {
          "output_type": "execute_result",
          "data": {
            "text/plain": [
              "array([['2021-01', '2021-02', '2021-03'],\n",
              "       ['2021-04', '2021-05', '2021-06'],\n",
              "       ['2021-07', '2021-08', '2021-09'],\n",
              "       ['2021-10', '2021-11', '2021-12']], dtype='datetime64[M]')"
            ]
          },
          "metadata": {
            "tags": []
          },
          "execution_count": 16
        }
      ]
    },
    {
      "cell_type": "markdown",
      "metadata": {
        "id": "wxhpf-uq2B1I"
      },
      "source": [
        "### <a name='10'></a> Ćwiczenie 80\n",
        "\n",
        "Wykorzystując funkcję _np.datetime64()_ wygeneruj dzisiejszą datę (datę w chwili robienia ćwiczenia)."
      ]
    },
    {
      "cell_type": "code",
      "metadata": {
        "id": "YFc0KW6URsuc",
        "outputId": "e905cab4-3804-4447-ea3b-3917faa92e5f",
        "colab": {
          "base_uri": "https://localhost:8080/",
          "height": 34
        }
      },
      "source": [
        "np.datetime64('today')"
      ],
      "execution_count": null,
      "outputs": [
        {
          "output_type": "execute_result",
          "data": {
            "text/plain": [
              "numpy.datetime64('2020-04-23')"
            ]
          },
          "metadata": {
            "tags": []
          },
          "execution_count": 17
        }
      ]
    },
    {
      "cell_type": "code",
      "metadata": {
        "id": "1-9KgZ1emDRO"
      },
      "source": [],
      "execution_count": null,
      "outputs": []
    }
  ]
}