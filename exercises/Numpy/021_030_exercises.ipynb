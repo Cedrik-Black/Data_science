{
  "nbformat": 4,
  "nbformat_minor": 0,
  "metadata": {
    "colab": {
      "provenance": [],
      "include_colab_link": true
    },
    "kernelspec": {
      "name": "python3",
      "display_name": "Python 3"
    }
  },
  "cells": [
    {
      "cell_type": "markdown",
      "metadata": {
        "id": "view-in-github",
        "colab_type": "text"
      },
      "source": [
        "<a href=\"https://colab.research.google.com/github/Cedrik-Black/Data_science/blob/master/exercises/Numpy/021_030_exercises.ipynb\" target=\"_parent\"><img src=\"https://colab.research.google.com/assets/colab-badge.svg\" alt=\"Open In Colab\"/></a>"
      ]
    },
    {
      "cell_type": "markdown",
      "metadata": {
        "id": "WLEgCW5F1hho"
      },
      "source": [
        "## Numpy\n",
        "\n",
        "### Spis treści:\n",
        "* [Import biblioteki](#0)\n",
        "* [Ćwiczenie 21](#1)\n",
        "* [Ćwiczenie 22](#2)\n",
        "* [Ćwiczenie 23](#3)\n",
        "* [Ćwiczenie 24](#4)\n",
        "* [Ćwiczenie 25](#5)\n",
        "* [Ćwiczenie 26](#6)\n",
        "* [Ćwiczenie 27](#7)\n",
        "* [Ćwiczenie 28](#8)\n",
        "* [Ćwiczenie 29](#9)\n",
        "* [Ćwiczenie 30](#10)"
      ]
    },
    {
      "cell_type": "markdown",
      "metadata": {
        "id": "zeLOLmTj1kBM"
      },
      "source": [
        "### <a name='0'></a>Import biblioteki"
      ]
    },
    {
      "cell_type": "code",
      "metadata": {
        "id": "HXMB7SMe1Wnz",
        "colab": {
          "base_uri": "https://localhost:8080/",
          "height": 35
        },
        "outputId": "8ec0bdc6-0198-4095-e5a7-b989fc48295c"
      },
      "source": [
        "import numpy as np\n",
        "\n",
        "np.__version__"
      ],
      "execution_count": null,
      "outputs": [
        {
          "output_type": "execute_result",
          "data": {
            "text/plain": [
              "'1.25.2'"
            ],
            "application/vnd.google.colaboratory.intrinsic+json": {
              "type": "string"
            }
          },
          "metadata": {},
          "execution_count": 1
        }
      ]
    },
    {
      "cell_type": "markdown",
      "metadata": {
        "id": "cyc70pMe1oCg"
      },
      "source": [
        "### <a name='1'></a> Ćwiczenie 21\n",
        "Wygeneruj poniższą tablicę numpy. Zapisz tablicę do pliku bianarnego o nazwie _'array.npy'_ i następnie wczytaj z powrotem ten plik do innej zmiennej.\n",
        "\n",
        "\n",
        "```\n",
        "array([[ 0,  1,  2,  3],\n",
        "       [ 4,  5,  6,  7],\n",
        "       [ 8,  9, 10, 11]])\n",
        "```\n",
        "\n",
        "\n",
        "__Wskazówka:__ Użyj funkcji _np.save()_ oraz _np.load()_."
      ]
    },
    {
      "cell_type": "code",
      "metadata": {
        "id": "MhvZKgtPKAOF",
        "colab": {
          "base_uri": "https://localhost:8080/"
        },
        "outputId": "671c2c58-7998-48e7-da3c-80b1598814b6"
      },
      "source": [
        "A = np.arange(0, 12).reshape(3, -1)\n",
        "np.save('array.npy', A)\n",
        "B = np.load('array.npy')\n",
        "print(B)"
      ],
      "execution_count": null,
      "outputs": [
        {
          "output_type": "stream",
          "name": "stdout",
          "text": [
            "[[ 0  1  2  3]\n",
            " [ 4  5  6  7]\n",
            " [ 8  9 10 11]]\n"
          ]
        }
      ]
    },
    {
      "cell_type": "markdown",
      "metadata": {
        "id": "J9pY1rtr1sC0"
      },
      "source": [
        "### <a name='2'></a> Ćwiczenie 22\n",
        "Wygeneruj ponizszą tablicę numpy:\n",
        "\n",
        "\n",
        "```\n",
        "array([[ 0,  1,  2,  3],\n",
        "       [ 4,  5,  6,  7],\n",
        "       [ 8,  9, 10, 11]])\n",
        "```\n",
        "\n",
        "\n",
        "Zapisz tablicę do pliku tekstowego o nazwie _'array.txt'_ z dokładnością do drugiego miejsca po przecinku i następnie wczytaj z powrotem ten plik do innej zmiennej.\n",
        "\n",
        "__Wskazówka:__ Użyj funkcji _np.savetxt()_ oraz _np.loadtxt()_.\n"
      ]
    },
    {
      "cell_type": "code",
      "metadata": {
        "id": "Ac7M7bDhLAlf",
        "colab": {
          "base_uri": "https://localhost:8080/"
        },
        "outputId": "809efd03-1880-4224-a1c9-f7f9e1806662"
      },
      "source": [
        "A = np.arange(0, 12).reshape(3, -1)\n",
        "np.savetxt('array.txt', A, fmt='%.2f')\n",
        "B = np.loadtxt('array.txt')\n",
        "print(B)"
      ],
      "execution_count": null,
      "outputs": [
        {
          "output_type": "stream",
          "name": "stdout",
          "text": [
            "[[ 0.  1.  2.  3.]\n",
            " [ 4.  5.  6.  7.]\n",
            " [ 8.  9. 10. 11.]]\n"
          ]
        }
      ]
    },
    {
      "cell_type": "markdown",
      "metadata": {
        "id": "XQLYT2m11wVG"
      },
      "source": [
        "### <a name='3'></a> Ćwiczenie 23\n",
        "Wygeneruj i przekształć poniższą tablicę numpy na listę.\n",
        "\n",
        "\n",
        "```\n",
        "array([[ 0,  1,  2,  3],\n",
        "       [ 4,  5,  6,  7],\n",
        "       [ 8,  9, 10, 11]])\n",
        "```\n",
        "\n",
        "\n",
        "\n",
        "__Wskazówka:__ Użyj metody _np.array.tolist()_."
      ]
    },
    {
      "cell_type": "code",
      "metadata": {
        "id": "Dtu-EJViT1Os",
        "colab": {
          "base_uri": "https://localhost:8080/"
        },
        "outputId": "c23734e8-2bbd-4357-f599-7111ef9b0153"
      },
      "source": [
        "A = np.arange(0, 12).reshape(3, 4)\n",
        "A.tolist()"
      ],
      "execution_count": null,
      "outputs": [
        {
          "output_type": "execute_result",
          "data": {
            "text/plain": [
              "[[0, 1, 2, 3], [4, 5, 6, 7], [8, 9, 10, 11]]"
            ]
          },
          "metadata": {},
          "execution_count": 14
        }
      ]
    },
    {
      "cell_type": "markdown",
      "metadata": {
        "id": "4xTKSUzg10MK"
      },
      "source": [
        "### <a name='4'></a> Ćwiczenie 24\n",
        "Podana jest poniższa tablica numpy:\n",
        "\n",
        "```\n",
        "array([[ 0,  1,  2,  3],\n",
        "       [ 4,  5,  6,  7],\n",
        "       [ 8,  9, 10, 11]])\n",
        "```\n",
        "Używając operatora wycinania przekształć tablicę w poniższe:\n",
        "\n",
        "* zamiana wierszy (pierwszy z ostatnim)\n",
        "\n",
        "```\n",
        "array([[ 8,  9, 10, 11],\n",
        "       [ 4,  5,  6,  7],\n",
        "       [ 0,  1,  2,  3]])\n",
        "```\n",
        "\n",
        "\n",
        "\n",
        "\n",
        "\n"
      ]
    },
    {
      "cell_type": "code",
      "metadata": {
        "id": "1iqUDmG3V7sM",
        "colab": {
          "base_uri": "https://localhost:8080/"
        },
        "outputId": "caace648-3e86-43bb-a729-21a867ace627"
      },
      "source": [
        "A = np.arange(0, 12).reshape(3, 4)\n",
        "A[::-1]"
      ],
      "execution_count": null,
      "outputs": [
        {
          "output_type": "execute_result",
          "data": {
            "text/plain": [
              "array([[ 8,  9, 10, 11],\n",
              "       [ 4,  5,  6,  7],\n",
              "       [ 0,  1,  2,  3]])"
            ]
          },
          "metadata": {},
          "execution_count": 68
        }
      ]
    },
    {
      "cell_type": "markdown",
      "metadata": {
        "id": "QwFXH2dIEhMp"
      },
      "source": [
        "* zamiana kolumn (odwrócona kolejność)\n",
        "\n",
        "\n",
        "```\n",
        "array([[ 3,  2,  1,  0],\n",
        "       [ 7,  6,  5,  4],\n",
        "       [11, 10,  9,  8]])\n",
        "```\n"
      ]
    },
    {
      "cell_type": "code",
      "metadata": {
        "id": "dux6cn8YV-q_",
        "colab": {
          "base_uri": "https://localhost:8080/"
        },
        "outputId": "abc7dbdf-99dc-4f3f-90bf-8581a960f54c"
      },
      "source": [
        "A = np.arange(0, 12).reshape(3, 4)\n",
        "A[:, ::-1]"
      ],
      "execution_count": null,
      "outputs": [
        {
          "output_type": "execute_result",
          "data": {
            "text/plain": [
              "array([[ 3,  2,  1,  0],\n",
              "       [ 7,  6,  5,  4],\n",
              "       [11, 10,  9,  8]])"
            ]
          },
          "metadata": {},
          "execution_count": 69
        }
      ]
    },
    {
      "cell_type": "markdown",
      "metadata": {
        "id": "i5mm0dexEoDe"
      },
      "source": [
        "* zamiana wierszy i kolumn (odwrócone kolejności)\n",
        "\n",
        "\n",
        "```\n",
        "array([[11, 10,  9,  8],\n",
        "       [ 7,  6,  5,  4],\n",
        "       [ 3,  2,  1,  0]])\n",
        "```       "
      ]
    },
    {
      "cell_type": "code",
      "metadata": {
        "id": "ZqkvfYoKWHLp",
        "colab": {
          "base_uri": "https://localhost:8080/"
        },
        "outputId": "8f9b08ab-c935-4257-c580-d42749c7618f"
      },
      "source": [
        "A = np.arange(0, 12).reshape(3, 4)\n",
        "A[::-1, ::-1]"
      ],
      "execution_count": null,
      "outputs": [
        {
          "output_type": "execute_result",
          "data": {
            "text/plain": [
              "array([[11, 10,  9,  8],\n",
              "       [ 7,  6,  5,  4],\n",
              "       [ 3,  2,  1,  0]])"
            ]
          },
          "metadata": {},
          "execution_count": 70
        }
      ]
    },
    {
      "cell_type": "markdown",
      "metadata": {
        "id": "o3HKIKlP15Ro"
      },
      "source": [
        "### <a name='5'></a> Ćwiczenie 25\n",
        "Podaną poniżej tablicę numpy:\n",
        "\n",
        "```\n",
        "array([[1., 1., 1., 1.],\n",
        "       [1., 1., 1., 1.],\n",
        "       [1., 1., 1., 1.],\n",
        "       [1., 1., 1., 1.]])\n",
        "```\n",
        "Przekształć na tablicę:\n",
        "\n",
        "\n",
        "```\n",
        "array([[0., 0., 0., 0., 0., 0.],\n",
        "       [0., 1., 1., 1., 1., 0.],\n",
        "       [0., 1., 1., 1., 1., 0.],\n",
        "       [0., 1., 1., 1., 1., 0.],\n",
        "       [0., 1., 1., 1., 1., 0.],\n",
        "       [0., 0., 0., 0., 0., 0.]])\n",
        "```\n",
        "__Wskazówka:__ Użyj funkcji _np.pad()_.\n",
        "\n",
        "\n",
        "\n"
      ]
    },
    {
      "cell_type": "code",
      "metadata": {
        "id": "enLY_Qz4qGdJ",
        "colab": {
          "base_uri": "https://localhost:8080/"
        },
        "outputId": "df8fc28c-76e5-4766-b16e-3001c6f4d392"
      },
      "source": [
        "A = np.arange(0, 16, dtype=float).reshape(4, -1)\n",
        "A.fill(1)\n",
        "B = np.pad(A, 1)\n",
        "print(B)"
      ],
      "execution_count": null,
      "outputs": [
        {
          "output_type": "stream",
          "name": "stdout",
          "text": [
            "[[0. 0. 0. 0. 0. 0.]\n",
            " [0. 1. 1. 1. 1. 0.]\n",
            " [0. 1. 1. 1. 1. 0.]\n",
            " [0. 1. 1. 1. 1. 0.]\n",
            " [0. 1. 1. 1. 1. 0.]\n",
            " [0. 0. 0. 0. 0. 0.]]\n"
          ]
        }
      ]
    },
    {
      "cell_type": "markdown",
      "metadata": {
        "id": "PunXd_Ey16so"
      },
      "source": [
        "### <a name='6'></a> Ćwiczenie 26\n",
        "Podaną poniżej tablicę numpy:\n",
        "\n",
        "```\n",
        "array([[0, 0, 0, 0, 0, 0],\n",
        "       [0, 0, 0, 0, 0, 0],\n",
        "       [0, 0, 0, 0, 0, 0],\n",
        "       [0, 0, 0, 0, 0, 0],\n",
        "       [0, 0, 0, 0, 0, 0],\n",
        "       [0, 0, 0, 0, 0, 0]])\n",
        "```\n",
        "Przekształć na tablicę:\n",
        "\n",
        "\n",
        "```\n",
        "array([[10,  0, 10,  0, 10,  0],\n",
        "       [ 5,  0,  5,  0,  5,  0],\n",
        "       [10,  0, 10,  0, 10,  0],\n",
        "       [ 5,  0,  5,  0,  5,  0],\n",
        "       [10,  0, 10,  0, 10,  0],\n",
        "       [ 5,  0,  5,  0,  5,  0]])\n",
        "```\n",
        "__Wskazówka:__ Użyj operatora wycinania oraz przypisz odpowiednie wartości.\n",
        "\n",
        "\n",
        "\n"
      ]
    },
    {
      "cell_type": "code",
      "metadata": {
        "id": "xOVKpjvMr7bX",
        "colab": {
          "base_uri": "https://localhost:8080/"
        },
        "outputId": "fcfff491-ca8b-4a00-9f11-2576208684f8"
      },
      "source": [
        "X = np.zeros((6, 6), dtype=int)\n",
        "X[::2, ::2] = 10\n",
        "X[1::2, ::2] = 5\n",
        "print(X)"
      ],
      "execution_count": null,
      "outputs": [
        {
          "output_type": "stream",
          "name": "stdout",
          "text": [
            "[[10  0 10  0 10  0]\n",
            " [ 5  0  5  0  5  0]\n",
            " [10  0 10  0 10  0]\n",
            " [ 5  0  5  0  5  0]\n",
            " [10  0 10  0 10  0]\n",
            " [ 5  0  5  0  5  0]]\n"
          ]
        }
      ]
    },
    {
      "cell_type": "markdown",
      "metadata": {
        "id": "hOhqDRz618Tx"
      },
      "source": [
        "### <a name='7'></a> Ćwiczenie 27\n",
        "Połącz podane poniżej tablice $A$ oraz $B$ w jedną.\n",
        "\n",
        "\n",
        "```\n",
        "A = np.arange(12).reshape(-1, 4)\n",
        "B = np.array([[4, 3, 7, 2],\n",
        "              [0, 5, 2, 6]])\n",
        "```\n",
        "\n",
        "\n",
        "\n",
        "\n",
        "__Oczekiwany rezultat:__\n",
        "\n",
        "\n",
        "```\n",
        "array([[ 0,  1,  2,  3],\n",
        "       [ 4,  5,  6,  7],\n",
        "       [ 8,  9, 10, 11],\n",
        "       [ 4,  3,  7,  2],\n",
        "       [ 0,  5,  2,  6]])\n",
        "```\n",
        "__Wskazówka:__ Użyj funkcji _np.append()_.\n"
      ]
    },
    {
      "cell_type": "code",
      "metadata": {
        "id": "CCHfKU4Y3Z-X",
        "colab": {
          "base_uri": "https://localhost:8080/"
        },
        "outputId": "f7c140ba-d258-42c1-bb55-8431222d3a6f"
      },
      "source": [
        "A = np.arange(12).reshape(-1, 4)\n",
        "B = np.array([[4, 3, 7, 2],\n",
        "              [0, 5, 2, 6]])\n",
        "np.concatenate((A, B))"
      ],
      "execution_count": null,
      "outputs": [
        {
          "output_type": "execute_result",
          "data": {
            "text/plain": [
              "array([[ 0,  1,  2,  3],\n",
              "       [ 4,  5,  6,  7],\n",
              "       [ 8,  9, 10, 11],\n",
              "       [ 4,  3,  7,  2],\n",
              "       [ 0,  5,  2,  6]])"
            ]
          },
          "metadata": {},
          "execution_count": 62
        }
      ]
    },
    {
      "cell_type": "markdown",
      "metadata": {
        "id": "TXUd_4631-gw"
      },
      "source": [
        "### <a name='8'></a> Ćwiczenie 28\n",
        "Z podanych poniżej tablic $A$ i $B$ wydobądź elementy wspólne (przecięcie) tablic.\n",
        "\n",
        "```\n",
        "A = np.arange(8).reshape(-1, 4)\n",
        "B = np.array([[9, 10, 11, 3],\n",
        "              [2, 8, 0, 9]])      \n",
        "```\n",
        "\n",
        "\n",
        "\n",
        "__Wskazówka:__ Użyj funkcji _np.intersect1d()_."
      ]
    },
    {
      "cell_type": "code",
      "metadata": {
        "id": "pgvyad4UCI6Q",
        "colab": {
          "base_uri": "https://localhost:8080/"
        },
        "outputId": "85234b9e-5037-4be4-83d3-98cb97ba24c3"
      },
      "source": [
        "A = np.arange(8).reshape(-1, 4)\n",
        "B = np.array([[9, 10, 11, 3],\n",
        "              [2, 8, 0, 9]])\n",
        "np.intersect1d(A, B)"
      ],
      "execution_count": null,
      "outputs": [
        {
          "output_type": "execute_result",
          "data": {
            "text/plain": [
              "array([0, 2, 3])"
            ]
          },
          "metadata": {},
          "execution_count": 64
        }
      ]
    },
    {
      "cell_type": "markdown",
      "metadata": {
        "id": "tgI6xEn-2AQo"
      },
      "source": [
        "### <a name='9'></a> Ćwiczenie 29\n",
        "Podana jest poniższa tablica numpy $A$.\n",
        "Znajdź unikalne wartości tej tablicy.\n",
        "\n",
        "\n",
        "```\n",
        "A = np.array([[5, 1, 2, 1, 2],\n",
        "              [9, 1, 9, 7, 5],\n",
        "              [4, 1, 5, 7, 9]])\n",
        "```\n",
        "\n",
        "\n",
        "__Wskazówka:__ Użyj funkcji _np.unique()_."
      ]
    },
    {
      "cell_type": "code",
      "metadata": {
        "id": "h3Q6RADIELkH",
        "colab": {
          "base_uri": "https://localhost:8080/"
        },
        "outputId": "d7fff576-0e86-424d-9e5b-3dc2aae4198f"
      },
      "source": [
        "A = np.array([[5, 1, 2, 1, 2],\n",
        "              [9, 1, 9, 7, 5],\n",
        "              [4, 1, 5, 7, 9]])\n",
        "np.unique(A)"
      ],
      "execution_count": null,
      "outputs": [
        {
          "output_type": "execute_result",
          "data": {
            "text/plain": [
              "array([1, 2, 4, 5, 7, 9])"
            ]
          },
          "metadata": {},
          "execution_count": 65
        }
      ]
    },
    {
      "cell_type": "markdown",
      "metadata": {
        "id": "wxhpf-uq2B1I"
      },
      "source": [
        "### <a name='10'></a> Ćwiczenie 30\n",
        "Podana jest poniższa tablica:\n",
        "\n",
        "\n",
        "```\n",
        "A = np.array([[0.4, 0.3, 0.3],\n",
        "              [0.1, 0.1, 0.8],\n",
        "              [0.2, 0.5, 0.3]])\n",
        "```\n",
        "\n",
        "\n",
        "\n",
        "Zwróć indeksy na których stoją maksymalne wartości dla danego wiersza.\n",
        "\n",
        "__Wskazówka:__ Użyj funkcji _np.argmax()_."
      ]
    },
    {
      "cell_type": "code",
      "metadata": {
        "id": "YcQFRYUyFWbY",
        "colab": {
          "base_uri": "https://localhost:8080/"
        },
        "outputId": "a9fbed48-a531-4f40-fe4f-0e6f9f32d3fa"
      },
      "source": [
        "A = np.array([[0.4, 0.3, 0.3],\n",
        "              [0.1, 0.1, 0.8],\n",
        "              [0.2, 0.5, 0.3]])\n",
        "np.argmax(A, axis=1)"
      ],
      "execution_count": null,
      "outputs": [
        {
          "output_type": "execute_result",
          "data": {
            "text/plain": [
              "array([0, 2, 1])"
            ]
          },
          "metadata": {},
          "execution_count": 71
        }
      ]
    }
  ]
}