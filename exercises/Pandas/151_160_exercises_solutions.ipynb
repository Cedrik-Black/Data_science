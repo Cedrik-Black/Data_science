{
  "nbformat": 4,
  "nbformat_minor": 0,
  "metadata": {
    "colab": {
      "provenance": [],
      "include_colab_link": true
    },
    "kernelspec": {
      "name": "python3",
      "display_name": "Python 3"
    }
  },
  "cells": [
    {
      "cell_type": "markdown",
      "metadata": {
        "id": "view-in-github",
        "colab_type": "text"
      },
      "source": [
        "<a href=\"https://colab.research.google.com/github/Cedrik-Black/Data_science/blob/master/exercises/Pandas/151_160_exercises_solutions.ipynb\" target=\"_parent\"><img src=\"https://colab.research.google.com/assets/colab-badge.svg\" alt=\"Open In Colab\"/></a>"
      ]
    },
    {
      "cell_type": "markdown",
      "metadata": {
        "id": "WLEgCW5F1hho"
      },
      "source": [
        "## Pandas\n",
        "\n",
        "### Spis treści:\n",
        "* [Import biblioteki](#0)\n",
        "* [Ćwiczenie 151](#1)\n",
        "* [Ćwiczenie 152](#2)\n",
        "* [Ćwiczenie 153](#3)\n",
        "* [Ćwiczenie 154](#4)\n",
        "* [Ćwiczenie 155](#5)\n",
        "* [Ćwiczenie 156](#6)\n",
        "* [Ćwiczenie 157](#7)\n",
        "* [Ćwiczenie 158](#8)\n",
        "* [Ćwiczenie 159](#9)\n",
        "* [Ćwiczenie 160](#10)"
      ]
    },
    {
      "cell_type": "markdown",
      "metadata": {
        "id": "zeLOLmTj1kBM"
      },
      "source": [
        "### <a name='0'></a>Import biblioteki"
      ]
    },
    {
      "cell_type": "code",
      "metadata": {
        "id": "HXMB7SMe1Wnz",
        "outputId": "881b1df8-3c7a-4bb0-f7d0-78f6b5cc9bb6",
        "colab": {
          "base_uri": "https://localhost:8080/",
          "height": 33
        }
      },
      "source": [
        "import numpy as np\n",
        "import pandas as pd\n",
        "\n",
        "np.random.seed(42)\n",
        "np.__version__"
      ],
      "execution_count": null,
      "outputs": [
        {
          "output_type": "execute_result",
          "data": {
            "text/plain": [
              "'1.18.2'"
            ]
          },
          "metadata": {
            "tags": []
          },
          "execution_count": 1
        }
      ]
    },
    {
      "cell_type": "markdown",
      "metadata": {
        "id": "cyc70pMe1oCg"
      },
      "source": [
        "### <a name='1'></a> Ćwiczenie 151\n",
        "Podany jest poniższy obiekt _DataFrame:_\n",
        "\n",
        "```\n",
        "df = pd.DataFrame(np.random.rand(10, 4), columns=list('ABCD'))\n",
        "```\n",
        "\n"
      ]
    },
    {
      "cell_type": "code",
      "metadata": {
        "id": "bWjQeELjwg2x"
      },
      "source": [
        "df = pd.DataFrame(np.random.rand(10, 4), columns=list('ABCD'))\n",
        "df"
      ],
      "execution_count": null,
      "outputs": []
    },
    {
      "cell_type": "markdown",
      "metadata": {
        "id": "dHfnUR5jxzxe"
      },
      "source": [
        "Wytnij wiersze obiektu _df_ dla których kolumna _C_ jest większa niż 0.8.  \n",
        "Pomocniczo: Analogicznie jak w jezyku SQL poniższe zapytanie:\n",
        "\n",
        "\n",
        "```\n",
        "SELECT * FROM df WHERE C > 0.8\n",
        "```\n",
        "\n"
      ]
    },
    {
      "cell_type": "code",
      "metadata": {
        "id": "hZkMl5_jxlG6",
        "outputId": "9cdf5ea2-35f4-427e-f197-a7d04c59e907",
        "colab": {
          "base_uri": "https://localhost:8080/",
          "height": 77
        }
      },
      "source": [
        "df.loc[df['C'] > 0.8]"
      ],
      "execution_count": null,
      "outputs": [
        {
          "output_type": "execute_result",
          "data": {
            "text/html": [
              "<div>\n",
              "<style scoped>\n",
              "    .dataframe tbody tr th:only-of-type {\n",
              "        vertical-align: middle;\n",
              "    }\n",
              "\n",
              "    .dataframe tbody tr th {\n",
              "        vertical-align: top;\n",
              "    }\n",
              "\n",
              "    .dataframe thead th {\n",
              "        text-align: right;\n",
              "    }\n",
              "</style>\n",
              "<table border=\"1\" class=\"dataframe\">\n",
              "  <thead>\n",
              "    <tr style=\"text-align: right;\">\n",
              "      <th></th>\n",
              "      <th>A</th>\n",
              "      <th>B</th>\n",
              "      <th>C</th>\n",
              "      <th>D</th>\n",
              "    </tr>\n",
              "  </thead>\n",
              "  <tbody>\n",
              "    <tr>\n",
              "      <th>8</th>\n",
              "      <td>0.065052</td>\n",
              "      <td>0.948886</td>\n",
              "      <td>0.965632</td>\n",
              "      <td>0.808397</td>\n",
              "    </tr>\n",
              "  </tbody>\n",
              "</table>\n",
              "</div>"
            ],
            "text/plain": [
              "          A         B         C         D\n",
              "8  0.065052  0.948886  0.965632  0.808397"
            ]
          },
          "metadata": {
            "tags": []
          },
          "execution_count": 3
        }
      ]
    },
    {
      "cell_type": "markdown",
      "metadata": {
        "id": "J9pY1rtr1sC0"
      },
      "source": [
        "### <a name='2'></a> Ćwiczenie 152\n",
        "\n",
        "Wytnij wiersze obiektu _df_ dla których kolumna _C_ jest większa niż 0.3 oraz kolumna _D_ jest mniejsza niż 0.7."
      ]
    },
    {
      "cell_type": "code",
      "metadata": {
        "id": "X-Pn6X-CyjC4"
      },
      "source": [
        "df.loc[(df['C'] > 0.3) & (df['D'] < 0.7)]"
      ],
      "execution_count": null,
      "outputs": []
    },
    {
      "cell_type": "markdown",
      "metadata": {
        "id": "XQLYT2m11wVG"
      },
      "source": [
        "### <a name='3'></a> Ćwiczenie 153\n",
        "Dokonaj iteracji po pierwszych pięciu wierszach obiektu _df_. Każdy wiersz wydrukuj do konsoli.\n",
        "\n",
        "__Wskazówka:__ Wykorzystaj funkcję _pd.DataFrame.iterrows()_."
      ]
    },
    {
      "cell_type": "code",
      "metadata": {
        "id": "87L3OusazWgG"
      },
      "source": [
        "for index, row in df.head().iterrows():\n",
        "    print(row)"
      ],
      "execution_count": null,
      "outputs": []
    },
    {
      "cell_type": "markdown",
      "metadata": {
        "id": "4xTKSUzg10MK"
      },
      "source": [
        "### <a name='4'></a> Ćwiczenie 154\n",
        "Ustaw wartość w wierszu o indeksie 3 dla kolumny B jako _np.nan_.\n",
        "Wykorzystaj _df.iloc_."
      ]
    },
    {
      "cell_type": "code",
      "metadata": {
        "id": "Ji4FS2866kSE"
      },
      "source": [
        "df.iloc[3, 1] = np.nan"
      ],
      "execution_count": null,
      "outputs": []
    },
    {
      "cell_type": "markdown",
      "metadata": {
        "id": "6cViISQm6_xB"
      },
      "source": [
        "Ustaw wartość w wierszu o indeksie 8 dla kolumny D jako _np.nan_. Wykorzystaj _df.loc_."
      ]
    },
    {
      "cell_type": "code",
      "metadata": {
        "id": "77L0q1HA64UJ"
      },
      "source": [
        "df.loc[8, 'D'] = np.nan"
      ],
      "execution_count": null,
      "outputs": []
    },
    {
      "cell_type": "markdown",
      "metadata": {
        "id": "dAu6FE2A7OoF"
      },
      "source": [
        "Wyświetl obiekt _df_."
      ]
    },
    {
      "cell_type": "code",
      "metadata": {
        "id": "PF7W9djK7Nka"
      },
      "source": [
        "df"
      ],
      "execution_count": null,
      "outputs": []
    },
    {
      "cell_type": "markdown",
      "metadata": {
        "id": "o3HKIKlP15Ro"
      },
      "source": [
        "### <a name='5'></a> Ćwiczenie 155\n",
        "Usuń wszystkie wiersze z obiektu _df_ zawierające braki danych i przypisz do zmiennej _df1_. Wyświetl zmienną _df1_."
      ]
    },
    {
      "cell_type": "code",
      "metadata": {
        "id": "ykYD4qGj8JjL"
      },
      "source": [
        "df1 = df.dropna()\n",
        "df1"
      ],
      "execution_count": null,
      "outputs": []
    },
    {
      "cell_type": "markdown",
      "metadata": {
        "id": "PunXd_Ey16so"
      },
      "source": [
        "### <a name='6'></a> Ćwiczenie 156\n",
        "Zauważ, że indeks po usunięciu dwóch wierszy w obiekcie _df1_ nie jest po kolei. Zresetuj indeks, aby wprowadzić kolejność (nie dodawaj nowej kolumny, tylko zreseuj indeks). Wyświetl zmienną _df1_."
      ]
    },
    {
      "cell_type": "code",
      "metadata": {
        "id": "qWKKJCnN8sSJ"
      },
      "source": [
        "df1 = df1.reset_index(drop=True)\n",
        "df1"
      ],
      "execution_count": null,
      "outputs": []
    },
    {
      "cell_type": "markdown",
      "metadata": {
        "id": "hOhqDRz618Tx"
      },
      "source": [
        "### <a name='7'></a> Ćwiczenie 157\n",
        "Wracamy do obiektu _df_. Wyznacz liczbę brakujących elementów w obiekcie _df_ dla każdej kolumny."
      ]
    },
    {
      "cell_type": "code",
      "metadata": {
        "id": "Q2R4qted9F2W"
      },
      "source": [
        "df.isnull().sum()"
      ],
      "execution_count": null,
      "outputs": []
    },
    {
      "cell_type": "markdown",
      "metadata": {
        "id": "TXUd_4631-gw"
      },
      "source": [
        "### <a name='8'></a> Ćwiczenie 158\n",
        "Uzupełnij brakujące wartości wartością 0 i przypisz do zmiennej _df_."
      ]
    },
    {
      "cell_type": "code",
      "metadata": {
        "id": "xEtz0Vgx9Y3h"
      },
      "source": [
        "df = df.fillna(0)\n",
        "df"
      ],
      "execution_count": null,
      "outputs": []
    },
    {
      "cell_type": "markdown",
      "metadata": {
        "id": "tgI6xEn-2AQo"
      },
      "source": [
        "### <a name='9'></a> Ćwiczenie 159\n",
        "Zamień kolejność kolumn w obiekcie _df_ na podaną poniżej:\n",
        "* D, A, B, C  \n",
        "\n",
        "i przypisz do zmiennej _df_."
      ]
    },
    {
      "cell_type": "code",
      "metadata": {
        "id": "xE4dg1bg9l2e"
      },
      "source": [
        "df = df[['D', 'A', 'B', 'C']]\n",
        "df"
      ],
      "execution_count": null,
      "outputs": []
    },
    {
      "cell_type": "markdown",
      "metadata": {
        "id": "wxhpf-uq2B1I"
      },
      "source": [
        "### <a name='10'></a> Ćwiczenie 160\n",
        "Usuń kolumnę $D$ z obiektu _df_."
      ]
    },
    {
      "cell_type": "code",
      "metadata": {
        "id": "f42DsNYyCPW6"
      },
      "source": [
        "# Rozwiązanie 1\n",
        "df.drop('D', axis=1)"
      ],
      "execution_count": null,
      "outputs": []
    },
    {
      "cell_type": "code",
      "metadata": {
        "id": "YFc0KW6URsuc"
      },
      "source": [
        "# Rozwiązanie 2\n",
        "del df['D']\n",
        "df"
      ],
      "execution_count": null,
      "outputs": []
    }
  ]
}